{
 "cells": [
  {
   "cell_type": "code",
   "execution_count": null,
   "metadata": {
    "colab": {
     "base_uri": "https://localhost:8080/"
    },
    "id": "np_jZLrjrTZ8",
    "outputId": "b8aca14e-9dbc-4f81-d9fe-f4e6cccdd062"
   },
   "outputs": [],
   "source": [
    "import numpy as np\n",
    "import pandas as pd\n",
    "import matplotlib.pylab as plt\n",
    "plt.rcParams['figure.figsize'] = [12, 12]\n",
    "\n",
    "import statsmodels.api as sm\n",
    "import seaborn as sns"
   ]
  },
  {
   "cell_type": "markdown",
   "metadata": {
    "id": "vjA2EdB9wlEd"
   },
   "source": [
    "Документация statsmodels https://www.statsmodels.org/stable/index.html"
   ]
  },
  {
   "cell_type": "markdown",
   "metadata": {
    "id": "Lu_LS8yBuYxG"
   },
   "source": [
    "## Цены на недвижимость в Бостоне (набор данных)\n",
    "\n",
    "Набор данных https://www.cs.toronto.edu/~delve/data/boston/bostonDetail.html\n",
    "\n",
    "Плейбук: http://www.science.smith.edu/~jcrouser/SDS293/labs/lab2-py.html"
   ]
  },
  {
   "cell_type": "code",
   "execution_count": null,
   "metadata": {
    "colab": {
     "base_uri": "https://localhost:8080/"
    },
    "id": "-UZz9rIWtDaU",
    "outputId": "6a1cd023-ed28-4a6d-8184-7c5db02597fe"
   },
   "outputs": [],
   "source": [
    "!wget http://www.science.smith.edu/~jcrouser/SDS293/data/Boston.csv"
   ]
  },
  {
   "cell_type": "code",
   "execution_count": null,
   "metadata": {
    "colab": {
     "base_uri": "https://localhost:8080/"
    },
    "id": "6jBJP5detISb",
    "outputId": "05b0433f-6a38-4edd-d080-58cd62223020"
   },
   "outputs": [],
   "source": [
    "!head Boston.csv"
   ]
  },
  {
   "cell_type": "code",
   "execution_count": null,
   "metadata": {
    "colab": {
     "base_uri": "https://localhost:8080/",
     "height": 204
    },
    "id": "hi3Y8MgKuYHS",
    "outputId": "c5b93d13-b817-4f3c-ab93-6e8126a4e544"
   },
   "outputs": [],
   "source": [
    "df = pd.read_csv('http://www.science.smith.edu/~jcrouser/SDS293/data/Boston.csv', index_col=0)\n",
    "df.head()"
   ]
  },
  {
   "cell_type": "code",
   "execution_count": null,
   "metadata": {
    "colab": {
     "base_uri": "https://localhost:8080/",
     "height": 297
    },
    "id": "v0AQ1BA7rmT7",
    "outputId": "31eee5f4-a413-4d3a-8e4a-928f72f12aaf"
   },
   "outputs": [],
   "source": [
    "df.describe()"
   ]
  },
  {
   "cell_type": "code",
   "execution_count": null,
   "metadata": {
    "colab": {
     "base_uri": "https://localhost:8080/",
     "height": 1000
    },
    "id": "dqha-KNXwpja",
    "outputId": "17554e8f-c984-49ce-d2f2-af85d0b5f6bb"
   },
   "outputs": [],
   "source": [
    "plt.rcParams['figure.figsize'] = [12, 12]\n",
    "df.hist()"
   ]
  },
  {
   "cell_type": "code",
   "execution_count": null,
   "metadata": {
    "colab": {
     "base_uri": "https://localhost:8080/",
     "height": 419
    },
    "id": "uJBgQkTO2sQM",
    "outputId": "818a5f16-59fd-4c49-e886-c986aa302944"
   },
   "outputs": [],
   "source": [
    "df[['crim','medv']]"
   ]
  },
  {
   "cell_type": "markdown",
   "metadata": {
    "id": "emIJC6FO3AlX"
   },
   "source": [
    "**Sample mean:**\n",
    "\n",
    "$$E[X] = \\bar{X_n}=\\frac{1}{n}\\Sigma_{i=1}^n X_i$$\n",
    "\n",
    "**Sample variance:**\n",
    "\n",
    "$$Var[X] = s^2_{n-1}= E(X-E[X])^2= \\frac{1}{n-1}\\Sigma (X_i-\\bar{X_n})^2$$"
   ]
  },
  {
   "cell_type": "code",
   "execution_count": null,
   "metadata": {
    "colab": {
     "base_uri": "https://localhost:8080/"
    },
    "id": "k0HII_LjLUdZ",
    "outputId": "97e6952a-fb3a-49ef-81d2-166854e13a5e"
   },
   "outputs": [],
   "source": [
    "N=df['crim'].size\n",
    "mean_crim = df['crim'].sum()/N\n",
    "mean_crim"
   ]
  },
  {
   "cell_type": "code",
   "execution_count": null,
   "metadata": {
    "colab": {
     "base_uri": "https://localhost:8080/"
    },
    "id": "62HBmzRVLfVL",
    "outputId": "b27a52c2-566f-475d-f453-e782f3701eb9"
   },
   "outputs": [],
   "source": [
    "df['crim'].mean()"
   ]
  },
  {
   "cell_type": "code",
   "execution_count": null,
   "metadata": {
    "colab": {
     "base_uri": "https://localhost:8080/"
    },
    "id": "HkTP1ZutL6_e",
    "outputId": "22a46cdc-471a-4bc0-9f22-272571e7c3db"
   },
   "outputs": [],
   "source": [
    "var_crim = 1/(N-1)*((df['crim'] - mean_crim)**2).sum()\n",
    "var_crim"
   ]
  },
  {
   "cell_type": "code",
   "execution_count": null,
   "metadata": {
    "colab": {
     "base_uri": "https://localhost:8080/"
    },
    "id": "1vR-jq__MSX-",
    "outputId": "50164c41-0d7e-4ac5-e635-9c27178356d8"
   },
   "outputs": [],
   "source": [
    "df['crim'].var()"
   ]
  },
  {
   "cell_type": "markdown",
   "metadata": {
    "id": "k4nF94FCMpEy"
   },
   "source": [
    "**Sample correlation:**\n",
    "\n",
    "$$\\rho = \\frac{Cov(X,Y)}{\\sqrt{Var(X)Var(Y)}} = \\frac{E[(X-E[X])(Y-E[Y])]}{s_X s_Y} = \\frac{\\frac{1}{n-1}\\Sigma_{n=1}^n((X-\\bar{X_n})(Y-\\bar{Y_n}))}{s_X s_Y} $$"
   ]
  },
  {
   "cell_type": "code",
   "execution_count": null,
   "metadata": {
    "id": "zfZ0N2uvP5dB"
   },
   "outputs": [],
   "source": [
    "mean_medv=df['medv'].mean()\n",
    "var_medv=df['medv'].var()"
   ]
  },
  {
   "cell_type": "code",
   "execution_count": null,
   "metadata": {
    "colab": {
     "base_uri": "https://localhost:8080/"
    },
    "id": "4TrHYn9wMopP",
    "outputId": "1f3db43d-b4e6-4548-e74b-c312a3e9b7d2"
   },
   "outputs": [],
   "source": [
    "1/(N-1)*((df['crim'] - mean_crim)*(df['medv'] - mean_medv)).sum()*1/(np.sqrt(var_crim*var_medv))"
   ]
  },
  {
   "cell_type": "code",
   "execution_count": null,
   "metadata": {
    "colab": {
     "base_uri": "https://localhost:8080/",
     "height": 111
    },
    "id": "5POludaGQxtB",
    "outputId": "06bfc463-d785-4482-ab57-4afd29fab450"
   },
   "outputs": [],
   "source": [
    "df[['crim','medv']].corr()"
   ]
  },
  {
   "cell_type": "code",
   "execution_count": null,
   "metadata": {
    "colab": {
     "base_uri": "https://localhost:8080/",
     "height": 483
    },
    "id": "sXKyQuSpw4e9",
    "outputId": "27d25c77-c560-4309-d153-a6b063271b13"
   },
   "outputs": [],
   "source": [
    "df.corr()"
   ]
  },
  {
   "cell_type": "code",
   "execution_count": null,
   "metadata": {
    "colab": {
     "base_uri": "https://localhost:8080/",
     "height": 721
    },
    "id": "djONUoR01h4i",
    "outputId": "be437d99-6978-47fa-baff-fb1f7f08723c"
   },
   "outputs": [],
   "source": [
    "import seaborn as sns\n",
    "sns.heatmap(df.corr(),\n",
    "        xticklabels=df.corr().columns,\n",
    "        yticklabels=df.corr().columns)"
   ]
  },
  {
   "cell_type": "markdown",
   "metadata": {
    "id": "1pCkcbbdfdVQ"
   },
   "source": [
    "## Простая линейная регрессия (Simple Linear Regression)\n",
    "\n",
    "Функция регрессии (regression function):\n",
    "\n",
    "$$r(x)=E[Y|X=x]=\\int y f_{Y|X}(y|x)dx$$\n",
    "\n",
    "Простая линейная регрессия предполагает, что $X_i$ одномерный, а функция регрессии имеет линейный вид:\n",
    "\n",
    "$$r(x)=\\beta_0+\\beta_1 x$$\n",
    "\n",
    "Тогда модель простой линейной регрессии будет иметь вид:\n",
    "\n",
    "$$Y_i=\\beta_0 + \\beta_1 X_i + \\epsilon_i$$\n",
    "\n",
    "где $Y_i$ - это \"зависимая переменная\" _(predictor variable, regressor, covariate, manipulated variable, \"explanatory variable\", exposure variable)_, $X_i$ - \"независимая переменная\" _(Explanatory variable, independent variable, exogenous)_, $\\epsilon_i$ - \"переменная ошибки\" _(error term, disturbance term, noise)_ неизуветсная случайная величина с математическим ожиданием $E[\\epsilon_i|X_i] = 0$ и константной дисперсией $Var(\\epsilon_i|X_i)=\\sigma^2$. Кроме этого, все $\\epsilon_i$ независимо распределены (имеют $Cov(\\epsilon_i,\\epsilon_j)=0$ для всех $i$,$j$ таких что $i\\neq j$).\n",
    "\n",
    "Допустим, что $\\hat{\\beta_0}$ и $\\hat{\\beta_1}$ это оценка неизвестных параметров функции регрессии $\\beta_0$ и $\\beta_1$, тогда подобранная прямая будет иметь вид:\n",
    "\n",
    "$$\\hat{r}(x)=\\hat{\\beta_0} + \\hat{\\beta_1}x$$\n",
    "\n",
    "Подобранные (прогнозные) значения будут выражены $\\hat{Y_i}=\\hat{r}(X_i)$, а остаточная ошибка имеет вид:\n",
    "\n",
    "$$\\hat{\\epsilon_i}=Y_i-\\hat{Y_i}=Y_i-(\\hat{\\beta_0} + \\hat{\\beta_1}X_i)$$\n",
    "\n",
    "\n",
    "Остаточная сумма квадтратов (Residual sum of squares, **RSS**) определяется как:\n",
    "\n",
    "$$RSS= \\Sigma_{i=1}^n \\hat{\\epsilon_i}^2$$\n",
    "\n",
    "Метод наименьших квадратов (least squares estimates) это такие знаяения $\\hat{\\beta_0}$ и $\\hat{\\beta_1}$ который минимизирует $RSS= \\Sigma_{i=1}^n \\hat{\\epsilon_i}$. Оценка методом наменьших квадратов иммет токчную аналитическую форму:\n",
    "\n",
    "$$\\hat{\\beta_1}=\\frac{\\Sigma_{i=1}^n (X_i-\\bar{X_n})(Y_i-\\bar{Y_i})}{\\Sigma_{i=1}^n(X_i-\\bar{X_n})^2}=\\frac{Cov(X,Y)}{Var(X)}=\\rho_{X,Y} \\frac{\\sigma_Y}{\\sigma_X}$$\n",
    "\n",
    "$$\\hat{\\beta_0}=\\bar{Y_n}-\\hat{\\beta_1} \\bar{X_n}$$\n",
    "\n",
    "И несмещённая оценка дисперсии:\n",
    "\n",
    "$$\\hat{\\sigma}^2=\\frac{1}{n-2} \\Sigma_{i=1}^n \\hat{\\epsilon_i}^2$$\n",
    "\n",
    "\n",
    "\n"
   ]
  },
  {
   "cell_type": "markdown",
   "metadata": {
    "id": "ZBdkz9JJw0Oz"
   },
   "source": [
    "Простая линейная регрессия на примере $$medv_i=\\hat{\\beta_0}+\\hat{\\beta_1}crim_i + \\epsilon_i$$"
   ]
  },
  {
   "cell_type": "code",
   "execution_count": null,
   "metadata": {
    "id": "qXjhE6zk1Kfn"
   },
   "outputs": [],
   "source": [
    "plt.rcParams['figure.figsize'] = [12, 8]"
   ]
  },
  {
   "cell_type": "code",
   "execution_count": null,
   "metadata": {
    "colab": {
     "base_uri": "https://localhost:8080/",
     "height": 514
    },
    "id": "B8mQ7JVbxL7J",
    "outputId": "a624d24f-1f2e-422f-b3d9-5a32ac7ec0cb"
   },
   "outputs": [],
   "source": [
    "df[['crim','medv']].plot.scatter(x='crim',\n",
    "...                              y='medv',\n",
    "...                              c='DarkBlue')"
   ]
  },
  {
   "cell_type": "code",
   "execution_count": null,
   "metadata": {
    "colab": {
     "base_uri": "https://localhost:8080/",
     "height": 444
    },
    "id": "OL7XDbwE18Nt",
    "outputId": "19f60228-a116-426c-a60b-e80258f17c7a"
   },
   "outputs": [],
   "source": [
    "lm = sm.OLS.from_formula('medv ~ crim', df)\n",
    "result = lm.fit()\n",
    "result.summary()"
   ]
  },
  {
   "cell_type": "markdown",
   "metadata": {
    "id": "OwQQWlh_7iGO"
   },
   "source": [
    "$$R^2 = 1 - \\frac{\\Sigma_{i=1}^n (Y_i - \\hat{Y}_i)^2}{\\Sigma_{i=1}^n (Y_i - \\bar{Y}_i)^2}=1 - \\frac{RSS}{TSS}$$\n",
    "\n"
   ]
  },
  {
   "cell_type": "markdown",
   "metadata": {
    "id": "6X0L3z4JArbh"
   },
   "source": [
    "$$\\hat{\\beta_1}=\\frac{\\Sigma_{i=1}^n (X_i-\\bar{X_n})(Y_i-\\bar{Y_i})}{\\Sigma_{i=1}^n(X_i-\\bar{X_n})^2}=\\frac{Cov(X,Y)}{Var(X)}=\\rho_{X,Y} \\frac{\\sigma_Y}{\\sigma_X}$$"
   ]
  },
  {
   "cell_type": "code",
   "execution_count": null,
   "metadata": {
    "colab": {
     "base_uri": "https://localhost:8080/"
    },
    "id": "D6eeDYBYyCAK",
    "outputId": "7173dfd0-8321-49e3-8b7a-06b1763a2e9b"
   },
   "outputs": [],
   "source": [
    "df[['crim','medv']].corr().iloc[0,1]*(df['medv'].std()/df['crim'].std())"
   ]
  },
  {
   "cell_type": "code",
   "execution_count": null,
   "metadata": {
    "colab": {
     "base_uri": "https://localhost:8080/",
     "height": 514
    },
    "id": "2ZpHD3rRAVK3",
    "outputId": "9861c129-6244-425e-88d5-3f67e7564e12"
   },
   "outputs": [],
   "source": [
    "sns.regplot(x='crim',y='medv',data=df)"
   ]
  },
  {
   "cell_type": "code",
   "execution_count": null,
   "metadata": {
    "colab": {
     "base_uri": "https://localhost:8080/",
     "height": 514
    },
    "id": "SjlxFxXQBO3Y",
    "outputId": "68b98776-cd31-47e3-99e9-69d0e00ec1f3"
   },
   "outputs": [],
   "source": [
    "df[['lstat','medv']].plot.scatter(x='lstat',\n",
    "...                              y='medv',\n",
    "...                              c='DarkBlue')"
   ]
  },
  {
   "cell_type": "code",
   "execution_count": null,
   "metadata": {
    "colab": {
     "base_uri": "https://localhost:8080/",
     "height": 444
    },
    "id": "7lVRNzPYBdsl",
    "outputId": "9bb2907f-df6d-43ff-de2c-32bbe00252b4"
   },
   "outputs": [],
   "source": [
    "lm = sm.OLS.from_formula('medv ~ lstat', df)\n",
    "result = lm.fit()\n",
    "result.summary()"
   ]
  },
  {
   "cell_type": "code",
   "execution_count": null,
   "metadata": {
    "colab": {
     "base_uri": "https://localhost:8080/",
     "height": 514
    },
    "id": "F9LaexLjBpyP",
    "outputId": "2f16e276-e5fb-4a73-a4f3-9cddd8c718dc"
   },
   "outputs": [],
   "source": [
    "sns.regplot(x='lstat',y='medv',data=df)"
   ]
  },
  {
   "cell_type": "markdown",
   "metadata": {
    "id": "73v0MnoPCwwo"
   },
   "source": [
    "## Линейная регрессия в общем виде (Multiple linear regression)\n",
    "\n",
    "Предположем, что одно наблюдение это не одномерное значение, а вектор $X_i \\in R^k$.\n",
    "\n",
    "Выразим все наши наши данные наблюдений в матричной форме:\n",
    "\n",
    "$$\\bf{X}=\\left[ \\begin{matrix} 1 & X_{11} & X_{12} & ... & X_{1k}\\\\ 1& X_{21} & X_{22} & ... & X_{2k} \\\\ ... & ... & ... & ... & ... \\\\ 1 & X_{n1} & X_{n2} & ... & X_{nk} \\end{matrix} \\right]$$\n",
    "\n",
    "Запишем зависимую переменную, коэффициенты регрессии и остаточной ошибки в виде векторов:\n",
    "\n",
    "$$\\bf{Y}=\\left[ \\begin{matrix} Y_1 \\\\ Y_2 \\\\ ... \\\\ Y_n \\end{matrix} \\right], \\bf{\\beta}=\\left[ \\begin{matrix} \\beta_0 \\\\ \\beta_1 \\\\ ... \\\\ \\beta_k \\end{matrix} \\right], \\bf{\\epsilon}=\\left[ \\begin{matrix} \\epsilon_1 \\\\ \\epsilon_2 \\\\ ... \\\\ \\epsilon_n \\end{matrix} \\right]$$\n",
    "\n",
    "Тогда модель линейной регрессии для многомерного случая будет иметь вид:\n",
    "\n",
    "$$Y = \\bf{X \\beta + \\epsilon}$$\n",
    "\n",
    "где $E[\\bf{\\epsilon}]=\\bf{0}$, $Var(\\epsilon_i|X_i)=\\sigma^2$, $Cov(\\epsilon_i,\\epsilon_j)=0$ для всех $i$,$j$ таких что $i\\neq j$\n",
    "\n",
    "Если матрица $\\bf{X^TX}$ размерностью $kxk$ имеет обратную матрицу, то оценка коэффициентов регрессии методом наименьших квадратов имеет вид:\n",
    "\n",
    "$$\\bf{\\hat{\\beta}=(X^TX)^{-1}X^TY}$$\n",
    "\n",
    "\n",
    "$$\\bf{\\hat{\\beta}} \\approx N(\\bf{\\beta,\\sigma^2(X^TX)^{-1}})$$\n",
    "\n",
    "$$\\hat{\\sigma}^2=\\frac{1}{n-k} \\Sigma_{i=1}^n \\hat{\\epsilon_i}^2$$\n",
    "\n"
   ]
  },
  {
   "cell_type": "code",
   "execution_count": null,
   "metadata": {
    "colab": {
     "base_uri": "https://localhost:8080/",
     "height": 419
    },
    "id": "rD-qDCETKnpv",
    "outputId": "19fe9d0d-665d-41e8-b536-fe9a58e865e3"
   },
   "outputs": [],
   "source": [
    "X = df.drop(columns='medv')\n",
    "X"
   ]
  },
  {
   "cell_type": "code",
   "execution_count": null,
   "metadata": {
    "colab": {
     "base_uri": "https://localhost:8080/"
    },
    "id": "17aMKZNOLCuo",
    "outputId": "ab2082db-2358-4977-a632-65b357b6e53e"
   },
   "outputs": [],
   "source": [
    "X = X.to_numpy()\n",
    "X = np.c_[np.ones(506), X]\n",
    "X"
   ]
  },
  {
   "cell_type": "code",
   "execution_count": null,
   "metadata": {
    "id": "yK7PtvMmLMxs"
   },
   "outputs": [],
   "source": [
    "Y = df['medv'].to_numpy()"
   ]
  },
  {
   "cell_type": "code",
   "execution_count": null,
   "metadata": {
    "colab": {
     "base_uri": "https://localhost:8080/"
    },
    "id": "vC_AG2odLS6f",
    "outputId": "9db0872f-2049-44fe-d933-d7ad5409eeda"
   },
   "outputs": [],
   "source": [
    "Betta = np.linalg.inv(X.T@X)@X.T@Y\n",
    "Betta"
   ]
  },
  {
   "cell_type": "code",
   "execution_count": null,
   "metadata": {
    "colab": {
     "base_uri": "https://localhost:8080/",
     "height": 730
    },
    "id": "biPTraBxB0WU",
    "outputId": "780b9a3d-07be-46a4-a727-2ef4bb84a760"
   },
   "outputs": [],
   "source": [
    "lm = sm.OLS.from_formula('medv ~ crim + zn + indus + chas + nox + rm + age + dis + rad + tax + ptratio + black + lstat', df)\n",
    "result = lm.fit()\n",
    "result.summary()"
   ]
  },
  {
   "cell_type": "code",
   "execution_count": null,
   "metadata": {
    "colab": {
     "base_uri": "https://localhost:8080/",
     "height": 80
    },
    "id": "oeeP-FvjKJC3",
    "outputId": "83bffc56-bdf3-43e0-d54b-381ddba7c6f9"
   },
   "outputs": [],
   "source": [
    "df_new_data = pd.DataFrame(np.array([[0, 0, 0 , 1, 0.4, 10, 0, 2, 20, 400, 15, 0, 0]]),\n",
    "                                    columns=['crim', 'zn', 'indus', 'chas', 'nox', 'rm', 'age', 'dis', 'rad', 'tax', 'ptratio', 'black', 'lstat'])\n",
    "df_new_data"
   ]
  },
  {
   "cell_type": "code",
   "execution_count": null,
   "metadata": {
    "colab": {
     "base_uri": "https://localhost:8080/"
    },
    "id": "P8Z98W3UX_Oa",
    "outputId": "c13d4795-766c-48e3-8991-d509430caae6"
   },
   "outputs": [],
   "source": [
    "result.predict(df_new_data)"
   ]
  },
  {
   "cell_type": "code",
   "execution_count": null,
   "metadata": {
    "colab": {
     "base_uri": "https://localhost:8080/",
     "height": 500
    },
    "id": "E6xriKXXWqJp",
    "outputId": "1fe7787e-a78b-42c3-87f5-6feea87b6e2b"
   },
   "outputs": [],
   "source": [
    "df['medv'].hist(bins=40)"
   ]
  },
  {
   "cell_type": "code",
   "execution_count": null,
   "metadata": {
    "id": "moUPnO2n70dW"
   },
   "outputs": [],
   "source": []
  },
  {
   "cell_type": "code",
   "execution_count": null,
   "metadata": {},
   "outputs": [],
   "source": []
  }
 ],
 "metadata": {
  "colab": {
   "name": "Lab_5_linear_regression.ipynb",
   "provenance": []
  },
  "kernelspec": {
   "display_name": "Python 3 (ipykernel)",
   "language": "python",
   "name": "python3"
  },
  "language_info": {
   "codemirror_mode": {
    "name": "ipython",
    "version": 3
   },
   "file_extension": ".py",
   "mimetype": "text/x-python",
   "name": "python",
   "nbconvert_exporter": "python",
   "pygments_lexer": "ipython3",
   "version": "3.11.4"
  }
 },
 "nbformat": 4,
 "nbformat_minor": 1
}
