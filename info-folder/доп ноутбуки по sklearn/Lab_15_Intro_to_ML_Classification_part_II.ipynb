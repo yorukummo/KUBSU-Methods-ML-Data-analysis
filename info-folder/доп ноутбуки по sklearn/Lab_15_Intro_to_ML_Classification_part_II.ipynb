{
  "nbformat": 4,
  "nbformat_minor": 0,
  "metadata": {
    "colab": {
      "name": "Lab_15_Intro_to_ML_Classification_part_II.ipynb",
      "provenance": []
    },
    "kernelspec": {
      "name": "python3",
      "display_name": "Python 3"
    },
    "language_info": {
      "name": "python"
    }
  },
  "cells": [
    {
      "cell_type": "markdown",
      "source": [
        "Видео лабораторной: https://youtu.be/lkiFy6LQnSk\n",
        "\n",
        "TG: https://t.me/data_science_news\n",
        "\n",
        "\n",
        "\n",
        "---"
      ],
      "metadata": {
        "id": "0t6oCX9hxKL0"
      }
    },
    {
      "cell_type": "markdown",
      "source": [
        "## Введение в ML классификация\n",
        "\n",
        "### Часть 1\n",
        "- Логистическая регрессия (бинарный вариант)\n",
        "- Оценка качества классификации для бинарного случая\n",
        "\n",
        "### Часть 2\n",
        "- Логистическая регрессия для трёх и более классов\n",
        "- Линейный/Квадратный дискриминативный анализ\n",
        "- Оценка качества классификации для бинарного случая и выбор модели"
      ],
      "metadata": {
        "id": "AJx5fQI7JsbZ"
      }
    },
    {
      "cell_type": "code",
      "execution_count": null,
      "metadata": {
        "id": "oIq0XfXXrfqY"
      },
      "outputs": [],
      "source": [
        "import numpy as np\n",
        "import pandas as pd\n",
        "\n",
        "import matplotlib.pylab as plt\n",
        "\n",
        "from sklearn.linear_model import LogisticRegression\n",
        "from sklearn.discriminant_analysis import LinearDiscriminantAnalysis\n",
        "from sklearn.discriminant_analysis import QuadraticDiscriminantAnalysis\n",
        "from sklearn.model_selection import train_test_split\n",
        "from sklearn.model_selection import cross_val_score\n",
        "from sklearn.metrics import classification_report\n",
        "from sklearn.metrics import confusion_matrix\n",
        "from sklearn.metrics import precision_score\n",
        "from sklearn.metrics import roc_auc_score\n",
        "from sklearn.metrics import roc_curve, auc\n",
        "from sklearn.preprocessing import label_binarize\n",
        "\n",
        "from itertools import cycle"
      ]
    },
    {
      "cell_type": "markdown",
      "source": [
        "# Данные (геометрические параметры разных сортов пшеницы)"
      ],
      "metadata": {
        "id": "b7hvIP10L55h"
      }
    },
    {
      "cell_type": "code",
      "source": [
        "# download dataset\n",
        "# https://archive.ics.uci.edu/ml/datasets/seeds\n",
        "!wget https://archive.ics.uci.edu/ml/machine-learning-databases/00236/seeds_dataset.txt\n",
        "!head seeds_dataset.txt\n"
      ],
      "metadata": {
        "colab": {
          "base_uri": "https://localhost:8080/"
        },
        "id": "6apfctsWrvdA",
        "outputId": "77e6f198-abbc-43e6-f9e2-1ea0a7c0243e"
      },
      "execution_count": null,
      "outputs": [
        {
          "output_type": "stream",
          "name": "stdout",
          "text": [
            "--2022-04-13 06:01:15--  https://archive.ics.uci.edu/ml/machine-learning-databases/00236/seeds_dataset.txt\n",
            "Resolving archive.ics.uci.edu (archive.ics.uci.edu)... 128.195.10.252\n",
            "Connecting to archive.ics.uci.edu (archive.ics.uci.edu)|128.195.10.252|:443... connected.\n",
            "HTTP request sent, awaiting response... 200 OK\n",
            "Length: 9300 (9.1K) [application/x-httpd-php]\n",
            "Saving to: ‘seeds_dataset.txt’\n",
            "\n",
            "seeds_dataset.txt   100%[===================>]   9.08K  --.-KB/s    in 0s      \n",
            "\n",
            "2022-04-13 06:01:15 (99.1 MB/s) - ‘seeds_dataset.txt’ saved [9300/9300]\n",
            "\n",
            "15.26\t14.84\t0.871\t5.763\t3.312\t2.221\t5.22\t1\n",
            "14.88\t14.57\t0.8811\t5.554\t3.333\t1.018\t4.956\t1\n",
            "14.29\t14.09\t0.905\t5.291\t3.337\t2.699\t4.825\t1\n",
            "13.84\t13.94\t0.8955\t5.324\t3.379\t2.259\t4.805\t1\n",
            "16.14\t14.99\t0.9034\t5.658\t3.562\t1.355\t5.175\t1\n",
            "14.38\t14.21\t0.8951\t5.386\t3.312\t2.462\t4.956\t1\n",
            "14.69\t14.49\t0.8799\t5.563\t3.259\t3.586\t5.219\t1\n",
            "14.11\t14.1\t0.8911\t5.42\t3.302\t2.7\t\t5\t\t1\n",
            "16.63\t15.46\t0.8747\t6.053\t3.465\t2.04\t5.877\t1\n",
            "16.44\t15.25\t0.888\t5.884\t3.505\t1.969\t5.533\t1\n"
          ]
        }
      ]
    },
    {
      "cell_type": "code",
      "source": [
        "# load the data\n",
        "DATA = pd.read_csv(\n",
        "    \"https://archive.ics.uci.edu/ml/machine-learning-databases/00236/seeds_dataset.txt\",\n",
        "    sep='\\t',\n",
        "    header=None,\n",
        "    names=[\"area\", \"perimeter\", \"compactness\", \"length\", \"width\", \"asymmetry\", \"length_groove\", \"class\"],\n",
        "    on_bad_lines='skip')\n",
        "DATA"
      ],
      "metadata": {
        "colab": {
          "base_uri": "https://localhost:8080/",
          "height": 423
        },
        "id": "sI7VPb84nF0I",
        "outputId": "977e47c3-a445-4c73-f984-f6de95da93cd"
      },
      "execution_count": null,
      "outputs": [
        {
          "output_type": "execute_result",
          "data": {
            "text/plain": [
              "      area  perimeter  compactness  length  width  asymmetry  length_groove  \\\n",
              "0    15.26      14.84       0.8710   5.763  3.312      2.221          5.220   \n",
              "1    14.88      14.57       0.8811   5.554  3.333      1.018          4.956   \n",
              "2    14.29      14.09       0.9050   5.291  3.337      2.699          4.825   \n",
              "3    13.84      13.94       0.8955   5.324  3.379      2.259          4.805   \n",
              "4    16.14      14.99       0.9034   5.658  3.562      1.355          5.175   \n",
              "..     ...        ...          ...     ...    ...        ...            ...   \n",
              "205  12.19      13.20       0.8783   5.137  2.981      3.631          4.870   \n",
              "206  11.23      12.88       0.8511   5.140  2.795      4.325          5.003   \n",
              "207  13.20      13.66       0.8883   5.236  3.232      8.315          5.056   \n",
              "208  11.84      13.21       0.8521   5.175  2.836      3.598          5.044   \n",
              "209  12.30      13.34       0.8684   5.243  2.974      5.637          5.063   \n",
              "\n",
              "     class  \n",
              "0      1.0  \n",
              "1      1.0  \n",
              "2      1.0  \n",
              "3      1.0  \n",
              "4      1.0  \n",
              "..     ...  \n",
              "205    3.0  \n",
              "206    3.0  \n",
              "207    3.0  \n",
              "208    3.0  \n",
              "209    3.0  \n",
              "\n",
              "[210 rows x 8 columns]"
            ],
            "text/html": [
              "\n",
              "  <div id=\"df-b5862fc4-4d38-4e60-b8d6-898d46a1447c\">\n",
              "    <div class=\"colab-df-container\">\n",
              "      <div>\n",
              "<style scoped>\n",
              "    .dataframe tbody tr th:only-of-type {\n",
              "        vertical-align: middle;\n",
              "    }\n",
              "\n",
              "    .dataframe tbody tr th {\n",
              "        vertical-align: top;\n",
              "    }\n",
              "\n",
              "    .dataframe thead th {\n",
              "        text-align: right;\n",
              "    }\n",
              "</style>\n",
              "<table border=\"1\" class=\"dataframe\">\n",
              "  <thead>\n",
              "    <tr style=\"text-align: right;\">\n",
              "      <th></th>\n",
              "      <th>area</th>\n",
              "      <th>perimeter</th>\n",
              "      <th>compactness</th>\n",
              "      <th>length</th>\n",
              "      <th>width</th>\n",
              "      <th>asymmetry</th>\n",
              "      <th>length_groove</th>\n",
              "      <th>class</th>\n",
              "    </tr>\n",
              "  </thead>\n",
              "  <tbody>\n",
              "    <tr>\n",
              "      <th>0</th>\n",
              "      <td>15.26</td>\n",
              "      <td>14.84</td>\n",
              "      <td>0.8710</td>\n",
              "      <td>5.763</td>\n",
              "      <td>3.312</td>\n",
              "      <td>2.221</td>\n",
              "      <td>5.220</td>\n",
              "      <td>1.0</td>\n",
              "    </tr>\n",
              "    <tr>\n",
              "      <th>1</th>\n",
              "      <td>14.88</td>\n",
              "      <td>14.57</td>\n",
              "      <td>0.8811</td>\n",
              "      <td>5.554</td>\n",
              "      <td>3.333</td>\n",
              "      <td>1.018</td>\n",
              "      <td>4.956</td>\n",
              "      <td>1.0</td>\n",
              "    </tr>\n",
              "    <tr>\n",
              "      <th>2</th>\n",
              "      <td>14.29</td>\n",
              "      <td>14.09</td>\n",
              "      <td>0.9050</td>\n",
              "      <td>5.291</td>\n",
              "      <td>3.337</td>\n",
              "      <td>2.699</td>\n",
              "      <td>4.825</td>\n",
              "      <td>1.0</td>\n",
              "    </tr>\n",
              "    <tr>\n",
              "      <th>3</th>\n",
              "      <td>13.84</td>\n",
              "      <td>13.94</td>\n",
              "      <td>0.8955</td>\n",
              "      <td>5.324</td>\n",
              "      <td>3.379</td>\n",
              "      <td>2.259</td>\n",
              "      <td>4.805</td>\n",
              "      <td>1.0</td>\n",
              "    </tr>\n",
              "    <tr>\n",
              "      <th>4</th>\n",
              "      <td>16.14</td>\n",
              "      <td>14.99</td>\n",
              "      <td>0.9034</td>\n",
              "      <td>5.658</td>\n",
              "      <td>3.562</td>\n",
              "      <td>1.355</td>\n",
              "      <td>5.175</td>\n",
              "      <td>1.0</td>\n",
              "    </tr>\n",
              "    <tr>\n",
              "      <th>...</th>\n",
              "      <td>...</td>\n",
              "      <td>...</td>\n",
              "      <td>...</td>\n",
              "      <td>...</td>\n",
              "      <td>...</td>\n",
              "      <td>...</td>\n",
              "      <td>...</td>\n",
              "      <td>...</td>\n",
              "    </tr>\n",
              "    <tr>\n",
              "      <th>205</th>\n",
              "      <td>12.19</td>\n",
              "      <td>13.20</td>\n",
              "      <td>0.8783</td>\n",
              "      <td>5.137</td>\n",
              "      <td>2.981</td>\n",
              "      <td>3.631</td>\n",
              "      <td>4.870</td>\n",
              "      <td>3.0</td>\n",
              "    </tr>\n",
              "    <tr>\n",
              "      <th>206</th>\n",
              "      <td>11.23</td>\n",
              "      <td>12.88</td>\n",
              "      <td>0.8511</td>\n",
              "      <td>5.140</td>\n",
              "      <td>2.795</td>\n",
              "      <td>4.325</td>\n",
              "      <td>5.003</td>\n",
              "      <td>3.0</td>\n",
              "    </tr>\n",
              "    <tr>\n",
              "      <th>207</th>\n",
              "      <td>13.20</td>\n",
              "      <td>13.66</td>\n",
              "      <td>0.8883</td>\n",
              "      <td>5.236</td>\n",
              "      <td>3.232</td>\n",
              "      <td>8.315</td>\n",
              "      <td>5.056</td>\n",
              "      <td>3.0</td>\n",
              "    </tr>\n",
              "    <tr>\n",
              "      <th>208</th>\n",
              "      <td>11.84</td>\n",
              "      <td>13.21</td>\n",
              "      <td>0.8521</td>\n",
              "      <td>5.175</td>\n",
              "      <td>2.836</td>\n",
              "      <td>3.598</td>\n",
              "      <td>5.044</td>\n",
              "      <td>3.0</td>\n",
              "    </tr>\n",
              "    <tr>\n",
              "      <th>209</th>\n",
              "      <td>12.30</td>\n",
              "      <td>13.34</td>\n",
              "      <td>0.8684</td>\n",
              "      <td>5.243</td>\n",
              "      <td>2.974</td>\n",
              "      <td>5.637</td>\n",
              "      <td>5.063</td>\n",
              "      <td>3.0</td>\n",
              "    </tr>\n",
              "  </tbody>\n",
              "</table>\n",
              "<p>210 rows × 8 columns</p>\n",
              "</div>\n",
              "      <button class=\"colab-df-convert\" onclick=\"convertToInteractive('df-b5862fc4-4d38-4e60-b8d6-898d46a1447c')\"\n",
              "              title=\"Convert this dataframe to an interactive table.\"\n",
              "              style=\"display:none;\">\n",
              "        \n",
              "  <svg xmlns=\"http://www.w3.org/2000/svg\" height=\"24px\"viewBox=\"0 0 24 24\"\n",
              "       width=\"24px\">\n",
              "    <path d=\"M0 0h24v24H0V0z\" fill=\"none\"/>\n",
              "    <path d=\"M18.56 5.44l.94 2.06.94-2.06 2.06-.94-2.06-.94-.94-2.06-.94 2.06-2.06.94zm-11 1L8.5 8.5l.94-2.06 2.06-.94-2.06-.94L8.5 2.5l-.94 2.06-2.06.94zm10 10l.94 2.06.94-2.06 2.06-.94-2.06-.94-.94-2.06-.94 2.06-2.06.94z\"/><path d=\"M17.41 7.96l-1.37-1.37c-.4-.4-.92-.59-1.43-.59-.52 0-1.04.2-1.43.59L10.3 9.45l-7.72 7.72c-.78.78-.78 2.05 0 2.83L4 21.41c.39.39.9.59 1.41.59.51 0 1.02-.2 1.41-.59l7.78-7.78 2.81-2.81c.8-.78.8-2.07 0-2.86zM5.41 20L4 18.59l7.72-7.72 1.47 1.35L5.41 20z\"/>\n",
              "  </svg>\n",
              "      </button>\n",
              "      \n",
              "  <style>\n",
              "    .colab-df-container {\n",
              "      display:flex;\n",
              "      flex-wrap:wrap;\n",
              "      gap: 12px;\n",
              "    }\n",
              "\n",
              "    .colab-df-convert {\n",
              "      background-color: #E8F0FE;\n",
              "      border: none;\n",
              "      border-radius: 50%;\n",
              "      cursor: pointer;\n",
              "      display: none;\n",
              "      fill: #1967D2;\n",
              "      height: 32px;\n",
              "      padding: 0 0 0 0;\n",
              "      width: 32px;\n",
              "    }\n",
              "\n",
              "    .colab-df-convert:hover {\n",
              "      background-color: #E2EBFA;\n",
              "      box-shadow: 0px 1px 2px rgba(60, 64, 67, 0.3), 0px 1px 3px 1px rgba(60, 64, 67, 0.15);\n",
              "      fill: #174EA6;\n",
              "    }\n",
              "\n",
              "    [theme=dark] .colab-df-convert {\n",
              "      background-color: #3B4455;\n",
              "      fill: #D2E3FC;\n",
              "    }\n",
              "\n",
              "    [theme=dark] .colab-df-convert:hover {\n",
              "      background-color: #434B5C;\n",
              "      box-shadow: 0px 1px 3px 1px rgba(0, 0, 0, 0.15);\n",
              "      filter: drop-shadow(0px 1px 2px rgba(0, 0, 0, 0.3));\n",
              "      fill: #FFFFFF;\n",
              "    }\n",
              "  </style>\n",
              "\n",
              "      <script>\n",
              "        const buttonEl =\n",
              "          document.querySelector('#df-b5862fc4-4d38-4e60-b8d6-898d46a1447c button.colab-df-convert');\n",
              "        buttonEl.style.display =\n",
              "          google.colab.kernel.accessAllowed ? 'block' : 'none';\n",
              "\n",
              "        async function convertToInteractive(key) {\n",
              "          const element = document.querySelector('#df-b5862fc4-4d38-4e60-b8d6-898d46a1447c');\n",
              "          const dataTable =\n",
              "            await google.colab.kernel.invokeFunction('convertToInteractive',\n",
              "                                                     [key], {});\n",
              "          if (!dataTable) return;\n",
              "\n",
              "          const docLinkHtml = 'Like what you see? Visit the ' +\n",
              "            '<a target=\"_blank\" href=https://colab.research.google.com/notebooks/data_table.ipynb>data table notebook</a>'\n",
              "            + ' to learn more about interactive tables.';\n",
              "          element.innerHTML = '';\n",
              "          dataTable['output_type'] = 'display_data';\n",
              "          await google.colab.output.renderOutput(dataTable, element);\n",
              "          const docLink = document.createElement('div');\n",
              "          docLink.innerHTML = docLinkHtml;\n",
              "          element.appendChild(docLink);\n",
              "        }\n",
              "      </script>\n",
              "    </div>\n",
              "  </div>\n",
              "  "
            ]
          },
          "metadata": {},
          "execution_count": 3
        }
      ]
    },
    {
      "cell_type": "code",
      "source": [
        "DATA.describe()"
      ],
      "metadata": {
        "colab": {
          "base_uri": "https://localhost:8080/",
          "height": 300
        },
        "id": "vKXjajLiIEkH",
        "outputId": "1c09125e-a7a0-494e-9502-10b003d00729"
      },
      "execution_count": null,
      "outputs": [
        {
          "output_type": "execute_result",
          "data": {
            "text/plain": [
              "             area   perimeter  compactness      length       width  \\\n",
              "count  210.000000  210.000000   207.000000  210.000000  209.000000   \n",
              "mean    14.847524   14.559286     0.871280    5.563918    3.281440   \n",
              "std      2.909699    1.305959     0.023306    0.719594    0.419907   \n",
              "min     10.590000   12.410000     0.808100    0.818900    2.630000   \n",
              "25%     12.270000   13.450000     0.857700    5.244750    2.956000   \n",
              "50%     14.355000   14.320000     0.873500    5.518000    3.245000   \n",
              "75%     17.305000   15.715000     0.887650    5.979750    3.566000   \n",
              "max     21.180000   17.250000     0.918300    6.675000    5.325000   \n",
              "\n",
              "        asymmetry  length_groove       class  \n",
              "count  210.000000     206.000000  206.000000  \n",
              "mean     3.693530       5.407529    2.084039  \n",
              "std      1.495112       0.532330    0.948211  \n",
              "min      0.765100       3.485000    1.000000  \n",
              "25%      2.600250       5.045000    1.000000  \n",
              "50%      3.599000       5.226000    2.000000  \n",
              "75%      4.768750       5.879000    3.000000  \n",
              "max      8.456000       6.735000    5.439000  "
            ],
            "text/html": [
              "\n",
              "  <div id=\"df-eaa45a61-5d9e-4f32-ba5b-0f48135b3f04\">\n",
              "    <div class=\"colab-df-container\">\n",
              "      <div>\n",
              "<style scoped>\n",
              "    .dataframe tbody tr th:only-of-type {\n",
              "        vertical-align: middle;\n",
              "    }\n",
              "\n",
              "    .dataframe tbody tr th {\n",
              "        vertical-align: top;\n",
              "    }\n",
              "\n",
              "    .dataframe thead th {\n",
              "        text-align: right;\n",
              "    }\n",
              "</style>\n",
              "<table border=\"1\" class=\"dataframe\">\n",
              "  <thead>\n",
              "    <tr style=\"text-align: right;\">\n",
              "      <th></th>\n",
              "      <th>area</th>\n",
              "      <th>perimeter</th>\n",
              "      <th>compactness</th>\n",
              "      <th>length</th>\n",
              "      <th>width</th>\n",
              "      <th>asymmetry</th>\n",
              "      <th>length_groove</th>\n",
              "      <th>class</th>\n",
              "    </tr>\n",
              "  </thead>\n",
              "  <tbody>\n",
              "    <tr>\n",
              "      <th>count</th>\n",
              "      <td>210.000000</td>\n",
              "      <td>210.000000</td>\n",
              "      <td>207.000000</td>\n",
              "      <td>210.000000</td>\n",
              "      <td>209.000000</td>\n",
              "      <td>210.000000</td>\n",
              "      <td>206.000000</td>\n",
              "      <td>206.000000</td>\n",
              "    </tr>\n",
              "    <tr>\n",
              "      <th>mean</th>\n",
              "      <td>14.847524</td>\n",
              "      <td>14.559286</td>\n",
              "      <td>0.871280</td>\n",
              "      <td>5.563918</td>\n",
              "      <td>3.281440</td>\n",
              "      <td>3.693530</td>\n",
              "      <td>5.407529</td>\n",
              "      <td>2.084039</td>\n",
              "    </tr>\n",
              "    <tr>\n",
              "      <th>std</th>\n",
              "      <td>2.909699</td>\n",
              "      <td>1.305959</td>\n",
              "      <td>0.023306</td>\n",
              "      <td>0.719594</td>\n",
              "      <td>0.419907</td>\n",
              "      <td>1.495112</td>\n",
              "      <td>0.532330</td>\n",
              "      <td>0.948211</td>\n",
              "    </tr>\n",
              "    <tr>\n",
              "      <th>min</th>\n",
              "      <td>10.590000</td>\n",
              "      <td>12.410000</td>\n",
              "      <td>0.808100</td>\n",
              "      <td>0.818900</td>\n",
              "      <td>2.630000</td>\n",
              "      <td>0.765100</td>\n",
              "      <td>3.485000</td>\n",
              "      <td>1.000000</td>\n",
              "    </tr>\n",
              "    <tr>\n",
              "      <th>25%</th>\n",
              "      <td>12.270000</td>\n",
              "      <td>13.450000</td>\n",
              "      <td>0.857700</td>\n",
              "      <td>5.244750</td>\n",
              "      <td>2.956000</td>\n",
              "      <td>2.600250</td>\n",
              "      <td>5.045000</td>\n",
              "      <td>1.000000</td>\n",
              "    </tr>\n",
              "    <tr>\n",
              "      <th>50%</th>\n",
              "      <td>14.355000</td>\n",
              "      <td>14.320000</td>\n",
              "      <td>0.873500</td>\n",
              "      <td>5.518000</td>\n",
              "      <td>3.245000</td>\n",
              "      <td>3.599000</td>\n",
              "      <td>5.226000</td>\n",
              "      <td>2.000000</td>\n",
              "    </tr>\n",
              "    <tr>\n",
              "      <th>75%</th>\n",
              "      <td>17.305000</td>\n",
              "      <td>15.715000</td>\n",
              "      <td>0.887650</td>\n",
              "      <td>5.979750</td>\n",
              "      <td>3.566000</td>\n",
              "      <td>4.768750</td>\n",
              "      <td>5.879000</td>\n",
              "      <td>3.000000</td>\n",
              "    </tr>\n",
              "    <tr>\n",
              "      <th>max</th>\n",
              "      <td>21.180000</td>\n",
              "      <td>17.250000</td>\n",
              "      <td>0.918300</td>\n",
              "      <td>6.675000</td>\n",
              "      <td>5.325000</td>\n",
              "      <td>8.456000</td>\n",
              "      <td>6.735000</td>\n",
              "      <td>5.439000</td>\n",
              "    </tr>\n",
              "  </tbody>\n",
              "</table>\n",
              "</div>\n",
              "      <button class=\"colab-df-convert\" onclick=\"convertToInteractive('df-eaa45a61-5d9e-4f32-ba5b-0f48135b3f04')\"\n",
              "              title=\"Convert this dataframe to an interactive table.\"\n",
              "              style=\"display:none;\">\n",
              "        \n",
              "  <svg xmlns=\"http://www.w3.org/2000/svg\" height=\"24px\"viewBox=\"0 0 24 24\"\n",
              "       width=\"24px\">\n",
              "    <path d=\"M0 0h24v24H0V0z\" fill=\"none\"/>\n",
              "    <path d=\"M18.56 5.44l.94 2.06.94-2.06 2.06-.94-2.06-.94-.94-2.06-.94 2.06-2.06.94zm-11 1L8.5 8.5l.94-2.06 2.06-.94-2.06-.94L8.5 2.5l-.94 2.06-2.06.94zm10 10l.94 2.06.94-2.06 2.06-.94-2.06-.94-.94-2.06-.94 2.06-2.06.94z\"/><path d=\"M17.41 7.96l-1.37-1.37c-.4-.4-.92-.59-1.43-.59-.52 0-1.04.2-1.43.59L10.3 9.45l-7.72 7.72c-.78.78-.78 2.05 0 2.83L4 21.41c.39.39.9.59 1.41.59.51 0 1.02-.2 1.41-.59l7.78-7.78 2.81-2.81c.8-.78.8-2.07 0-2.86zM5.41 20L4 18.59l7.72-7.72 1.47 1.35L5.41 20z\"/>\n",
              "  </svg>\n",
              "      </button>\n",
              "      \n",
              "  <style>\n",
              "    .colab-df-container {\n",
              "      display:flex;\n",
              "      flex-wrap:wrap;\n",
              "      gap: 12px;\n",
              "    }\n",
              "\n",
              "    .colab-df-convert {\n",
              "      background-color: #E8F0FE;\n",
              "      border: none;\n",
              "      border-radius: 50%;\n",
              "      cursor: pointer;\n",
              "      display: none;\n",
              "      fill: #1967D2;\n",
              "      height: 32px;\n",
              "      padding: 0 0 0 0;\n",
              "      width: 32px;\n",
              "    }\n",
              "\n",
              "    .colab-df-convert:hover {\n",
              "      background-color: #E2EBFA;\n",
              "      box-shadow: 0px 1px 2px rgba(60, 64, 67, 0.3), 0px 1px 3px 1px rgba(60, 64, 67, 0.15);\n",
              "      fill: #174EA6;\n",
              "    }\n",
              "\n",
              "    [theme=dark] .colab-df-convert {\n",
              "      background-color: #3B4455;\n",
              "      fill: #D2E3FC;\n",
              "    }\n",
              "\n",
              "    [theme=dark] .colab-df-convert:hover {\n",
              "      background-color: #434B5C;\n",
              "      box-shadow: 0px 1px 3px 1px rgba(0, 0, 0, 0.15);\n",
              "      filter: drop-shadow(0px 1px 2px rgba(0, 0, 0, 0.3));\n",
              "      fill: #FFFFFF;\n",
              "    }\n",
              "  </style>\n",
              "\n",
              "      <script>\n",
              "        const buttonEl =\n",
              "          document.querySelector('#df-eaa45a61-5d9e-4f32-ba5b-0f48135b3f04 button.colab-df-convert');\n",
              "        buttonEl.style.display =\n",
              "          google.colab.kernel.accessAllowed ? 'block' : 'none';\n",
              "\n",
              "        async function convertToInteractive(key) {\n",
              "          const element = document.querySelector('#df-eaa45a61-5d9e-4f32-ba5b-0f48135b3f04');\n",
              "          const dataTable =\n",
              "            await google.colab.kernel.invokeFunction('convertToInteractive',\n",
              "                                                     [key], {});\n",
              "          if (!dataTable) return;\n",
              "\n",
              "          const docLinkHtml = 'Like what you see? Visit the ' +\n",
              "            '<a target=\"_blank\" href=https://colab.research.google.com/notebooks/data_table.ipynb>data table notebook</a>'\n",
              "            + ' to learn more about interactive tables.';\n",
              "          element.innerHTML = '';\n",
              "          dataTable['output_type'] = 'display_data';\n",
              "          await google.colab.output.renderOutput(dataTable, element);\n",
              "          const docLink = document.createElement('div');\n",
              "          docLink.innerHTML = docLinkHtml;\n",
              "          element.appendChild(docLink);\n",
              "        }\n",
              "      </script>\n",
              "    </div>\n",
              "  </div>\n",
              "  "
            ]
          },
          "metadata": {},
          "execution_count": 126
        }
      ]
    },
    {
      "cell_type": "code",
      "source": [
        "# set int type for dependent variable\n",
        "DATA = DATA.dropna()\n",
        "DATA[\"class\"] = DATA[\"class\"].astype('int32')\n",
        "DATA\n"
      ],
      "metadata": {
        "colab": {
          "base_uri": "https://localhost:8080/",
          "height": 531
        },
        "id": "g_g_e98PsF-N",
        "outputId": "e143c03d-31d6-4442-e735-b31ee3c36df7"
      },
      "execution_count": null,
      "outputs": [
        {
          "output_type": "stream",
          "name": "stderr",
          "text": [
            "/usr/local/lib/python3.7/dist-packages/ipykernel_launcher.py:3: SettingWithCopyWarning: \n",
            "A value is trying to be set on a copy of a slice from a DataFrame.\n",
            "Try using .loc[row_indexer,col_indexer] = value instead\n",
            "\n",
            "See the caveats in the documentation: https://pandas.pydata.org/pandas-docs/stable/user_guide/indexing.html#returning-a-view-versus-a-copy\n",
            "  This is separate from the ipykernel package so we can avoid doing imports until\n"
          ]
        },
        {
          "output_type": "execute_result",
          "data": {
            "text/plain": [
              "      area  perimeter  compactness  length  width  asymmetry  length_groove  \\\n",
              "0    15.26      14.84       0.8710   5.763  3.312      2.221          5.220   \n",
              "1    14.88      14.57       0.8811   5.554  3.333      1.018          4.956   \n",
              "2    14.29      14.09       0.9050   5.291  3.337      2.699          4.825   \n",
              "3    13.84      13.94       0.8955   5.324  3.379      2.259          4.805   \n",
              "4    16.14      14.99       0.9034   5.658  3.562      1.355          5.175   \n",
              "..     ...        ...          ...     ...    ...        ...            ...   \n",
              "205  12.19      13.20       0.8783   5.137  2.981      3.631          4.870   \n",
              "206  11.23      12.88       0.8511   5.140  2.795      4.325          5.003   \n",
              "207  13.20      13.66       0.8883   5.236  3.232      8.315          5.056   \n",
              "208  11.84      13.21       0.8521   5.175  2.836      3.598          5.044   \n",
              "209  12.30      13.34       0.8684   5.243  2.974      5.637          5.063   \n",
              "\n",
              "     class  \n",
              "0        1  \n",
              "1        1  \n",
              "2        1  \n",
              "3        1  \n",
              "4        1  \n",
              "..     ...  \n",
              "205      3  \n",
              "206      3  \n",
              "207      3  \n",
              "208      3  \n",
              "209      3  \n",
              "\n",
              "[199 rows x 8 columns]"
            ],
            "text/html": [
              "\n",
              "  <div id=\"df-d76e5518-c1e2-4ecc-872b-e7cf3ba929cc\">\n",
              "    <div class=\"colab-df-container\">\n",
              "      <div>\n",
              "<style scoped>\n",
              "    .dataframe tbody tr th:only-of-type {\n",
              "        vertical-align: middle;\n",
              "    }\n",
              "\n",
              "    .dataframe tbody tr th {\n",
              "        vertical-align: top;\n",
              "    }\n",
              "\n",
              "    .dataframe thead th {\n",
              "        text-align: right;\n",
              "    }\n",
              "</style>\n",
              "<table border=\"1\" class=\"dataframe\">\n",
              "  <thead>\n",
              "    <tr style=\"text-align: right;\">\n",
              "      <th></th>\n",
              "      <th>area</th>\n",
              "      <th>perimeter</th>\n",
              "      <th>compactness</th>\n",
              "      <th>length</th>\n",
              "      <th>width</th>\n",
              "      <th>asymmetry</th>\n",
              "      <th>length_groove</th>\n",
              "      <th>class</th>\n",
              "    </tr>\n",
              "  </thead>\n",
              "  <tbody>\n",
              "    <tr>\n",
              "      <th>0</th>\n",
              "      <td>15.26</td>\n",
              "      <td>14.84</td>\n",
              "      <td>0.8710</td>\n",
              "      <td>5.763</td>\n",
              "      <td>3.312</td>\n",
              "      <td>2.221</td>\n",
              "      <td>5.220</td>\n",
              "      <td>1</td>\n",
              "    </tr>\n",
              "    <tr>\n",
              "      <th>1</th>\n",
              "      <td>14.88</td>\n",
              "      <td>14.57</td>\n",
              "      <td>0.8811</td>\n",
              "      <td>5.554</td>\n",
              "      <td>3.333</td>\n",
              "      <td>1.018</td>\n",
              "      <td>4.956</td>\n",
              "      <td>1</td>\n",
              "    </tr>\n",
              "    <tr>\n",
              "      <th>2</th>\n",
              "      <td>14.29</td>\n",
              "      <td>14.09</td>\n",
              "      <td>0.9050</td>\n",
              "      <td>5.291</td>\n",
              "      <td>3.337</td>\n",
              "      <td>2.699</td>\n",
              "      <td>4.825</td>\n",
              "      <td>1</td>\n",
              "    </tr>\n",
              "    <tr>\n",
              "      <th>3</th>\n",
              "      <td>13.84</td>\n",
              "      <td>13.94</td>\n",
              "      <td>0.8955</td>\n",
              "      <td>5.324</td>\n",
              "      <td>3.379</td>\n",
              "      <td>2.259</td>\n",
              "      <td>4.805</td>\n",
              "      <td>1</td>\n",
              "    </tr>\n",
              "    <tr>\n",
              "      <th>4</th>\n",
              "      <td>16.14</td>\n",
              "      <td>14.99</td>\n",
              "      <td>0.9034</td>\n",
              "      <td>5.658</td>\n",
              "      <td>3.562</td>\n",
              "      <td>1.355</td>\n",
              "      <td>5.175</td>\n",
              "      <td>1</td>\n",
              "    </tr>\n",
              "    <tr>\n",
              "      <th>...</th>\n",
              "      <td>...</td>\n",
              "      <td>...</td>\n",
              "      <td>...</td>\n",
              "      <td>...</td>\n",
              "      <td>...</td>\n",
              "      <td>...</td>\n",
              "      <td>...</td>\n",
              "      <td>...</td>\n",
              "    </tr>\n",
              "    <tr>\n",
              "      <th>205</th>\n",
              "      <td>12.19</td>\n",
              "      <td>13.20</td>\n",
              "      <td>0.8783</td>\n",
              "      <td>5.137</td>\n",
              "      <td>2.981</td>\n",
              "      <td>3.631</td>\n",
              "      <td>4.870</td>\n",
              "      <td>3</td>\n",
              "    </tr>\n",
              "    <tr>\n",
              "      <th>206</th>\n",
              "      <td>11.23</td>\n",
              "      <td>12.88</td>\n",
              "      <td>0.8511</td>\n",
              "      <td>5.140</td>\n",
              "      <td>2.795</td>\n",
              "      <td>4.325</td>\n",
              "      <td>5.003</td>\n",
              "      <td>3</td>\n",
              "    </tr>\n",
              "    <tr>\n",
              "      <th>207</th>\n",
              "      <td>13.20</td>\n",
              "      <td>13.66</td>\n",
              "      <td>0.8883</td>\n",
              "      <td>5.236</td>\n",
              "      <td>3.232</td>\n",
              "      <td>8.315</td>\n",
              "      <td>5.056</td>\n",
              "      <td>3</td>\n",
              "    </tr>\n",
              "    <tr>\n",
              "      <th>208</th>\n",
              "      <td>11.84</td>\n",
              "      <td>13.21</td>\n",
              "      <td>0.8521</td>\n",
              "      <td>5.175</td>\n",
              "      <td>2.836</td>\n",
              "      <td>3.598</td>\n",
              "      <td>5.044</td>\n",
              "      <td>3</td>\n",
              "    </tr>\n",
              "    <tr>\n",
              "      <th>209</th>\n",
              "      <td>12.30</td>\n",
              "      <td>13.34</td>\n",
              "      <td>0.8684</td>\n",
              "      <td>5.243</td>\n",
              "      <td>2.974</td>\n",
              "      <td>5.637</td>\n",
              "      <td>5.063</td>\n",
              "      <td>3</td>\n",
              "    </tr>\n",
              "  </tbody>\n",
              "</table>\n",
              "<p>199 rows × 8 columns</p>\n",
              "</div>\n",
              "      <button class=\"colab-df-convert\" onclick=\"convertToInteractive('df-d76e5518-c1e2-4ecc-872b-e7cf3ba929cc')\"\n",
              "              title=\"Convert this dataframe to an interactive table.\"\n",
              "              style=\"display:none;\">\n",
              "        \n",
              "  <svg xmlns=\"http://www.w3.org/2000/svg\" height=\"24px\"viewBox=\"0 0 24 24\"\n",
              "       width=\"24px\">\n",
              "    <path d=\"M0 0h24v24H0V0z\" fill=\"none\"/>\n",
              "    <path d=\"M18.56 5.44l.94 2.06.94-2.06 2.06-.94-2.06-.94-.94-2.06-.94 2.06-2.06.94zm-11 1L8.5 8.5l.94-2.06 2.06-.94-2.06-.94L8.5 2.5l-.94 2.06-2.06.94zm10 10l.94 2.06.94-2.06 2.06-.94-2.06-.94-.94-2.06-.94 2.06-2.06.94z\"/><path d=\"M17.41 7.96l-1.37-1.37c-.4-.4-.92-.59-1.43-.59-.52 0-1.04.2-1.43.59L10.3 9.45l-7.72 7.72c-.78.78-.78 2.05 0 2.83L4 21.41c.39.39.9.59 1.41.59.51 0 1.02-.2 1.41-.59l7.78-7.78 2.81-2.81c.8-.78.8-2.07 0-2.86zM5.41 20L4 18.59l7.72-7.72 1.47 1.35L5.41 20z\"/>\n",
              "  </svg>\n",
              "      </button>\n",
              "      \n",
              "  <style>\n",
              "    .colab-df-container {\n",
              "      display:flex;\n",
              "      flex-wrap:wrap;\n",
              "      gap: 12px;\n",
              "    }\n",
              "\n",
              "    .colab-df-convert {\n",
              "      background-color: #E8F0FE;\n",
              "      border: none;\n",
              "      border-radius: 50%;\n",
              "      cursor: pointer;\n",
              "      display: none;\n",
              "      fill: #1967D2;\n",
              "      height: 32px;\n",
              "      padding: 0 0 0 0;\n",
              "      width: 32px;\n",
              "    }\n",
              "\n",
              "    .colab-df-convert:hover {\n",
              "      background-color: #E2EBFA;\n",
              "      box-shadow: 0px 1px 2px rgba(60, 64, 67, 0.3), 0px 1px 3px 1px rgba(60, 64, 67, 0.15);\n",
              "      fill: #174EA6;\n",
              "    }\n",
              "\n",
              "    [theme=dark] .colab-df-convert {\n",
              "      background-color: #3B4455;\n",
              "      fill: #D2E3FC;\n",
              "    }\n",
              "\n",
              "    [theme=dark] .colab-df-convert:hover {\n",
              "      background-color: #434B5C;\n",
              "      box-shadow: 0px 1px 3px 1px rgba(0, 0, 0, 0.15);\n",
              "      filter: drop-shadow(0px 1px 2px rgba(0, 0, 0, 0.3));\n",
              "      fill: #FFFFFF;\n",
              "    }\n",
              "  </style>\n",
              "\n",
              "      <script>\n",
              "        const buttonEl =\n",
              "          document.querySelector('#df-d76e5518-c1e2-4ecc-872b-e7cf3ba929cc button.colab-df-convert');\n",
              "        buttonEl.style.display =\n",
              "          google.colab.kernel.accessAllowed ? 'block' : 'none';\n",
              "\n",
              "        async function convertToInteractive(key) {\n",
              "          const element = document.querySelector('#df-d76e5518-c1e2-4ecc-872b-e7cf3ba929cc');\n",
              "          const dataTable =\n",
              "            await google.colab.kernel.invokeFunction('convertToInteractive',\n",
              "                                                     [key], {});\n",
              "          if (!dataTable) return;\n",
              "\n",
              "          const docLinkHtml = 'Like what you see? Visit the ' +\n",
              "            '<a target=\"_blank\" href=https://colab.research.google.com/notebooks/data_table.ipynb>data table notebook</a>'\n",
              "            + ' to learn more about interactive tables.';\n",
              "          element.innerHTML = '';\n",
              "          dataTable['output_type'] = 'display_data';\n",
              "          await google.colab.output.renderOutput(dataTable, element);\n",
              "          const docLink = document.createElement('div');\n",
              "          docLink.innerHTML = docLinkHtml;\n",
              "          element.appendChild(docLink);\n",
              "        }\n",
              "      </script>\n",
              "    </div>\n",
              "  </div>\n",
              "  "
            ]
          },
          "metadata": {},
          "execution_count": 4
        }
      ]
    },
    {
      "cell_type": "code",
      "source": [
        "DATA[\"class\"].hist(figsize=(14,10))"
      ],
      "metadata": {
        "colab": {
          "base_uri": "https://localhost:8080/",
          "height": 610
        },
        "id": "bj-DuuZlpGp1",
        "outputId": "70bdab88-c017-4cb6-f704-6724eef745cc"
      },
      "execution_count": null,
      "outputs": [
        {
          "output_type": "execute_result",
          "data": {
            "text/plain": [
              "<matplotlib.axes._subplots.AxesSubplot at 0x7f90b1d37d50>"
            ]
          },
          "metadata": {},
          "execution_count": 5
        },
        {
          "output_type": "display_data",
          "data": {
            "text/plain": [
              "<Figure size 1008x720 with 1 Axes>"
            ],
            "image/png": "[encoded data removed]"
          },
          "metadata": {
            "needs_background": "light"
          }
        }
      ]
    },
    {
      "cell_type": "code",
      "source": [
        "# data preparation\n",
        "X = DATA.loc[:, DATA.columns != 'class'].to_numpy()\n",
        "y = DATA[\"class\"].to_numpy()\n",
        "X, y"
      ],
      "metadata": {
        "colab": {
          "base_uri": "https://localhost:8080/"
        },
        "id": "CTD6HwQUpOYi",
        "outputId": "842a4e0c-0368-4314-f991-bd977e561732"
      },
      "execution_count": null,
      "outputs": [
        {
          "output_type": "execute_result",
          "data": {
            "text/plain": [
              "(array([[15.26  , 14.84  ,  0.871 , ...,  3.312 ,  2.221 ,  5.22  ],\n",
              "        [14.88  , 14.57  ,  0.8811, ...,  3.333 ,  1.018 ,  4.956 ],\n",
              "        [14.29  , 14.09  ,  0.905 , ...,  3.337 ,  2.699 ,  4.825 ],\n",
              "        ...,\n",
              "        [13.2   , 13.66  ,  0.8883, ...,  3.232 ,  8.315 ,  5.056 ],\n",
              "        [11.84  , 13.21  ,  0.8521, ...,  2.836 ,  3.598 ,  5.044 ],\n",
              "        [12.3   , 13.34  ,  0.8684, ...,  2.974 ,  5.637 ,  5.063 ]]),\n",
              " array([1, 1, 1, 1, 1, 1, 1, 1, 1, 1, 1, 1, 1, 1, 1, 1, 1, 1, 1, 1, 1, 1,\n",
              "        1, 1, 1, 1, 1, 1, 1, 1, 1, 1, 1, 1, 1, 1, 1, 1, 1, 1, 1, 1, 1, 1,\n",
              "        1, 1, 1, 1, 1, 1, 1, 1, 1, 1, 1, 1, 1, 1, 1, 1, 1, 1, 1, 1, 1, 1,\n",
              "        2, 2, 2, 2, 2, 2, 2, 2, 2, 2, 2, 2, 2, 2, 2, 2, 2, 2, 2, 2, 2, 2,\n",
              "        2, 2, 2, 2, 2, 2, 2, 2, 2, 2, 2, 2, 2, 2, 2, 2, 2, 2, 2, 2, 2, 2,\n",
              "        2, 2, 2, 2, 2, 2, 2, 2, 2, 2, 2, 2, 2, 2, 2, 2, 2, 2, 2, 2, 2, 2,\n",
              "        2, 2, 3, 3, 3, 3, 3, 3, 3, 3, 3, 3, 3, 3, 3, 3, 3, 3, 3, 3, 3, 3,\n",
              "        3, 3, 3, 3, 3, 3, 3, 3, 3, 3, 3, 3, 3, 3, 3, 3, 3, 3, 3, 3, 3, 3,\n",
              "        3, 3, 3, 3, 3, 3, 3, 3, 3, 3, 3, 3, 3, 3, 3, 3, 3, 3, 3, 3, 3, 3,\n",
              "        3], dtype=int32))"
            ]
          },
          "metadata": {},
          "execution_count": 6
        }
      ]
    },
    {
      "cell_type": "code",
      "source": [
        "# split data\n",
        "X_train, X_test, y_train, y_test = train_test_split(\n",
        "    X, y, test_size=0.33, random_state=0, shuffle=True)\n",
        "X_train.shape, X_test.shape"
      ],
      "metadata": {
        "colab": {
          "base_uri": "https://localhost:8080/"
        },
        "id": "XvCQEKwJ0c42",
        "outputId": "6a849e3c-cab0-4f94-c437-66ccf04e2790"
      },
      "execution_count": null,
      "outputs": [
        {
          "output_type": "execute_result",
          "data": {
            "text/plain": [
              "((133, 7), (66, 7))"
            ]
          },
          "metadata": {},
          "execution_count": 7
        }
      ]
    },
    {
      "cell_type": "code",
      "source": [
        "plt.hist(y_train)"
      ],
      "metadata": {
        "colab": {
          "base_uri": "https://localhost:8080/",
          "height": 318
        },
        "id": "llsHJnoz1U_f",
        "outputId": "d42a22e2-780f-4a67-b36e-81afa809226e"
      },
      "execution_count": null,
      "outputs": [
        {
          "output_type": "execute_result",
          "data": {
            "text/plain": [
              "(array([44.,  0.,  0.,  0.,  0., 49.,  0.,  0.,  0., 40.]),\n",
              " array([1. , 1.2, 1.4, 1.6, 1.8, 2. , 2.2, 2.4, 2.6, 2.8, 3. ]),\n",
              " <a list of 10 Patch objects>)"
            ]
          },
          "metadata": {},
          "execution_count": 8
        },
        {
          "output_type": "display_data",
          "data": {
            "text/plain": [
              "<Figure size 432x288 with 1 Axes>"
            ],
            "image/png": "[encoded data removed]"
          },
          "metadata": {
            "needs_background": "light"
          }
        }
      ]
    },
    {
      "cell_type": "code",
      "source": [
        "plt.hist(y_test)"
      ],
      "metadata": {
        "colab": {
          "base_uri": "https://localhost:8080/",
          "height": 318
        },
        "id": "X6qMKxiy1ZO4",
        "outputId": "46a1f5e8-cc14-4f19-e6c7-74309f71cf88"
      },
      "execution_count": null,
      "outputs": [
        {
          "output_type": "execute_result",
          "data": {
            "text/plain": [
              "(array([22.,  0.,  0.,  0.,  0., 19.,  0.,  0.,  0., 25.]),\n",
              " array([1. , 1.2, 1.4, 1.6, 1.8, 2. , 2.2, 2.4, 2.6, 2.8, 3. ]),\n",
              " <a list of 10 Patch objects>)"
            ]
          },
          "metadata": {},
          "execution_count": 9
        },
        {
          "output_type": "display_data",
          "data": {
            "text/plain": [
              "<Figure size 432x288 with 1 Axes>"
            ],
            "image/png": "[encoded data removed]"
          },
          "metadata": {
            "needs_background": "light"
          }
        }
      ]
    },
    {
      "cell_type": "markdown",
      "source": [
        "# Логистическая регрессия для трех и более классов\n",
        "\n",
        "Пусть нам даны пары наблюдений $(Y_1,X_1),...,(Y_n,X_n)$, где $Y_i$ представленна в виде $k$ категорий/классов $\\{1,...,K\\}$, а $X \\in R^d$.\n",
        "\n",
        "## Вариант 1 - обобщённая бинарная модель (multinomial logit)\n",
        "\n",
        "Модель логистической регрессия применяется для моделирования вероятностей возникновения $K$ взаимоисключающих классов через линейную завистмость от $X$.\n",
        "\n",
        "Обобщённый вартант логистической регрессии для $K>2$ классов это мультиномиальная логистическая регрессия.\n",
        "\n",
        "$\\mathrm{log}\\frac{\\mathbb{P}(Y=1|X)}{\\mathbb{P}(Y=K|X)}=\\beta_{10}+\\beta_1^TX$\n",
        "\n",
        "$\\mathrm{log}\\frac{\\mathbb{P}(Y=2|X)}{\\mathbb{P}(Y=K|X)}=\\beta_{20}+\\beta_2^TX$\n",
        "\n",
        "...\n",
        "\n",
        "$\\mathrm{log}\\frac{\\mathbb{P}(Y=K-1|X)}{\\mathbb{P}(Y=K|X)}=\\beta_{(K-1)0}+\\beta_{K-1}^TX$\n",
        "\n",
        "То есть, модель задаёт $K-1$ уравнений log отношения шансов к $K$ классу в условиях суммы вероятностей возникновения $K$ классов равной 1, то есть:\n",
        "\n",
        "$\\mathbb{P}(Y=k|X)=\\frac{\\exp{\\beta_{k0}+\\beta_k^TX}}{1+\\sum_{i=1}^{K-1}\\exp{\\beta_{i0}+\\beta_i^TX}}$, где $k=1,...,K-1$\n",
        "\n",
        "$\\mathbb{P}(Y=K|X)=\\frac{1}{1+\\sum_{i=1}^{K-1}\\exp{\\beta_{i0}+\\beta_i^TX}}$.\n",
        "\n",
        "Лог-функция максимального правдоподобия **(log-likelihood)** имеет вид:\n",
        "\n",
        "$$\\ell(\\theta) = \\Sigma_{i=1}^N \\log p_{gi}(X_i,\\theta)$$\n",
        "\n",
        "где $p_k(X_i;\\theta)=\\mathbb{P}(Y=k|X;\\theta)$\n",
        "\n",
        "Решения в общем виде не существует, значения $\\theta$ минимизирующие $\\ell(\\theta)$ могут быть получены методами численной оптимизации.\n",
        "\n",
        "__Мультиномиальная логистическая регрессия предполагает__ независимость нерелеватных вариантов [https://en.wikipedia.org/wiki/Independence_of_irrelevant_alternatives](https://en.wikipedia.org/wiki/Independence_of_irrelevant_alternatives)\n",
        "\n",
        "## Вариант 2 - One vs Rest (OVR)\n",
        "\n",
        "OVR это обобщённый метод раширения любого бинарного классификатора для $K>3$ классов. По сути, для каждого отдельного класса, задача сводится к бинарной, то есть для кажого $k$ из $1,...,K$ конструируется новая зависимая переменная $z$, такая что:\n",
        "\n",
        "$z_i=1$, если $Y_i=k$\n",
        "\n",
        "$z_i=0$, если $Y_i \\neq k$\n",
        "\n",
        "Далее, для каждого класса подбираются оптимальные коэффициенты на основе бинарного классификатора (в нашем случае это логистическая регрессия).\n",
        "\n",
        "Формируется функция $f_k$ отражающая набор $K$ класисфикаторов (например, $K$ бинарных логистических регрессий).\n",
        "\n",
        "Тогда, пронозное значение может быть получено: $\\hat{y}=\\mathrm{argmax}_{k \\in 1...K}f_k(X)$\n",
        "\n",
        "## Вартант 3 - One Vs One (OVO)\n",
        "\n",
        "В этом подходе, задача сводится к бинарной путём формирования группу классов \"каждый с каждым\", таким образом, получается $\\frac{K(K-1)}{2}$ классификаторов. На этапе вывода, аналогично OVR, прогнозное значение присваивается класисифкатору с наибольшей вероятностью.\n",
        "\n",
        "\n"
      ],
      "metadata": {
        "id": "F9J2hxvtMlqK"
      }
    },
    {
      "cell_type": "code",
      "source": [
        "# logistic regression\n",
        "# https://scikit-learn.org/stable/modules/generated/sklearn.linear_model.LogisticRegression.html\n",
        "clf = LogisticRegression(penalty='none', multi_class='ovr', solver='newton-cg')\n",
        "clf.fit(X_train,y_train)"
      ],
      "metadata": {
        "colab": {
          "base_uri": "https://localhost:8080/"
        },
        "id": "iok-Q9oTsnKP",
        "outputId": "add021b7-4157-43e4-ff4a-4f0c16bbfc89"
      },
      "execution_count": null,
      "outputs": [
        {
          "output_type": "execute_result",
          "data": {
            "text/plain": [
              "LogisticRegression(multi_class='ovr', penalty='none', solver='newton-cg')"
            ]
          },
          "metadata": {},
          "execution_count": 10
        }
      ]
    },
    {
      "cell_type": "markdown",
      "source": [
        "# Оценка производительности модели"
      ],
      "metadata": {
        "id": "Vca6QMOhknMn"
      }
    },
    {
      "cell_type": "markdown",
      "source": [
        "## Бинарный случай"
      ],
      "metadata": {
        "id": "AVjffmCclo86"
      }
    },
    {
      "cell_type": "markdown",
      "source": [
        "![Снимок экрана 2022-04-05 в 18.23.11.png](data:image/png;base64,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)\n",
        "\n",
        "Fawcett, Tom. \"An introduction to ROC analysis.\" Pattern recognition letters 27.8 (2006): 861-874.\n"
      ],
      "metadata": {
        "id": "QOokyUwk0jU7"
      }
    },
    {
      "cell_type": "markdown",
      "source": [
        "## K>3"
      ],
      "metadata": {
        "id": "a_Oeji3HlvZR"
      }
    },
    {
      "cell_type": "markdown",
      "source": [
        "$\\mathrm{precision}_k=\\frac{TP_k}{TP_k+\\sum_{i=1}^K FP_{k \\rightarrow i}}$\n",
        "\n",
        "$\\mathrm{recall}_k=\\frac{TP_k}{TP_k+\\sum_{i=1}^K FN_{k \\rightarrow i}}$\n",
        "\n",
        "$\\mathrm{tpr}_k=\\frac{TP_K}{TP_k+\\sum_{i=1}^K FN_{k \\rightarrow i}}$\n",
        "\n",
        "$\\mathrm{fpr}_k=\\frac{FP_K}{|Y \\neq k|}$\n",
        "\n",
        "$\\mathrm{macro\\ precision}=\\frac{\\sum_{i=1}^K\\mathrm{precision}_K}{K}$\n",
        "\n",
        "$\\mathrm{micro\\ precision}= \\frac{\\sum_{i=1}^K TP_i}{\\sum_{i=1}^K TP_i+\\sum_{i=1}^K\\sum FP_i}$\n",
        "\n",
        "\n",
        "\n"
      ],
      "metadata": {
        "id": "fXJLbaPvlzeO"
      }
    },
    {
      "cell_type": "code",
      "source": [
        "# Model performance metrics\n",
        "y_true = y_test\n",
        "y_pred = clf.predict(X_test)\n",
        "# precision, recall, f1, overall accuracy\n",
        "print(classification_report(y_true,y_pred))\n",
        "\n",
        "y_true, y_pred"
      ],
      "metadata": {
        "colab": {
          "base_uri": "https://localhost:8080/"
        },
        "id": "tY6FIRbZxcYX",
        "outputId": "9cf19d6d-a8e6-4092-ac46-f3cbed66f453"
      },
      "execution_count": null,
      "outputs": [
        {
          "output_type": "stream",
          "name": "stdout",
          "text": [
            "              precision    recall  f1-score   support\n",
            "\n",
            "           1       1.00      0.91      0.95        22\n",
            "           2       1.00      0.95      0.97        19\n",
            "           3       0.89      1.00      0.94        25\n",
            "\n",
            "    accuracy                           0.95        66\n",
            "   macro avg       0.96      0.95      0.96        66\n",
            "weighted avg       0.96      0.95      0.95        66\n",
            "\n"
          ]
        },
        {
          "output_type": "execute_result",
          "data": {
            "text/plain": [
              "(array([1, 3, 2, 2, 3, 3, 1, 3, 1, 3, 1, 2, 3, 3, 2, 1, 1, 2, 1, 2, 3, 3,\n",
              "        1, 3, 1, 2, 3, 3, 2, 1, 1, 1, 2, 2, 1, 3, 3, 1, 3, 3, 3, 2, 1, 2,\n",
              "        3, 1, 1, 2, 2, 3, 2, 3, 2, 2, 3, 1, 1, 2, 1, 1, 2, 3, 3, 1, 3, 3],\n",
              "       dtype=int32),\n",
              " array([3, 3, 2, 2, 3, 3, 1, 3, 1, 3, 1, 2, 3, 3, 2, 1, 1, 3, 1, 2, 3, 3,\n",
              "        1, 3, 1, 2, 3, 3, 2, 1, 1, 1, 2, 2, 3, 3, 3, 1, 3, 3, 3, 2, 1, 2,\n",
              "        3, 1, 1, 2, 2, 3, 2, 3, 2, 2, 3, 1, 1, 2, 1, 1, 2, 3, 3, 1, 3, 3],\n",
              "       dtype=int32))"
            ]
          },
          "metadata": {},
          "execution_count": 11
        }
      ]
    },
    {
      "cell_type": "code",
      "source": [
        "# confusion matrix for the best threshold\n",
        "confusion_matrix(y_pred, y_true)"
      ],
      "metadata": {
        "colab": {
          "base_uri": "https://localhost:8080/"
        },
        "id": "viMOSJh-zQdv",
        "outputId": "fe332d4c-3199-438e-a598-e779ee4ab383"
      },
      "execution_count": null,
      "outputs": [
        {
          "output_type": "execute_result",
          "data": {
            "text/plain": [
              "array([[20,  0,  0],\n",
              "       [ 0, 18,  0],\n",
              "       [ 2,  1, 25]])"
            ]
          },
          "metadata": {},
          "execution_count": 12
        }
      ]
    },
    {
      "cell_type": "code",
      "source": [
        "precision_score(y_true, y_pred, average='micro')"
      ],
      "metadata": {
        "colab": {
          "base_uri": "https://localhost:8080/"
        },
        "id": "eYrVQrBAqbvn",
        "outputId": "7712e062-87a6-4057-e0ee-ca799a1de7a2"
      },
      "execution_count": null,
      "outputs": [
        {
          "output_type": "execute_result",
          "data": {
            "text/plain": [
              "0.9545454545454546"
            ]
          },
          "metadata": {},
          "execution_count": 13
        }
      ]
    },
    {
      "cell_type": "code",
      "source": [
        "precision_score(y_true, y_pred, average='macro')"
      ],
      "metadata": {
        "colab": {
          "base_uri": "https://localhost:8080/"
        },
        "id": "Bx0O4BIIqkSF",
        "outputId": "47643920-fdf1-4107-8f20-2bcca6cd89f3"
      },
      "execution_count": null,
      "outputs": [
        {
          "output_type": "execute_result",
          "data": {
            "text/plain": [
              "0.9642857142857143"
            ]
          },
          "metadata": {},
          "execution_count": 14
        }
      ]
    },
    {
      "cell_type": "code",
      "source": [
        "y_score = clf.predict_proba(X_test)\n",
        "y_score"
      ],
      "metadata": {
        "colab": {
          "base_uri": "https://localhost:8080/"
        },
        "id": "LbSG6zvBtDek",
        "outputId": "b08d80c4-2607-4a76-8cb7-d0a31abba47e"
      },
      "execution_count": null,
      "outputs": [
        {
          "output_type": "execute_result",
          "data": {
            "text/plain": [
              "array([[2.28972552e-001, 8.39075373e-020, 7.71027448e-001],\n",
              "       [3.43475032e-007, 1.69079145e-014, 9.99999657e-001],\n",
              "       [2.75974676e-005, 9.99972403e-001, 3.51162994e-169],\n",
              "       [1.58112169e-009, 9.99999998e-001, 1.03042150e-129],\n",
              "       [4.91270080e-006, 7.71746322e-019, 9.99995087e-001],\n",
              "       [1.72650019e-006, 1.41571111e-013, 9.99998273e-001],\n",
              "       [1.00000000e+000, 5.75086375e-021, 7.95483592e-084],\n",
              "       [1.64773367e-014, 4.52900586e-008, 9.99999955e-001],\n",
              "       [1.00000000e+000, 1.77712925e-031, 2.62594104e-098],\n",
              "       [1.19169001e-008, 7.30929275e-006, 9.99992679e-001],\n",
              "       [1.00000000e+000, 2.24123006e-034, 2.90202093e-089],\n",
              "       [3.74722376e-009, 9.99999996e-001, 5.19403888e-055],\n",
              "       [1.36196231e-011, 6.55523544e-009, 9.99999993e-001],\n",
              "       [1.76699473e-010, 2.06544627e-007, 9.99999793e-001],\n",
              "       [2.16016691e-007, 9.99999784e-001, 1.22329341e-168],\n",
              "       [7.36151405e-001, 2.63848595e-001, 9.03610140e-093],\n",
              "       [1.00000000e+000, 4.37951222e-017, 5.83057434e-078],\n",
              "       [4.50412842e-010, 5.00000000e-001, 5.00000000e-001],\n",
              "       [9.22469156e-001, 1.72575458e-009, 7.75308420e-002],\n",
              "       [5.46144888e-009, 9.99999995e-001, 1.12391788e-131],\n",
              "       [3.17234026e-003, 2.85212171e-015, 9.96827660e-001],\n",
              "       [4.73558633e-011, 3.76867641e-006, 9.99996231e-001],\n",
              "       [1.00000000e+000, 2.40780612e-016, 4.54270534e-069],\n",
              "       [7.40021255e-014, 2.00615585e-005, 9.99979938e-001],\n",
              "       [9.95507827e-001, 2.13296334e-017, 4.49217338e-003],\n",
              "       [5.76144721e-006, 9.99994239e-001, 6.87045991e-128],\n",
              "       [5.36476396e-008, 4.29945746e-019, 9.99999946e-001],\n",
              "       [1.79234723e-010, 5.13039854e-017, 1.00000000e+000],\n",
              "       [1.92081625e-006, 9.99998079e-001, 2.68782561e-128],\n",
              "       [1.00000000e+000, 4.73836907e-027, 1.18295040e-146],\n",
              "       [1.00000000e+000, 7.04778950e-019, 4.45722580e-137],\n",
              "       [1.00000000e+000, 1.26167039e-014, 2.45255932e-084],\n",
              "       [2.89390984e-009, 9.99999997e-001, 1.01816448e-099],\n",
              "       [4.93370281e-002, 9.50662972e-001, 6.69597067e-209],\n",
              "       [9.32990414e-002, 3.40566906e-020, 9.06700959e-001],\n",
              "       [1.02520226e-001, 1.16442761e-011, 8.97479774e-001],\n",
              "       [1.98863317e-008, 7.87527503e-003, 9.92124705e-001],\n",
              "       [1.00000000e+000, 2.65228151e-018, 5.74834249e-147],\n",
              "       [7.25070885e-010, 3.57432611e-006, 9.99996425e-001],\n",
              "       [2.90744068e-004, 5.46738088e-016, 9.99709256e-001],\n",
              "       [9.49038371e-012, 3.10919628e-007, 9.99999689e-001],\n",
              "       [1.67326130e-006, 9.99998327e-001, 1.29953842e-070],\n",
              "       [1.00000000e+000, 7.57301928e-034, 9.52198152e-075],\n",
              "       [4.33637871e-004, 9.99566362e-001, 1.42245387e-037],\n",
              "       [9.70380910e-009, 4.35432677e-008, 9.99999947e-001],\n",
              "       [1.00000000e+000, 1.18748137e-027, 5.24436451e-120],\n",
              "       [9.99999999e-001, 6.80830071e-010, 2.67382696e-127],\n",
              "       [3.79666874e-005, 9.99962033e-001, 3.95139006e-093],\n",
              "       [1.14489614e-011, 1.00000000e+000, 5.67720040e-131],\n",
              "       [1.09683226e-013, 2.28316978e-012, 1.00000000e+000],\n",
              "       [4.21498605e-007, 9.99999579e-001, 8.37169587e-041],\n",
              "       [3.21654366e-009, 1.32685082e-003, 9.98673146e-001],\n",
              "       [6.83514839e-007, 9.99999316e-001, 1.18329843e-224],\n",
              "       [6.25196037e-007, 9.99999375e-001, 7.81430666e-026],\n",
              "       [2.12543529e-012, 6.67308916e-010, 9.99999999e-001],\n",
              "       [1.00000000e+000, 9.72878131e-020, 5.69707414e-196],\n",
              "       [1.00000000e+000, 3.22446057e-018, 4.20152706e-096],\n",
              "       [7.13452624e-004, 9.99286547e-001, 1.35074386e-185],\n",
              "       [1.00000000e+000, 2.57762112e-024, 5.52655892e-043],\n",
              "       [1.00000000e+000, 3.52168085e-019, 6.71078451e-099],\n",
              "       [7.00190201e-004, 9.99299810e-001, 3.14739566e-083],\n",
              "       [2.99078090e-007, 7.04513952e-018, 9.99999701e-001],\n",
              "       [2.80203168e-009, 2.18169543e-020, 9.99999997e-001],\n",
              "       [1.00000000e+000, 1.47261853e-023, 7.44901568e-077],\n",
              "       [8.67660479e-008, 1.85651340e-014, 9.99999913e-001],\n",
              "       [1.96150822e-008, 3.41343291e-001, 6.58656689e-001]])"
            ]
          },
          "metadata": {},
          "execution_count": 15
        }
      ]
    },
    {
      "cell_type": "code",
      "source": [
        "# Binarize the output\n",
        "y = label_binarize(y_test, classes=[1, 2, 3])\n",
        "n_classes = y.shape[1]\n",
        "\n",
        "y"
      ],
      "metadata": {
        "colab": {
          "base_uri": "https://localhost:8080/"
        },
        "id": "mSjZx9xwv-UQ",
        "outputId": "b8ea6785-dc4c-4951-b9ed-8a43e1fb3de6"
      },
      "execution_count": null,
      "outputs": [
        {
          "output_type": "execute_result",
          "data": {
            "text/plain": [
              "array([[1, 0, 0],\n",
              "       [0, 0, 1],\n",
              "       [0, 1, 0],\n",
              "       [0, 1, 0],\n",
              "       [0, 0, 1],\n",
              "       [0, 0, 1],\n",
              "       [1, 0, 0],\n",
              "       [0, 0, 1],\n",
              "       [1, 0, 0],\n",
              "       [0, 0, 1],\n",
              "       [1, 0, 0],\n",
              "       [0, 1, 0],\n",
              "       [0, 0, 1],\n",
              "       [0, 0, 1],\n",
              "       [0, 1, 0],\n",
              "       [1, 0, 0],\n",
              "       [1, 0, 0],\n",
              "       [0, 1, 0],\n",
              "       [1, 0, 0],\n",
              "       [0, 1, 0],\n",
              "       [0, 0, 1],\n",
              "       [0, 0, 1],\n",
              "       [1, 0, 0],\n",
              "       [0, 0, 1],\n",
              "       [1, 0, 0],\n",
              "       [0, 1, 0],\n",
              "       [0, 0, 1],\n",
              "       [0, 0, 1],\n",
              "       [0, 1, 0],\n",
              "       [1, 0, 0],\n",
              "       [1, 0, 0],\n",
              "       [1, 0, 0],\n",
              "       [0, 1, 0],\n",
              "       [0, 1, 0],\n",
              "       [1, 0, 0],\n",
              "       [0, 0, 1],\n",
              "       [0, 0, 1],\n",
              "       [1, 0, 0],\n",
              "       [0, 0, 1],\n",
              "       [0, 0, 1],\n",
              "       [0, 0, 1],\n",
              "       [0, 1, 0],\n",
              "       [1, 0, 0],\n",
              "       [0, 1, 0],\n",
              "       [0, 0, 1],\n",
              "       [1, 0, 0],\n",
              "       [1, 0, 0],\n",
              "       [0, 1, 0],\n",
              "       [0, 1, 0],\n",
              "       [0, 0, 1],\n",
              "       [0, 1, 0],\n",
              "       [0, 0, 1],\n",
              "       [0, 1, 0],\n",
              "       [0, 1, 0],\n",
              "       [0, 0, 1],\n",
              "       [1, 0, 0],\n",
              "       [1, 0, 0],\n",
              "       [0, 1, 0],\n",
              "       [1, 0, 0],\n",
              "       [1, 0, 0],\n",
              "       [0, 1, 0],\n",
              "       [0, 0, 1],\n",
              "       [0, 0, 1],\n",
              "       [1, 0, 0],\n",
              "       [0, 0, 1],\n",
              "       [0, 0, 1]])"
            ]
          },
          "metadata": {},
          "execution_count": 16
        }
      ]
    },
    {
      "cell_type": "code",
      "source": [
        "# Compute ROC curve and ROC area for each class\n",
        "fpr = dict()\n",
        "tpr = dict()\n",
        "roc_auc = dict()\n",
        "for i in range(n_classes):\n",
        "    fpr[i], tpr[i], _ = roc_curve(y[:, i], y_score[:, i])\n",
        "    roc_auc[i] = auc(fpr[i], tpr[i])\n"
      ],
      "metadata": {
        "id": "KKNGX8eaycQs"
      },
      "execution_count": null,
      "outputs": []
    },
    {
      "cell_type": "code",
      "source": [
        "# Compute micro-average ROC curve and ROC area\n",
        "fpr[\"micro\"], tpr[\"micro\"], _ = roc_curve(y.ravel(), y_score.ravel())\n",
        "roc_auc[\"micro\"] = auc(fpr[\"micro\"], tpr[\"micro\"])\n",
        "\n",
        "fpr,tpr"
      ],
      "metadata": {
        "colab": {
          "base_uri": "https://localhost:8080/"
        },
        "id": "xYFSM-ZXzn8z",
        "outputId": "4b129a8a-69a9-4c23-a93a-00ea7963a390"
      },
      "execution_count": null,
      "outputs": [
        {
          "output_type": "execute_result",
          "data": {
            "text/plain": [
              "({0: array([0.        , 0.        , 0.        , 0.02272727, 0.02272727,\n",
              "         1.        ]),\n",
              "  1: array([0., 0., 0., 1.]),\n",
              "  2: array([0.        , 0.        , 0.        , 0.02439024, 0.02439024,\n",
              "         0.04878049, 0.04878049, 1.        ]),\n",
              "  'micro': array([0.        , 0.        , 0.        , 0.00757576, 0.00757576,\n",
              "         0.01515152, 0.01515152, 0.02272727, 0.02272727, 0.03787879,\n",
              "         0.03787879, 0.04545455, 0.04545455, 1.        ])},\n",
              " {0: array([0.        , 0.63636364, 0.95454545, 0.95454545, 1.        ,\n",
              "         1.        ]),\n",
              "  1: array([0.        , 0.05263158, 1.        , 1.        ]),\n",
              "  2: array([0.  , 0.04, 0.92, 0.92, 0.96, 0.96, 1.  , 1.  ]),\n",
              "  'micro': array([0.        , 0.21212121, 0.90909091, 0.90909091, 0.92424242,\n",
              "         0.92424242, 0.95454545, 0.95454545, 0.96969697, 0.96969697,\n",
              "         0.98484848, 0.98484848, 1.        , 1.        ])})"
            ]
          },
          "metadata": {},
          "execution_count": 18
        }
      ]
    },
    {
      "cell_type": "code",
      "source": [
        "roc_auc"
      ],
      "metadata": {
        "colab": {
          "base_uri": "https://localhost:8080/"
        },
        "id": "217DZZGj1PMj",
        "outputId": "c0693d0f-f27f-4dec-acc4-b4be8e0a72fe"
      },
      "execution_count": null,
      "outputs": [
        {
          "output_type": "execute_result",
          "data": {
            "text/plain": [
              "{0: 0.9989669421487604,\n",
              " 1: 1.0,\n",
              " 2: 0.9970731707317073,\n",
              " 'micro': 0.9978191000918274}"
            ]
          },
          "metadata": {},
          "execution_count": 19
        }
      ]
    },
    {
      "cell_type": "code",
      "source": [
        "# source https://scikit-learn.org/stable/auto_examples/model_selection/plot_roc.html\n",
        "\n",
        "lw = 2\n",
        "\n",
        "# First aggregate all false positive rates\n",
        "all_fpr = np.unique(np.concatenate([fpr[i] for i in range(n_classes)]))\n",
        "\n",
        "# Then interpolate all ROC curves at this points\n",
        "mean_tpr = np.zeros_like(all_fpr)\n",
        "for i in range(n_classes):\n",
        "    mean_tpr += np.interp(all_fpr, fpr[i], tpr[i])\n",
        "\n",
        "# Finally average it and compute AUC\n",
        "mean_tpr /= n_classes\n",
        "\n",
        "fpr[\"macro\"] = all_fpr\n",
        "tpr[\"macro\"] = mean_tpr\n",
        "roc_auc[\"macro\"] = auc(fpr[\"macro\"], tpr[\"macro\"])\n",
        "\n",
        "# Plot all ROC curves\n",
        "plt.figure(figsize=(14, 10))\n",
        "plt.plot(\n",
        "    fpr[\"micro\"],\n",
        "    tpr[\"micro\"],\n",
        "    label=\"micro-average ROC curve (area = {0:0.4f})\".format(roc_auc[\"micro\"]),\n",
        "    color=\"deeppink\",\n",
        "    linestyle=\":\",\n",
        "    linewidth=4,\n",
        ")\n",
        "\n",
        "plt.plot(\n",
        "    fpr[\"macro\"],\n",
        "    tpr[\"macro\"],\n",
        "    label=\"macro-average ROC curve (area = {0:0.4f})\".format(roc_auc[\"macro\"]),\n",
        "    color=\"navy\",\n",
        "    linestyle=\":\",\n",
        "    linewidth=4,\n",
        ")\n",
        "\n",
        "colors = cycle([\"aqua\", \"darkorange\", \"cornflowerblue\"])\n",
        "for i, color in zip(range(n_classes), colors):\n",
        "    plt.plot(\n",
        "        fpr[i],\n",
        "        tpr[i],\n",
        "        color=color,\n",
        "        lw=lw,\n",
        "        label=\"ROC curve of class {0} (area = {1:0.4f})\".format(i, roc_auc[i]),\n",
        "    )\n",
        "\n",
        "plt.plot([0, 1], [0, 1], \"k--\", lw=lw)\n",
        "plt.xlim([0.0, 1.0])\n",
        "plt.ylim([0.0, 1.05])\n",
        "plt.xlabel(\"False Positive Rate\")\n",
        "plt.ylabel(\"True Positive Rate\")\n",
        "plt.title(\"Some extension of Receiver operating characteristic to multiclass\")\n",
        "plt.legend(loc=\"lower right\")\n",
        "plt.show()"
      ],
      "metadata": {
        "colab": {
          "base_uri": "https://localhost:8080/",
          "height": 621
        },
        "id": "uOGMsA0o0DdV",
        "outputId": "e8b9c007-a512-42c8-db9c-18fd78aa6b11"
      },
      "execution_count": null,
      "outputs": [
        {
          "output_type": "display_data",
          "data": {
            "text/plain": [
              "<Figure size 1008x720 with 1 Axes>"
            ],
            "image/png": "[encoded data removed]"
          },
          "metadata": {
            "needs_background": "light"
          }
        }
      ]
    },
    {
      "cell_type": "code",
      "source": [
        "roc_auc_score(y_true, clf.predict_proba(X_test), multi_class='ovr')"
      ],
      "metadata": {
        "colab": {
          "base_uri": "https://localhost:8080/"
        },
        "id": "rnlbHMGwtNRd",
        "outputId": "d9ee75a3-e5a5-4538-8544-1575c6c511e8"
      },
      "execution_count": null,
      "outputs": [
        {
          "output_type": "execute_result",
          "data": {
            "text/plain": [
              "0.9986800376268224"
            ]
          },
          "metadata": {},
          "execution_count": 145
        }
      ]
    },
    {
      "cell_type": "markdown",
      "source": [
        "# Линейный/квадратный дискриминативный анализ"
      ],
      "metadata": {
        "id": "0aFi7zTd1wxw"
      }
    },
    {
      "cell_type": "markdown",
      "source": [
        "https://scikit-learn.org/stable/modules/lda_qda.html#lda-qda"
      ],
      "metadata": {
        "id": "17lpONwUFfL6"
      }
    },
    {
      "cell_type": "code",
      "source": [
        "#LDA\n",
        "clf_lda = LinearDiscriminantAnalysis()\n",
        "clf_lda.fit(X_train,y_train)"
      ],
      "metadata": {
        "colab": {
          "base_uri": "https://localhost:8080/"
        },
        "id": "QrGXgkVT13jA",
        "outputId": "0fa0f69a-adac-4f19-cb4e-988f70f1b3d9"
      },
      "execution_count": null,
      "outputs": [
        {
          "output_type": "execute_result",
          "data": {
            "text/plain": [
              "LinearDiscriminantAnalysis()"
            ]
          },
          "metadata": {},
          "execution_count": 21
        }
      ]
    },
    {
      "cell_type": "code",
      "source": [
        "# Model performance metrics\n",
        "y_true = y_test\n",
        "y_pred = clf_lda.predict(X_test)\n",
        "# precision, recall, f1, overall accuracy\n",
        "print(classification_report(y_true,y_pred))\n",
        "\n",
        "y_true, y_pred"
      ],
      "metadata": {
        "colab": {
          "base_uri": "https://localhost:8080/"
        },
        "id": "9CXdp8I00ivu",
        "outputId": "6c8c62c1-204b-45bd-bf63-c52c76a6eb3d"
      },
      "execution_count": null,
      "outputs": [
        {
          "output_type": "stream",
          "name": "stdout",
          "text": [
            "              precision    recall  f1-score   support\n",
            "\n",
            "           1       0.95      0.91      0.93        22\n",
            "           2       0.95      1.00      0.97        19\n",
            "           3       0.96      0.96      0.96        25\n",
            "\n",
            "    accuracy                           0.95        66\n",
            "   macro avg       0.95      0.96      0.95        66\n",
            "weighted avg       0.95      0.95      0.95        66\n",
            "\n"
          ]
        },
        {
          "output_type": "execute_result",
          "data": {
            "text/plain": [
              "(array([1, 3, 2, 2, 3, 3, 1, 3, 1, 3, 1, 2, 3, 3, 2, 1, 1, 2, 1, 2, 3, 3,\n",
              "        1, 3, 1, 2, 3, 3, 2, 1, 1, 1, 2, 2, 1, 3, 3, 1, 3, 3, 3, 2, 1, 2,\n",
              "        3, 1, 1, 2, 2, 3, 2, 3, 2, 2, 3, 1, 1, 2, 1, 1, 2, 3, 3, 1, 3, 3],\n",
              "       dtype=int32),\n",
              " array([1, 3, 2, 2, 3, 3, 1, 3, 1, 3, 1, 2, 3, 3, 2, 2, 1, 2, 1, 2, 3, 3,\n",
              "        1, 3, 1, 2, 3, 3, 2, 1, 1, 1, 2, 2, 3, 1, 3, 1, 3, 3, 3, 2, 1, 2,\n",
              "        3, 1, 1, 2, 2, 3, 2, 3, 2, 2, 3, 1, 1, 2, 1, 1, 2, 3, 3, 1, 3, 3],\n",
              "       dtype=int32))"
            ]
          },
          "metadata": {},
          "execution_count": 22
        }
      ]
    },
    {
      "cell_type": "code",
      "source": [
        "y_score = clf_lda.predict_proba(X_test)\n",
        "\n",
        "# Compute ROC curve and ROC area for each class\n",
        "fpr = dict()\n",
        "tpr = dict()\n",
        "roc_auc = dict()\n",
        "for i in range(n_classes):\n",
        "    fpr[i], tpr[i], _ = roc_curve(y[:, i], y_score[:, i])\n",
        "    roc_auc[i] = auc(fpr[i], tpr[i])\n",
        "\n",
        "# Compute micro-average ROC curve and ROC area\n",
        "fpr[\"micro\"], tpr[\"micro\"], _ = roc_curve(y.ravel(), y_score.ravel())\n",
        "roc_auc[\"micro\"] = auc(fpr[\"micro\"], tpr[\"micro\"])\n",
        "\n",
        "lw = 2\n",
        "\n",
        "# First aggregate all false positive rates\n",
        "all_fpr = np.unique(np.concatenate([fpr[i] for i in range(n_classes)]))\n",
        "\n",
        "# Then interpolate all ROC curves at this points\n",
        "mean_tpr = np.zeros_like(all_fpr)\n",
        "for i in range(n_classes):\n",
        "    mean_tpr += np.interp(all_fpr, fpr[i], tpr[i])\n",
        "\n",
        "# Finally average it and compute AUC\n",
        "mean_tpr /= n_classes\n",
        "\n",
        "fpr[\"macro\"] = all_fpr\n",
        "tpr[\"macro\"] = mean_tpr\n",
        "roc_auc[\"macro\"] = auc(fpr[\"macro\"], tpr[\"macro\"])\n",
        "\n",
        "# Plot all ROC curves\n",
        "plt.figure(figsize=(14, 10))\n",
        "plt.plot(\n",
        "    fpr[\"micro\"],\n",
        "    tpr[\"micro\"],\n",
        "    label=\"micro-average ROC curve (area = {0:0.4f})\".format(roc_auc[\"micro\"]),\n",
        "    color=\"deeppink\",\n",
        "    linestyle=\":\",\n",
        "    linewidth=4,\n",
        ")\n",
        "\n",
        "plt.plot(\n",
        "    fpr[\"macro\"],\n",
        "    tpr[\"macro\"],\n",
        "    label=\"macro-average ROC curve (area = {0:0.4f})\".format(roc_auc[\"macro\"]),\n",
        "    color=\"navy\",\n",
        "    linestyle=\":\",\n",
        "    linewidth=4,\n",
        ")\n",
        "\n",
        "colors = cycle([\"aqua\", \"darkorange\", \"cornflowerblue\"])\n",
        "for i, color in zip(range(n_classes), colors):\n",
        "    plt.plot(\n",
        "        fpr[i],\n",
        "        tpr[i],\n",
        "        color=color,\n",
        "        lw=lw,\n",
        "        label=\"ROC curve of class {0} (area = {1:0.4f})\".format(i, roc_auc[i]),\n",
        "    )\n",
        "\n",
        "plt.plot([0, 1], [0, 1], \"k--\", lw=lw)\n",
        "plt.xlim([0.0, 1.0])\n",
        "plt.ylim([0.0, 1.05])\n",
        "plt.xlabel(\"False Positive Rate\")\n",
        "plt.ylabel(\"True Positive Rate\")\n",
        "plt.title(\"Some extension of Receiver operating characteristic to multiclass\")\n",
        "plt.legend(loc=\"lower right\")\n",
        "plt.show()"
      ],
      "metadata": {
        "colab": {
          "base_uri": "https://localhost:8080/",
          "height": 621
        },
        "id": "CVYA0dFbAqPt",
        "outputId": "ece28a01-2e3d-40fc-c402-8a9b787c0227"
      },
      "execution_count": null,
      "outputs": [
        {
          "output_type": "display_data",
          "data": {
            "text/plain": [
              "<Figure size 1008x720 with 1 Axes>"
            ],
            "image/png": "[encoded data removed]"
          },
          "metadata": {
            "needs_background": "light"
          }
        }
      ]
    },
    {
      "cell_type": "code",
      "source": [
        "roc_auc_score(y_true, clf_lda.predict_proba(X_test), multi_class='ovr')"
      ],
      "metadata": {
        "colab": {
          "base_uri": "https://localhost:8080/"
        },
        "id": "hR-vZGLr-Av0",
        "outputId": "51cabe1a-7fa8-4d13-e61d-4e15ac78f9eb"
      },
      "execution_count": null,
      "outputs": [
        {
          "output_type": "execute_result",
          "data": {
            "text/plain": [
              "0.9983165356446952"
            ]
          },
          "metadata": {},
          "execution_count": 24
        }
      ]
    },
    {
      "cell_type": "code",
      "source": [
        "#QDA\n",
        "clf_qda = QuadraticDiscriminantAnalysis()\n",
        "clf_qda.fit(X_train,y_train)"
      ],
      "metadata": {
        "colab": {
          "base_uri": "https://localhost:8080/"
        },
        "id": "DkUyDyTN2t1n",
        "outputId": "e44ab814-2aa5-45c6-eb7f-2b2ac6693580"
      },
      "execution_count": null,
      "outputs": [
        {
          "output_type": "execute_result",
          "data": {
            "text/plain": [
              "QuadraticDiscriminantAnalysis()"
            ]
          },
          "metadata": {},
          "execution_count": 25
        }
      ]
    },
    {
      "cell_type": "code",
      "source": [
        "# Model performance metrics\n",
        "y_true = y_test\n",
        "y_pred = clf_qda.predict(X_test)\n",
        "# precision, recall, f1, overall accuracy\n",
        "print(classification_report(y_true,y_pred))\n",
        "\n",
        "y_true, y_pred"
      ],
      "metadata": {
        "colab": {
          "base_uri": "https://localhost:8080/"
        },
        "id": "CytsxxAo3DTv",
        "outputId": "50f446f7-8e2a-4ee2-ff95-1a722a5a855d"
      },
      "execution_count": null,
      "outputs": [
        {
          "output_type": "stream",
          "name": "stdout",
          "text": [
            "              precision    recall  f1-score   support\n",
            "\n",
            "           1       0.95      0.86      0.90        22\n",
            "           2       0.95      1.00      0.97        19\n",
            "           3       0.92      0.96      0.94        25\n",
            "\n",
            "    accuracy                           0.94        66\n",
            "   macro avg       0.94      0.94      0.94        66\n",
            "weighted avg       0.94      0.94      0.94        66\n",
            "\n"
          ]
        },
        {
          "output_type": "execute_result",
          "data": {
            "text/plain": [
              "(array([1, 3, 2, 2, 3, 3, 1, 3, 1, 3, 1, 2, 3, 3, 2, 1, 1, 2, 1, 2, 3, 3,\n",
              "        1, 3, 1, 2, 3, 3, 2, 1, 1, 1, 2, 2, 1, 3, 3, 1, 3, 3, 3, 2, 1, 2,\n",
              "        3, 1, 1, 2, 2, 3, 2, 3, 2, 2, 3, 1, 1, 2, 1, 1, 2, 3, 3, 1, 3, 3],\n",
              "       dtype=int32),\n",
              " array([3, 3, 2, 2, 3, 3, 1, 3, 1, 3, 1, 2, 3, 3, 2, 2, 1, 2, 1, 2, 3, 3,\n",
              "        1, 3, 1, 2, 3, 3, 2, 1, 1, 1, 2, 2, 3, 1, 3, 1, 3, 3, 3, 2, 1, 2,\n",
              "        3, 1, 1, 2, 2, 3, 2, 3, 2, 2, 3, 1, 1, 2, 1, 1, 2, 3, 3, 1, 3, 3],\n",
              "       dtype=int32))"
            ]
          },
          "metadata": {},
          "execution_count": 26
        }
      ]
    },
    {
      "cell_type": "code",
      "source": [
        "y_score = clf_qda.predict_proba(X_test)\n",
        "\n",
        "# Compute ROC curve and ROC area for each class\n",
        "fpr = dict()\n",
        "tpr = dict()\n",
        "roc_auc = dict()\n",
        "for i in range(n_classes):\n",
        "    fpr[i], tpr[i], _ = roc_curve(y[:, i], y_score[:, i])\n",
        "    roc_auc[i] = auc(fpr[i], tpr[i])\n",
        "\n",
        "# Compute micro-average ROC curve and ROC area\n",
        "fpr[\"micro\"], tpr[\"micro\"], _ = roc_curve(y.ravel(), y_score.ravel())\n",
        "roc_auc[\"micro\"] = auc(fpr[\"micro\"], tpr[\"micro\"])\n",
        "\n",
        "lw = 2\n",
        "\n",
        "# First aggregate all false positive rates\n",
        "all_fpr = np.unique(np.concatenate([fpr[i] for i in range(n_classes)]))\n",
        "\n",
        "# Then interpolate all ROC curves at this points\n",
        "mean_tpr = np.zeros_like(all_fpr)\n",
        "for i in range(n_classes):\n",
        "    mean_tpr += np.interp(all_fpr, fpr[i], tpr[i])\n",
        "\n",
        "# Finally average it and compute AUC\n",
        "mean_tpr /= n_classes\n",
        "\n",
        "fpr[\"macro\"] = all_fpr\n",
        "tpr[\"macro\"] = mean_tpr\n",
        "roc_auc[\"macro\"] = auc(fpr[\"macro\"], tpr[\"macro\"])\n",
        "\n",
        "# Plot all ROC curves\n",
        "plt.figure(figsize=(14, 10))\n",
        "plt.plot(\n",
        "    fpr[\"micro\"],\n",
        "    tpr[\"micro\"],\n",
        "    label=\"micro-average ROC curve (area = {0:0.4f})\".format(roc_auc[\"micro\"]),\n",
        "    color=\"deeppink\",\n",
        "    linestyle=\":\",\n",
        "    linewidth=4,\n",
        ")\n",
        "\n",
        "plt.plot(\n",
        "    fpr[\"macro\"],\n",
        "    tpr[\"macro\"],\n",
        "    label=\"macro-average ROC curve (area = {0:0.4f})\".format(roc_auc[\"macro\"]),\n",
        "    color=\"navy\",\n",
        "    linestyle=\":\",\n",
        "    linewidth=4,\n",
        ")\n",
        "\n",
        "colors = cycle([\"aqua\", \"darkorange\", \"cornflowerblue\"])\n",
        "for i, color in zip(range(n_classes), colors):\n",
        "    plt.plot(\n",
        "        fpr[i],\n",
        "        tpr[i],\n",
        "        color=color,\n",
        "        lw=lw,\n",
        "        label=\"ROC curve of class {0} (area = {1:0.4f})\".format(i, roc_auc[i]),\n",
        "    )\n",
        "\n",
        "plt.plot([0, 1], [0, 1], \"k--\", lw=lw)\n",
        "plt.xlim([0.0, 1.0])\n",
        "plt.ylim([0.0, 1.05])\n",
        "plt.xlabel(\"False Positive Rate\")\n",
        "plt.ylabel(\"True Positive Rate\")\n",
        "plt.title(\"Some extension of Receiver operating characteristic to multiclass\")\n",
        "plt.legend(loc=\"lower right\")\n",
        "plt.show()"
      ],
      "metadata": {
        "colab": {
          "base_uri": "https://localhost:8080/",
          "height": 621
        },
        "id": "YeTDiJOB-6Ch",
        "outputId": "fbc19a9d-0837-401c-f513-e2ffa65ce16b"
      },
      "execution_count": null,
      "outputs": [
        {
          "output_type": "display_data",
          "data": {
            "text/plain": [
              "<Figure size 1008x720 with 1 Axes>"
            ],
            "image/png": "[encoded data removed]"
          },
          "metadata": {
            "needs_background": "light"
          }
        }
      ]
    },
    {
      "cell_type": "code",
      "source": [
        "roc_auc_score(y_true, clf_qda.predict_proba(X_test),multi_class=\"ovr\")"
      ],
      "metadata": {
        "colab": {
          "base_uri": "https://localhost:8080/"
        },
        "id": "uGKN6dkl3K-o",
        "outputId": "8ab6026e-4f3b-40ce-a266-1e1d32803706"
      },
      "execution_count": null,
      "outputs": [
        {
          "output_type": "execute_result",
          "data": {
            "text/plain": [
              "0.9904534796571903"
            ]
          },
          "metadata": {},
          "execution_count": 28
        }
      ]
    },
    {
      "cell_type": "markdown",
      "source": [
        "# Кросс-валидация и выбор модели"
      ],
      "metadata": {
        "id": "qkpkew5EC2wM"
      }
    },
    {
      "cell_type": "code",
      "source": [
        "# data preparation\n",
        "X = DATA.loc[:, DATA.columns != 'class'].to_numpy()\n",
        "y = DATA[\"class\"].to_numpy()\n",
        "X, y"
      ],
      "metadata": {
        "colab": {
          "base_uri": "https://localhost:8080/"
        },
        "id": "Yz49AkUCEPJc",
        "outputId": "df3314c5-b61a-437f-d76a-7df2b1db2c57"
      },
      "execution_count": null,
      "outputs": [
        {
          "output_type": "execute_result",
          "data": {
            "text/plain": [
              "(array([[15.26  , 14.84  ,  0.871 , ...,  3.312 ,  2.221 ,  5.22  ],\n",
              "        [14.88  , 14.57  ,  0.8811, ...,  3.333 ,  1.018 ,  4.956 ],\n",
              "        [14.29  , 14.09  ,  0.905 , ...,  3.337 ,  2.699 ,  4.825 ],\n",
              "        ...,\n",
              "        [13.2   , 13.66  ,  0.8883, ...,  3.232 ,  8.315 ,  5.056 ],\n",
              "        [11.84  , 13.21  ,  0.8521, ...,  2.836 ,  3.598 ,  5.044 ],\n",
              "        [12.3   , 13.34  ,  0.8684, ...,  2.974 ,  5.637 ,  5.063 ]]),\n",
              " array([1, 1, 1, 1, 1, 1, 1, 1, 1, 1, 1, 1, 1, 1, 1, 1, 1, 1, 1, 1, 1, 1,\n",
              "        1, 1, 1, 1, 1, 1, 1, 1, 1, 1, 1, 1, 1, 1, 1, 1, 1, 1, 1, 1, 1, 1,\n",
              "        1, 1, 1, 1, 1, 1, 1, 1, 1, 1, 1, 1, 1, 1, 1, 1, 1, 1, 1, 1, 1, 1,\n",
              "        2, 2, 2, 2, 2, 2, 2, 2, 2, 2, 2, 2, 2, 2, 2, 2, 2, 2, 2, 2, 2, 2,\n",
              "        2, 2, 2, 2, 2, 2, 2, 2, 2, 2, 2, 2, 2, 2, 2, 2, 2, 2, 2, 2, 2, 2,\n",
              "        2, 2, 2, 2, 2, 2, 2, 2, 2, 2, 2, 2, 2, 2, 2, 2, 2, 2, 2, 2, 2, 2,\n",
              "        2, 2, 3, 3, 3, 3, 3, 3, 3, 3, 3, 3, 3, 3, 3, 3, 3, 3, 3, 3, 3, 3,\n",
              "        3, 3, 3, 3, 3, 3, 3, 3, 3, 3, 3, 3, 3, 3, 3, 3, 3, 3, 3, 3, 3, 3,\n",
              "        3, 3, 3, 3, 3, 3, 3, 3, 3, 3, 3, 3, 3, 3, 3, 3, 3, 3, 3, 3, 3, 3,\n",
              "        3], dtype=int32))"
            ]
          },
          "metadata": {},
          "execution_count": 29
        }
      ]
    },
    {
      "cell_type": "code",
      "source": [
        "model_1 = LogisticRegression(penalty='none', multi_class='ovr', solver='newton-cg')\n",
        "scores = cross_val_score(model_1, X, y, cv=10, scoring='roc_auc_ovr')\n",
        "print(\"Logit has %0.4f OvR AUC with a standard deviation of %0.2f\" % (scores.mean(), scores.std()))\n",
        "\n",
        "model_2 = LinearDiscriminantAnalysis()\n",
        "scores = cross_val_score(model_2, X, y, cv=10, scoring='roc_auc_ovr')\n",
        "print(\"LDA has %0.4f OvR AUC with a standard deviation of %0.2f\" % (scores.mean(), scores.std()))\n",
        "\n",
        "model_3 = QuadraticDiscriminantAnalysis()\n",
        "scores = cross_val_score(model_3, X, y, cv=10, scoring='roc_auc_ovr')\n",
        "print(\"QDA has %0.4f OvR AUC with a standard deviation of %0.2f\" % (scores.mean(), scores.std()))"
      ],
      "metadata": {
        "colab": {
          "base_uri": "https://localhost:8080/"
        },
        "id": "VNp9eVsOCS3c",
        "outputId": "9f3d3634-f942-4dff-9130-4402aaa50c22"
      },
      "execution_count": null,
      "outputs": [
        {
          "output_type": "stream",
          "name": "stderr",
          "text": [
            "/usr/local/lib/python3.7/dist-packages/sklearn/utils/optimize.py:212: ConvergenceWarning: newton-cg failed to converge. Increase the number of iterations.\n",
            "  ConvergenceWarning,\n",
            "/usr/local/lib/python3.7/dist-packages/sklearn/utils/optimize.py:212: ConvergenceWarning: newton-cg failed to converge. Increase the number of iterations.\n",
            "  ConvergenceWarning,\n"
          ]
        },
        {
          "output_type": "stream",
          "name": "stdout",
          "text": [
            "Logit has 0.9957 OvR AUC with a standard deviation of 0.01\n",
            "LDA has 0.9954 OvR AUC with a standard deviation of 0.01\n",
            "QDA has 0.9879 OvR AUC with a standard deviation of 0.02\n"
          ]
        }
      ]
    },
    {
      "cell_type": "code",
      "source": [],
      "metadata": {
        "id": "OohWzlq1EGxK"
      },
      "execution_count": null,
      "outputs": []
    }
  ]
}