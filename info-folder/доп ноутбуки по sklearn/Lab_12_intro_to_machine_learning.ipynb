{
  "nbformat": 4,
  "nbformat_minor": 0,
  "metadata": {
    "colab": {
      "name": "Lab_12_intro_to_machine_learning",
      "provenance": []
    },
    "kernelspec": {
      "name": "python3",
      "display_name": "Python 3"
    },
    "language_info": {
      "name": "python"
    },
    "accelerator": "GPU"
  },
  "cells": [
    {
      "cell_type": "markdown",
      "source": [
        "Видео лабораторной: https://youtu.be/r-z1cjvpwBE\n",
        "\n",
        "TG: https://t.me/data_science_news\n",
        "\n",
        "\n",
        "\n",
        "---"
      ],
      "metadata": {
        "id": "-xv-tPMotFuR"
      }
    },
    {
      "cell_type": "code",
      "execution_count": null,
      "metadata": {
        "id": "Z5BcJ-9oZr5D",
        "colab": {
          "base_uri": "https://localhost:8080/"
        },
        "outputId": "47a371c5-6905-4fb1-fef8-89024915e987"
      },
      "outputs": [
        {
          "output_type": "stream",
          "name": "stdout",
          "text": [
            "2.8.0\n"
          ]
        }
      ],
      "source": [
        "import pandas as pd\n",
        "import numpy as np\n",
        "import matplotlib.pylab as plt\n",
        "\n",
        "from sklearn.linear_model import LinearRegression\n",
        "from sklearn.linear_model import Ridge\n",
        "from sklearn.linear_model import Lasso\n",
        "from sklearn.model_selection import cross_val_score\n",
        "from sklearn.preprocessing import MaxAbsScaler\n",
        "from sklearn.model_selection import train_test_split\n",
        "from sklearn.metrics import mean_squared_error\n",
        "\n",
        "import tensorflow as tf\n",
        "from tensorflow import keras\n",
        "from tensorflow.keras import layers\n",
        "\n",
        "print(tf.__version__)"
      ]
    },
    {
      "cell_type": "markdown",
      "source": [
        "# Разведочный анализ данных\n",
        "\n",
        "[Набор данных Copyright 2020 Google LLC](https://colab.research.google.com/github/google/eng-edu/blob/main/ml/cc/exercises/linear_regression_with_a_real_dataset.ipynb)\n",
        "\n",
        "[Документация по набору данных](https://developers.google.com/machine-learning/crash-course/california-housing-data-description)"
      ],
      "metadata": {
        "id": "fHFFL3xCe7k1"
      }
    },
    {
      "cell_type": "code",
      "source": [
        "!wget https://download.mlcc.google.com/mledu-datasets/california_housing_train.csv\n",
        "!head california_housing_train.csv"
      ],
      "metadata": {
        "colab": {
          "base_uri": "https://localhost:8080/"
        },
        "id": "T5vVWNXre1QT",
        "outputId": "a6700678-2ddd-42e2-c997-08b0d46b60cd"
      },
      "execution_count": null,
      "outputs": [
        {
          "output_type": "stream",
          "name": "stdout",
          "text": [
            "--2022-03-16 05:30:23--  https://download.mlcc.google.com/mledu-datasets/california_housing_train.csv\n",
            "Resolving download.mlcc.google.com (download.mlcc.google.com)... 74.125.133.94, 2a00:1450:400c:c07::5e\n",
            "Connecting to download.mlcc.google.com (download.mlcc.google.com)|74.125.133.94|:443... connected.\n",
            "HTTP request sent, awaiting response... 302 Found\n",
            "Location: https://dl.google.com/mlcc/mledu-datasets/california_housing_train.csv [following]\n",
            "--2022-03-16 05:30:23--  https://dl.google.com/mlcc/mledu-datasets/california_housing_train.csv\n",
            "Resolving dl.google.com (dl.google.com)... 64.233.167.91, 64.233.167.136, 64.233.167.93, ...\n",
            "Connecting to dl.google.com (dl.google.com)|64.233.167.91|:443... connected.\n",
            "HTTP request sent, awaiting response... 200 OK\n",
            "Length: 1706430 (1.6M) [text/csv]\n",
            "Saving to: ‘california_housing_train.csv’\n",
            "\n",
            "\r          californi   0%[                    ]       0  --.-KB/s               \rcalifornia_housing_ 100%[===================>]   1.63M  --.-KB/s    in 0.01s   \n",
            "\n",
            "2022-03-16 05:30:23 (128 MB/s) - ‘california_housing_train.csv’ saved [1706430/1706430]\n",
            "\n",
            "\"longitude\",\"latitude\",\"housing_median_age\",\"total_rooms\",\"total_bedrooms\",\"population\",\"households\",\"median_income\",\"median_house_value\"\n",
            "-114.310000,34.190000,15.000000,5612.000000,1283.000000,1015.000000,472.000000,1.493600,66900.000000\n",
            "-114.470000,34.400000,19.000000,7650.000000,1901.000000,1129.000000,463.000000,1.820000,80100.000000\n",
            "-114.560000,33.690000,17.000000,720.000000,174.000000,333.000000,117.000000,1.650900,85700.000000\n",
            "-114.570000,33.640000,14.000000,1501.000000,337.000000,515.000000,226.000000,3.191700,73400.000000\n",
            "-114.570000,33.570000,20.000000,1454.000000,326.000000,624.000000,262.000000,1.925000,65500.000000\n",
            "-114.580000,33.630000,29.000000,1387.000000,236.000000,671.000000,239.000000,3.343800,74000.000000\n",
            "-114.580000,33.610000,25.000000,2907.000000,680.000000,1841.000000,633.000000,2.676800,82400.000000\n",
            "-114.590000,34.830000,41.000000,812.000000,168.000000,375.000000,158.000000,1.708300,48500.000000\n",
            "-114.590000,33.610000,34.000000,4789.000000,1175.000000,3134.000000,1056.000000,2.178200,58400.000000\n"
          ]
        }
      ]
    },
    {
      "cell_type": "code",
      "source": [
        "dataset_1 = pd.read_csv(\"california_housing_train.csv\")\n",
        "dataset_1.describe()"
      ],
      "metadata": {
        "colab": {
          "base_uri": "https://localhost:8080/",
          "height": 300
        },
        "id": "YAmQv4zxfhnL",
        "outputId": "8f8a8611-37fb-4839-ad10-e9d8c7862416"
      },
      "execution_count": null,
      "outputs": [
        {
          "output_type": "execute_result",
          "data": {
            "text/plain": [
              "          longitude      latitude  housing_median_age   total_rooms  \\\n",
              "count  17000.000000  17000.000000        17000.000000  17000.000000   \n",
              "mean    -119.562108     35.625225           28.589353   2643.664412   \n",
              "std        2.005166      2.137340           12.586937   2179.947071   \n",
              "min     -124.350000     32.540000            1.000000      2.000000   \n",
              "25%     -121.790000     33.930000           18.000000   1462.000000   \n",
              "50%     -118.490000     34.250000           29.000000   2127.000000   \n",
              "75%     -118.000000     37.720000           37.000000   3151.250000   \n",
              "max     -114.310000     41.950000           52.000000  37937.000000   \n",
              "\n",
              "       total_bedrooms    population    households  median_income  \\\n",
              "count    17000.000000  17000.000000  17000.000000   17000.000000   \n",
              "mean       539.410824   1429.573941    501.221941       3.883578   \n",
              "std        421.499452   1147.852959    384.520841       1.908157   \n",
              "min          1.000000      3.000000      1.000000       0.499900   \n",
              "25%        297.000000    790.000000    282.000000       2.566375   \n",
              "50%        434.000000   1167.000000    409.000000       3.544600   \n",
              "75%        648.250000   1721.000000    605.250000       4.767000   \n",
              "max       6445.000000  35682.000000   6082.000000      15.000100   \n",
              "\n",
              "       median_house_value  \n",
              "count        17000.000000  \n",
              "mean        207300.912353  \n",
              "std         115983.764387  \n",
              "min          14999.000000  \n",
              "25%         119400.000000  \n",
              "50%         180400.000000  \n",
              "75%         265000.000000  \n",
              "max         500001.000000  "
            ],
            "text/html": [
              "\n",
              "  <div id=\"df-726fb9fb-e88d-4f15-bb58-35e88103ed20\">\n",
              "    <div class=\"colab-df-container\">\n",
              "      <div>\n",
              "<style scoped>\n",
              "    .dataframe tbody tr th:only-of-type {\n",
              "        vertical-align: middle;\n",
              "    }\n",
              "\n",
              "    .dataframe tbody tr th {\n",
              "        vertical-align: top;\n",
              "    }\n",
              "\n",
              "    .dataframe thead th {\n",
              "        text-align: right;\n",
              "    }\n",
              "</style>\n",
              "<table border=\"1\" class=\"dataframe\">\n",
              "  <thead>\n",
              "    <tr style=\"text-align: right;\">\n",
              "      <th></th>\n",
              "      <th>longitude</th>\n",
              "      <th>latitude</th>\n",
              "      <th>housing_median_age</th>\n",
              "      <th>total_rooms</th>\n",
              "      <th>total_bedrooms</th>\n",
              "      <th>population</th>\n",
              "      <th>households</th>\n",
              "      <th>median_income</th>\n",
              "      <th>median_house_value</th>\n",
              "    </tr>\n",
              "  </thead>\n",
              "  <tbody>\n",
              "    <tr>\n",
              "      <th>count</th>\n",
              "      <td>17000.000000</td>\n",
              "      <td>17000.000000</td>\n",
              "      <td>17000.000000</td>\n",
              "      <td>17000.000000</td>\n",
              "      <td>17000.000000</td>\n",
              "      <td>17000.000000</td>\n",
              "      <td>17000.000000</td>\n",
              "      <td>17000.000000</td>\n",
              "      <td>17000.000000</td>\n",
              "    </tr>\n",
              "    <tr>\n",
              "      <th>mean</th>\n",
              "      <td>-119.562108</td>\n",
              "      <td>35.625225</td>\n",
              "      <td>28.589353</td>\n",
              "      <td>2643.664412</td>\n",
              "      <td>539.410824</td>\n",
              "      <td>1429.573941</td>\n",
              "      <td>501.221941</td>\n",
              "      <td>3.883578</td>\n",
              "      <td>207300.912353</td>\n",
              "    </tr>\n",
              "    <tr>\n",
              "      <th>std</th>\n",
              "      <td>2.005166</td>\n",
              "      <td>2.137340</td>\n",
              "      <td>12.586937</td>\n",
              "      <td>2179.947071</td>\n",
              "      <td>421.499452</td>\n",
              "      <td>1147.852959</td>\n",
              "      <td>384.520841</td>\n",
              "      <td>1.908157</td>\n",
              "      <td>115983.764387</td>\n",
              "    </tr>\n",
              "    <tr>\n",
              "      <th>min</th>\n",
              "      <td>-124.350000</td>\n",
              "      <td>32.540000</td>\n",
              "      <td>1.000000</td>\n",
              "      <td>2.000000</td>\n",
              "      <td>1.000000</td>\n",
              "      <td>3.000000</td>\n",
              "      <td>1.000000</td>\n",
              "      <td>0.499900</td>\n",
              "      <td>14999.000000</td>\n",
              "    </tr>\n",
              "    <tr>\n",
              "      <th>25%</th>\n",
              "      <td>-121.790000</td>\n",
              "      <td>33.930000</td>\n",
              "      <td>18.000000</td>\n",
              "      <td>1462.000000</td>\n",
              "      <td>297.000000</td>\n",
              "      <td>790.000000</td>\n",
              "      <td>282.000000</td>\n",
              "      <td>2.566375</td>\n",
              "      <td>119400.000000</td>\n",
              "    </tr>\n",
              "    <tr>\n",
              "      <th>50%</th>\n",
              "      <td>-118.490000</td>\n",
              "      <td>34.250000</td>\n",
              "      <td>29.000000</td>\n",
              "      <td>2127.000000</td>\n",
              "      <td>434.000000</td>\n",
              "      <td>1167.000000</td>\n",
              "      <td>409.000000</td>\n",
              "      <td>3.544600</td>\n",
              "      <td>180400.000000</td>\n",
              "    </tr>\n",
              "    <tr>\n",
              "      <th>75%</th>\n",
              "      <td>-118.000000</td>\n",
              "      <td>37.720000</td>\n",
              "      <td>37.000000</td>\n",
              "      <td>3151.250000</td>\n",
              "      <td>648.250000</td>\n",
              "      <td>1721.000000</td>\n",
              "      <td>605.250000</td>\n",
              "      <td>4.767000</td>\n",
              "      <td>265000.000000</td>\n",
              "    </tr>\n",
              "    <tr>\n",
              "      <th>max</th>\n",
              "      <td>-114.310000</td>\n",
              "      <td>41.950000</td>\n",
              "      <td>52.000000</td>\n",
              "      <td>37937.000000</td>\n",
              "      <td>6445.000000</td>\n",
              "      <td>35682.000000</td>\n",
              "      <td>6082.000000</td>\n",
              "      <td>15.000100</td>\n",
              "      <td>500001.000000</td>\n",
              "    </tr>\n",
              "  </tbody>\n",
              "</table>\n",
              "</div>\n",
              "      <button class=\"colab-df-convert\" onclick=\"convertToInteractive('df-726fb9fb-e88d-4f15-bb58-35e88103ed20')\"\n",
              "              title=\"Convert this dataframe to an interactive table.\"\n",
              "              style=\"display:none;\">\n",
              "        \n",
              "  <svg xmlns=\"http://www.w3.org/2000/svg\" height=\"24px\"viewBox=\"0 0 24 24\"\n",
              "       width=\"24px\">\n",
              "    <path d=\"M0 0h24v24H0V0z\" fill=\"none\"/>\n",
              "    <path d=\"M18.56 5.44l.94 2.06.94-2.06 2.06-.94-2.06-.94-.94-2.06-.94 2.06-2.06.94zm-11 1L8.5 8.5l.94-2.06 2.06-.94-2.06-.94L8.5 2.5l-.94 2.06-2.06.94zm10 10l.94 2.06.94-2.06 2.06-.94-2.06-.94-.94-2.06-.94 2.06-2.06.94z\"/><path d=\"M17.41 7.96l-1.37-1.37c-.4-.4-.92-.59-1.43-.59-.52 0-1.04.2-1.43.59L10.3 9.45l-7.72 7.72c-.78.78-.78 2.05 0 2.83L4 21.41c.39.39.9.59 1.41.59.51 0 1.02-.2 1.41-.59l7.78-7.78 2.81-2.81c.8-.78.8-2.07 0-2.86zM5.41 20L4 18.59l7.72-7.72 1.47 1.35L5.41 20z\"/>\n",
              "  </svg>\n",
              "      </button>\n",
              "      \n",
              "  <style>\n",
              "    .colab-df-container {\n",
              "      display:flex;\n",
              "      flex-wrap:wrap;\n",
              "      gap: 12px;\n",
              "    }\n",
              "\n",
              "    .colab-df-convert {\n",
              "      background-color: #E8F0FE;\n",
              "      border: none;\n",
              "      border-radius: 50%;\n",
              "      cursor: pointer;\n",
              "      display: none;\n",
              "      fill: #1967D2;\n",
              "      height: 32px;\n",
              "      padding: 0 0 0 0;\n",
              "      width: 32px;\n",
              "    }\n",
              "\n",
              "    .colab-df-convert:hover {\n",
              "      background-color: #E2EBFA;\n",
              "      box-shadow: 0px 1px 2px rgba(60, 64, 67, 0.3), 0px 1px 3px 1px rgba(60, 64, 67, 0.15);\n",
              "      fill: #174EA6;\n",
              "    }\n",
              "\n",
              "    [theme=dark] .colab-df-convert {\n",
              "      background-color: #3B4455;\n",
              "      fill: #D2E3FC;\n",
              "    }\n",
              "\n",
              "    [theme=dark] .colab-df-convert:hover {\n",
              "      background-color: #434B5C;\n",
              "      box-shadow: 0px 1px 3px 1px rgba(0, 0, 0, 0.15);\n",
              "      filter: drop-shadow(0px 1px 2px rgba(0, 0, 0, 0.3));\n",
              "      fill: #FFFFFF;\n",
              "    }\n",
              "  </style>\n",
              "\n",
              "      <script>\n",
              "        const buttonEl =\n",
              "          document.querySelector('#df-726fb9fb-e88d-4f15-bb58-35e88103ed20 button.colab-df-convert');\n",
              "        buttonEl.style.display =\n",
              "          google.colab.kernel.accessAllowed ? 'block' : 'none';\n",
              "\n",
              "        async function convertToInteractive(key) {\n",
              "          const element = document.querySelector('#df-726fb9fb-e88d-4f15-bb58-35e88103ed20');\n",
              "          const dataTable =\n",
              "            await google.colab.kernel.invokeFunction('convertToInteractive',\n",
              "                                                     [key], {});\n",
              "          if (!dataTable) return;\n",
              "\n",
              "          const docLinkHtml = 'Like what you see? Visit the ' +\n",
              "            '<a target=\"_blank\" href=https://colab.research.google.com/notebooks/data_table.ipynb>data table notebook</a>'\n",
              "            + ' to learn more about interactive tables.';\n",
              "          element.innerHTML = '';\n",
              "          dataTable['output_type'] = 'display_data';\n",
              "          await google.colab.output.renderOutput(dataTable, element);\n",
              "          const docLink = document.createElement('div');\n",
              "          docLink.innerHTML = docLinkHtml;\n",
              "          element.appendChild(docLink);\n",
              "        }\n",
              "      </script>\n",
              "    </div>\n",
              "  </div>\n",
              "  "
            ]
          },
          "metadata": {},
          "execution_count": 3
        }
      ]
    },
    {
      "cell_type": "code",
      "source": [
        "dataset_1['median_house_value'] = dataset_1['median_house_value']/1000\n",
        "dataset_1.describe()"
      ],
      "metadata": {
        "colab": {
          "base_uri": "https://localhost:8080/",
          "height": 300
        },
        "id": "mLYfDfOkjKcn",
        "outputId": "c732e083-877c-4788-f041-d6842aae6f69"
      },
      "execution_count": null,
      "outputs": [
        {
          "output_type": "execute_result",
          "data": {
            "text/plain": [
              "          longitude      latitude  housing_median_age   total_rooms  \\\n",
              "count  17000.000000  17000.000000        17000.000000  17000.000000   \n",
              "mean    -119.562108     35.625225           28.589353   2643.664412   \n",
              "std        2.005166      2.137340           12.586937   2179.947071   \n",
              "min     -124.350000     32.540000            1.000000      2.000000   \n",
              "25%     -121.790000     33.930000           18.000000   1462.000000   \n",
              "50%     -118.490000     34.250000           29.000000   2127.000000   \n",
              "75%     -118.000000     37.720000           37.000000   3151.250000   \n",
              "max     -114.310000     41.950000           52.000000  37937.000000   \n",
              "\n",
              "       total_bedrooms    population    households  median_income  \\\n",
              "count    17000.000000  17000.000000  17000.000000   17000.000000   \n",
              "mean       539.410824   1429.573941    501.221941       3.883578   \n",
              "std        421.499452   1147.852959    384.520841       1.908157   \n",
              "min          1.000000      3.000000      1.000000       0.499900   \n",
              "25%        297.000000    790.000000    282.000000       2.566375   \n",
              "50%        434.000000   1167.000000    409.000000       3.544600   \n",
              "75%        648.250000   1721.000000    605.250000       4.767000   \n",
              "max       6445.000000  35682.000000   6082.000000      15.000100   \n",
              "\n",
              "       median_house_value  \n",
              "count        17000.000000  \n",
              "mean           207.300912  \n",
              "std            115.983764  \n",
              "min             14.999000  \n",
              "25%            119.400000  \n",
              "50%            180.400000  \n",
              "75%            265.000000  \n",
              "max            500.001000  "
            ],
            "text/html": [
              "\n",
              "  <div id=\"df-46692847-1b09-4381-8b12-8c1f463665fb\">\n",
              "    <div class=\"colab-df-container\">\n",
              "      <div>\n",
              "<style scoped>\n",
              "    .dataframe tbody tr th:only-of-type {\n",
              "        vertical-align: middle;\n",
              "    }\n",
              "\n",
              "    .dataframe tbody tr th {\n",
              "        vertical-align: top;\n",
              "    }\n",
              "\n",
              "    .dataframe thead th {\n",
              "        text-align: right;\n",
              "    }\n",
              "</style>\n",
              "<table border=\"1\" class=\"dataframe\">\n",
              "  <thead>\n",
              "    <tr style=\"text-align: right;\">\n",
              "      <th></th>\n",
              "      <th>longitude</th>\n",
              "      <th>latitude</th>\n",
              "      <th>housing_median_age</th>\n",
              "      <th>total_rooms</th>\n",
              "      <th>total_bedrooms</th>\n",
              "      <th>population</th>\n",
              "      <th>households</th>\n",
              "      <th>median_income</th>\n",
              "      <th>median_house_value</th>\n",
              "    </tr>\n",
              "  </thead>\n",
              "  <tbody>\n",
              "    <tr>\n",
              "      <th>count</th>\n",
              "      <td>17000.000000</td>\n",
              "      <td>17000.000000</td>\n",
              "      <td>17000.000000</td>\n",
              "      <td>17000.000000</td>\n",
              "      <td>17000.000000</td>\n",
              "      <td>17000.000000</td>\n",
              "      <td>17000.000000</td>\n",
              "      <td>17000.000000</td>\n",
              "      <td>17000.000000</td>\n",
              "    </tr>\n",
              "    <tr>\n",
              "      <th>mean</th>\n",
              "      <td>-119.562108</td>\n",
              "      <td>35.625225</td>\n",
              "      <td>28.589353</td>\n",
              "      <td>2643.664412</td>\n",
              "      <td>539.410824</td>\n",
              "      <td>1429.573941</td>\n",
              "      <td>501.221941</td>\n",
              "      <td>3.883578</td>\n",
              "      <td>207.300912</td>\n",
              "    </tr>\n",
              "    <tr>\n",
              "      <th>std</th>\n",
              "      <td>2.005166</td>\n",
              "      <td>2.137340</td>\n",
              "      <td>12.586937</td>\n",
              "      <td>2179.947071</td>\n",
              "      <td>421.499452</td>\n",
              "      <td>1147.852959</td>\n",
              "      <td>384.520841</td>\n",
              "      <td>1.908157</td>\n",
              "      <td>115.983764</td>\n",
              "    </tr>\n",
              "    <tr>\n",
              "      <th>min</th>\n",
              "      <td>-124.350000</td>\n",
              "      <td>32.540000</td>\n",
              "      <td>1.000000</td>\n",
              "      <td>2.000000</td>\n",
              "      <td>1.000000</td>\n",
              "      <td>3.000000</td>\n",
              "      <td>1.000000</td>\n",
              "      <td>0.499900</td>\n",
              "      <td>14.999000</td>\n",
              "    </tr>\n",
              "    <tr>\n",
              "      <th>25%</th>\n",
              "      <td>-121.790000</td>\n",
              "      <td>33.930000</td>\n",
              "      <td>18.000000</td>\n",
              "      <td>1462.000000</td>\n",
              "      <td>297.000000</td>\n",
              "      <td>790.000000</td>\n",
              "      <td>282.000000</td>\n",
              "      <td>2.566375</td>\n",
              "      <td>119.400000</td>\n",
              "    </tr>\n",
              "    <tr>\n",
              "      <th>50%</th>\n",
              "      <td>-118.490000</td>\n",
              "      <td>34.250000</td>\n",
              "      <td>29.000000</td>\n",
              "      <td>2127.000000</td>\n",
              "      <td>434.000000</td>\n",
              "      <td>1167.000000</td>\n",
              "      <td>409.000000</td>\n",
              "      <td>3.544600</td>\n",
              "      <td>180.400000</td>\n",
              "    </tr>\n",
              "    <tr>\n",
              "      <th>75%</th>\n",
              "      <td>-118.000000</td>\n",
              "      <td>37.720000</td>\n",
              "      <td>37.000000</td>\n",
              "      <td>3151.250000</td>\n",
              "      <td>648.250000</td>\n",
              "      <td>1721.000000</td>\n",
              "      <td>605.250000</td>\n",
              "      <td>4.767000</td>\n",
              "      <td>265.000000</td>\n",
              "    </tr>\n",
              "    <tr>\n",
              "      <th>max</th>\n",
              "      <td>-114.310000</td>\n",
              "      <td>41.950000</td>\n",
              "      <td>52.000000</td>\n",
              "      <td>37937.000000</td>\n",
              "      <td>6445.000000</td>\n",
              "      <td>35682.000000</td>\n",
              "      <td>6082.000000</td>\n",
              "      <td>15.000100</td>\n",
              "      <td>500.001000</td>\n",
              "    </tr>\n",
              "  </tbody>\n",
              "</table>\n",
              "</div>\n",
              "      <button class=\"colab-df-convert\" onclick=\"convertToInteractive('df-46692847-1b09-4381-8b12-8c1f463665fb')\"\n",
              "              title=\"Convert this dataframe to an interactive table.\"\n",
              "              style=\"display:none;\">\n",
              "        \n",
              "  <svg xmlns=\"http://www.w3.org/2000/svg\" height=\"24px\"viewBox=\"0 0 24 24\"\n",
              "       width=\"24px\">\n",
              "    <path d=\"M0 0h24v24H0V0z\" fill=\"none\"/>\n",
              "    <path d=\"M18.56 5.44l.94 2.06.94-2.06 2.06-.94-2.06-.94-.94-2.06-.94 2.06-2.06.94zm-11 1L8.5 8.5l.94-2.06 2.06-.94-2.06-.94L8.5 2.5l-.94 2.06-2.06.94zm10 10l.94 2.06.94-2.06 2.06-.94-2.06-.94-.94-2.06-.94 2.06-2.06.94z\"/><path d=\"M17.41 7.96l-1.37-1.37c-.4-.4-.92-.59-1.43-.59-.52 0-1.04.2-1.43.59L10.3 9.45l-7.72 7.72c-.78.78-.78 2.05 0 2.83L4 21.41c.39.39.9.59 1.41.59.51 0 1.02-.2 1.41-.59l7.78-7.78 2.81-2.81c.8-.78.8-2.07 0-2.86zM5.41 20L4 18.59l7.72-7.72 1.47 1.35L5.41 20z\"/>\n",
              "  </svg>\n",
              "      </button>\n",
              "      \n",
              "  <style>\n",
              "    .colab-df-container {\n",
              "      display:flex;\n",
              "      flex-wrap:wrap;\n",
              "      gap: 12px;\n",
              "    }\n",
              "\n",
              "    .colab-df-convert {\n",
              "      background-color: #E8F0FE;\n",
              "      border: none;\n",
              "      border-radius: 50%;\n",
              "      cursor: pointer;\n",
              "      display: none;\n",
              "      fill: #1967D2;\n",
              "      height: 32px;\n",
              "      padding: 0 0 0 0;\n",
              "      width: 32px;\n",
              "    }\n",
              "\n",
              "    .colab-df-convert:hover {\n",
              "      background-color: #E2EBFA;\n",
              "      box-shadow: 0px 1px 2px rgba(60, 64, 67, 0.3), 0px 1px 3px 1px rgba(60, 64, 67, 0.15);\n",
              "      fill: #174EA6;\n",
              "    }\n",
              "\n",
              "    [theme=dark] .colab-df-convert {\n",
              "      background-color: #3B4455;\n",
              "      fill: #D2E3FC;\n",
              "    }\n",
              "\n",
              "    [theme=dark] .colab-df-convert:hover {\n",
              "      background-color: #434B5C;\n",
              "      box-shadow: 0px 1px 3px 1px rgba(0, 0, 0, 0.15);\n",
              "      filter: drop-shadow(0px 1px 2px rgba(0, 0, 0, 0.3));\n",
              "      fill: #FFFFFF;\n",
              "    }\n",
              "  </style>\n",
              "\n",
              "      <script>\n",
              "        const buttonEl =\n",
              "          document.querySelector('#df-46692847-1b09-4381-8b12-8c1f463665fb button.colab-df-convert');\n",
              "        buttonEl.style.display =\n",
              "          google.colab.kernel.accessAllowed ? 'block' : 'none';\n",
              "\n",
              "        async function convertToInteractive(key) {\n",
              "          const element = document.querySelector('#df-46692847-1b09-4381-8b12-8c1f463665fb');\n",
              "          const dataTable =\n",
              "            await google.colab.kernel.invokeFunction('convertToInteractive',\n",
              "                                                     [key], {});\n",
              "          if (!dataTable) return;\n",
              "\n",
              "          const docLinkHtml = 'Like what you see? Visit the ' +\n",
              "            '<a target=\"_blank\" href=https://colab.research.google.com/notebooks/data_table.ipynb>data table notebook</a>'\n",
              "            + ' to learn more about interactive tables.';\n",
              "          element.innerHTML = '';\n",
              "          dataTable['output_type'] = 'display_data';\n",
              "          await google.colab.output.renderOutput(dataTable, element);\n",
              "          const docLink = document.createElement('div');\n",
              "          docLink.innerHTML = docLinkHtml;\n",
              "          element.appendChild(docLink);\n",
              "        }\n",
              "      </script>\n",
              "    </div>\n",
              "  </div>\n",
              "  "
            ]
          },
          "metadata": {},
          "execution_count": 4
        }
      ]
    },
    {
      "cell_type": "code",
      "source": [
        "dataset_1.corr()['median_house_value']"
      ],
      "metadata": {
        "colab": {
          "base_uri": "https://localhost:8080/"
        },
        "id": "WRci842_fzQy",
        "outputId": "39ce79cc-6b47-46f6-897f-3786df05a3cd"
      },
      "execution_count": null,
      "outputs": [
        {
          "output_type": "execute_result",
          "data": {
            "text/plain": [
              "longitude            -0.044982\n",
              "latitude             -0.144917\n",
              "housing_median_age    0.106758\n",
              "total_rooms           0.130991\n",
              "total_bedrooms        0.045783\n",
              "population           -0.027850\n",
              "households            0.061031\n",
              "median_income         0.691871\n",
              "median_house_value    1.000000\n",
              "Name: median_house_value, dtype: float64"
            ]
          },
          "metadata": {},
          "execution_count": 5
        }
      ]
    },
    {
      "cell_type": "markdown",
      "source": [
        "# Задача регрессии (линейная модель)\n",
        "\n",
        "[Лабораторная №7 - линейная регрессия](https://www.youtube.com/watch?v=txDLkiesqpY)\n"
      ],
      "metadata": {
        "id": "fG3lpBVZe3jm"
      }
    },
    {
      "cell_type": "markdown",
      "source": [
        "## Подготовка данных"
      ],
      "metadata": {
        "id": "72ujRJiXL5Le"
      }
    },
    {
      "cell_type": "code",
      "source": [
        "X = dataset_1.loc[:, dataset_1.columns != 'median_house_value'].to_numpy()\n",
        "y = dataset_1['median_house_value'].to_numpy()"
      ],
      "metadata": {
        "id": "AGwVELBnoPbC"
      },
      "execution_count": null,
      "outputs": []
    },
    {
      "cell_type": "code",
      "source": [
        "X"
      ],
      "metadata": {
        "colab": {
          "base_uri": "https://localhost:8080/"
        },
        "id": "F3NsKaY3on3Y",
        "outputId": "7d74e34d-a2b7-4f34-9c91-d148eea39f73"
      },
      "execution_count": null,
      "outputs": [
        {
          "output_type": "execute_result",
          "data": {
            "text/plain": [
              "array([[-114.31  ,   34.19  ,   15.    , ..., 1015.    ,  472.    ,\n",
              "           1.4936],\n",
              "       [-114.47  ,   34.4   ,   19.    , ..., 1129.    ,  463.    ,\n",
              "           1.82  ],\n",
              "       [-114.56  ,   33.69  ,   17.    , ...,  333.    ,  117.    ,\n",
              "           1.6509],\n",
              "       ...,\n",
              "       [-124.3   ,   41.84  ,   17.    , ..., 1244.    ,  456.    ,\n",
              "           3.0313],\n",
              "       [-124.3   ,   41.8   ,   19.    , ..., 1298.    ,  478.    ,\n",
              "           1.9797],\n",
              "       [-124.35  ,   40.54  ,   52.    , ...,  806.    ,  270.    ,\n",
              "           3.0147]])"
            ]
          },
          "metadata": {},
          "execution_count": 7
        }
      ]
    },
    {
      "cell_type": "code",
      "source": [
        "y"
      ],
      "metadata": {
        "colab": {
          "base_uri": "https://localhost:8080/"
        },
        "id": "EbchplGSprI9",
        "outputId": "b75e5034-8143-4ba4-e884-a5cd017680fc"
      },
      "execution_count": null,
      "outputs": [
        {
          "output_type": "execute_result",
          "data": {
            "text/plain": [
              "array([ 66.9,  80.1,  85.7, ..., 103.6,  85.8,  94.6])"
            ]
          },
          "metadata": {},
          "execution_count": 8
        }
      ]
    },
    {
      "cell_type": "markdown",
      "source": [
        "## resampling (cross validation)\n",
        "\n",
        "![image.png](data:image/png;base64,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)\n",
        "\n",
        "https://scikit-learn.org/stable/modules/cross_validation.html"
      ],
      "metadata": {
        "id": "q1ojgDeYvFoU"
      }
    },
    {
      "cell_type": "code",
      "source": [
        "# https://scikit-learn.org/stable/modules/generated/sklearn.model_selection.train_test_split.html\n",
        "\n"
      ],
      "metadata": {
        "id": "H0BUsnbypsUs"
      },
      "execution_count": null,
      "outputs": []
    },
    {
      "cell_type": "markdown",
      "source": [
        "$\\mathrm{MSE}=\\frac{1}{N}\\sum_{i=1}^n(y_i-\\hat{y}_i)^2$"
      ],
      "metadata": {
        "id": "_DKeB_iO80ts"
      }
    },
    {
      "cell_type": "code",
      "source": [
        "X_train, X_test, y_train, y_test = train_test_split(X, y, test_size=0.3, random_state=2)\n",
        "print(\"Dims of train \", X_train.shape, y_train.shape)\n",
        "print(\"Dims of test \", X_test.shape, y_test.shape)"
      ],
      "metadata": {
        "colab": {
          "base_uri": "https://localhost:8080/"
        },
        "id": "EqbEwqE6qYtO",
        "outputId": "c0bca208-5fb7-4056-a3ff-a28c5144ed38"
      },
      "execution_count": null,
      "outputs": [
        {
          "output_type": "stream",
          "name": "stdout",
          "text": [
            "Dims of train  (11900, 8) (11900,)\n",
            "Dims of test  (5100, 8) (5100,)\n"
          ]
        }
      ]
    },
    {
      "cell_type": "code",
      "source": [
        "# https://scikit-learn.org/stable/modules/generated/sklearn.linear_model.LinearRegression.html\n",
        "# fit model step 1\n",
        "\n",
        "lin_reg = LinearRegression().fit(X_train, y_train)\n",
        "\n",
        "print(\"R^2 on train set {}\".format(lin_reg.score(X_train, y_train)))\n",
        "print(\"R^2 on test set {}\".format(lin_reg.score(X_test, y_test)))\n",
        "\n",
        "print(\"MSE on train set {}\".format(\n",
        "    mean_squared_error(y_train, lin_reg.predict(X_train))\n",
        "    )\n",
        ")\n",
        "print(\"MSE on test set {}\".format(\n",
        "    mean_squared_error(y_test, lin_reg.predict(X_test))\n",
        "    )\n",
        ")"
      ],
      "metadata": {
        "colab": {
          "base_uri": "https://localhost:8080/"
        },
        "id": "bJX_Yqvjqtg3",
        "outputId": "95a1e961-e6ab-4922-bd32-1e78a3d5d891"
      },
      "execution_count": null,
      "outputs": [
        {
          "output_type": "stream",
          "name": "stdout",
          "text": [
            "R^2 on train set 0.6375851309751237\n",
            "R^2 on test set 0.6492538345819212\n",
            "MSE on train set 4803.095967423598\n",
            "MSE on test set 4880.3979596385025\n"
          ]
        }
      ]
    },
    {
      "cell_type": "code",
      "source": [
        "lin_reg.coef_, lin_reg.intercept_"
      ],
      "metadata": {
        "colab": {
          "base_uri": "https://localhost:8080/"
        },
        "id": "D5gbhax50OQS",
        "outputId": "e3253da9-6531-40ff-c30f-69748eed9e13"
      },
      "execution_count": null,
      "outputs": [
        {
          "output_type": "execute_result",
          "data": {
            "text/plain": [
              "(array([-4.29214290e+01, -4.24176134e+01,  1.16110862e+00, -8.98362849e-03,\n",
              "         1.15185032e-01, -3.66694219e-02,  4.69730379e-02,  4.03237644e+01]),\n",
              " -3612.7404586294624)"
            ]
          },
          "metadata": {},
          "execution_count": 11
        }
      ]
    },
    {
      "cell_type": "code",
      "source": [
        "# resampling k-fold cross validation\n",
        "# https://scikit-learn.org/stable/modules/generated/sklearn.model_selection.cross_val_score.html#sklearn.model_selection.cross_val_score\n",
        "\n",
        "\n",
        "# fit model step 2\n",
        "\n",
        "lin_reg_2 = LinearRegression()\n",
        "\n",
        "scores = cross_val_score(lin_reg_2, X, y, cv=5)\n",
        "scores"
      ],
      "metadata": {
        "colab": {
          "base_uri": "https://localhost:8080/"
        },
        "id": "mfIRTg8ysVGY",
        "outputId": "45aa6ffb-dae2-4e0e-cbc1-328ddb73aee6"
      },
      "execution_count": null,
      "outputs": [
        {
          "output_type": "execute_result",
          "data": {
            "text/plain": [
              "array([0.52201778, 0.56428342, 0.60260364, 0.39679821, 0.65576199])"
            ]
          },
          "metadata": {},
          "execution_count": 12
        }
      ]
    },
    {
      "cell_type": "code",
      "source": [
        "print(\"%0.2f R^2 with a standard deviation of %0.2f\" % (scores.mean(), scores.std()))"
      ],
      "metadata": {
        "colab": {
          "base_uri": "https://localhost:8080/"
        },
        "id": "_fwlqMYtui16",
        "outputId": "11895a96-3cec-44dd-8dbe-a93d525f956c"
      },
      "execution_count": null,
      "outputs": [
        {
          "output_type": "stream",
          "name": "stdout",
          "text": [
            "0.55 R^2 with a standard deviation of 0.09\n"
          ]
        }
      ]
    },
    {
      "cell_type": "code",
      "source": [
        "lin_reg_2 = LinearRegression()\n",
        "scores = cross_val_score(lin_reg_2, X, y, cv=5, scoring='neg_mean_squared_error')\n",
        "print(\"%0.2f MSE with a standard deviation of %0.2f\" % (scores.mean(), scores.std()))"
      ],
      "metadata": {
        "colab": {
          "base_uri": "https://localhost:8080/"
        },
        "id": "s_5kGTf2-KY5",
        "outputId": "a4aa2692-5bbb-490a-e198-471b2aab5351"
      },
      "execution_count": null,
      "outputs": [
        {
          "output_type": "stream",
          "name": "stdout",
          "text": [
            "-5352.33 MSE with a standard deviation of 1329.57\n"
          ]
        }
      ]
    },
    {
      "cell_type": "markdown",
      "source": [
        "###Регуляризация в задаче линейной регрессии\n",
        "\n",
        "Пусть $X$ данные в матричной форме:\n",
        "\n",
        "$$\\bf{X}=\\left[ \\begin{matrix} 1 & X_{11} & X_{12} & ... & X_{1k}\\\\ 1& X_{21} & X_{22} & ... & X_{2k} \\\\ ... & ... & ... & ... & ... \\\\ 1 & X_{n1} & X_{n2} & ... & X_{nk} \\end{matrix} \\right]$$\n",
        "\n",
        "$Y$, $\\beta$, $\\epsilon$ зависимая переменная, коэффициенты модели и вектор ошибок соответсвенно:\n",
        "\n",
        "$$\\bf{Y}=\\left[ \\begin{matrix} y_1 \\\\ y_2 \\\\ ... \\\\ y_n \\end{matrix} \\right], \\bf{\\beta}=\\left[ \\begin{matrix} \\beta_0 \\\\ \\beta_1 \\\\ ... \\\\ \\beta_k \\end{matrix} \\right], \\bf{\\epsilon}=\\left[ \\begin{matrix} \\epsilon_1 \\\\ \\epsilon_2 \\\\ ... \\\\ \\epsilon_n \\end{matrix} \\right]$$\n",
        "\n",
        "Тогда модель линейной регрессии в общем виде:\n",
        "\n",
        "$$Y = \\bf{X \\beta + \\epsilon}$$\n",
        "\n",
        "Пусть $\\hat{y}=f(X)=X\\hat{\\beta}$ - оценка параметров $\\beta$ для линейной модели.\n",
        "\n",
        "Зафиксируем целевую функцию (objective function):\n",
        "\n",
        "$$\\mathrm{RSS}(\\beta)=\\sum_{i=1}^n(y_i - f(X_i))^2=(y-X\\beta)^T(y-X\\beta)$$\n",
        "\n",
        "Тогда $\\hat{\\beta}^{\\mathrm{OLS}}=\\mathrm{argmin}_\\beta\\{\\sum_{i=1}^n(y_i - f(X_i))^2\\}$ оценка параметров линейной модели методом наименьших квадратов.\n",
        "\n",
        "$$\\hat{\\beta}^{\\mathrm{OLS}}=(X^TX)^{-1}X^Ty$$ - решение в общем виде для оценки методом наименьших кварратов.\n",
        "\n",
        "### Ridge регуляризация\n",
        "\n",
        "Пусть $\\mathrm{RSS}(\\beta)=\\sum_{i=1}^n(y_i - f(X_i))^2+\\lambda\\sum_{i=1}^k\\beta_j^2=(y-X\\beta)^T(y-X\\beta)+\\lambda\\beta^T\\beta$ - целевая функция с параметром регуляризации $\\lambda\\beta^T\\beta$, тогда\n",
        "\n",
        "$\\hat{\\beta}^{\\mathrm{ridge}}=\\mathrm{argmin}_\\beta\\{\\sum_{i=1}^n(y_i - f(X_i))^2+\\lambda\\sum_{i=1}^k\\beta_j^2\\}$ оценка параметров линейной модели c $L_2$ регуляризацией.\n",
        "\n",
        "$$\\hat{\\beta}^{\\mathrm{ridge}}=(X^TX+\\lambda I)^{-1}X^Ty$$ - решение в общем виде для оценки c $L_2$ регуляризацией.\n",
        "\n",
        "### LASSO регуляризация\n",
        "\n",
        "Пусть $\\mathrm{RSS}(\\beta)=\\sum_{i=1}^n(y_i - f(X_i))^2+\\lambda\\sum_{i=1}^k|\\beta_j|=(y-X\\beta)^T(y-X\\beta)+\\lambda||\\beta||_1$ - целевая функция с парамтером регуляризации $\\lambda||\\beta||_1$, тогда\n",
        "\n",
        "$\\hat{\\beta}^{\\mathrm{lasso}}=\\mathrm{argmin}_\\beta\\{\\frac{1}{2}\\sum_{i=1}^n(y_i - f(X_i))^2+\\lambda\\sum_{i=1}^k|\\beta_j|\\}$ оценка параметров линейной модели c $L_1$ регуляризацией.\n",
        "\n",
        "Ддя $\\hat{\\beta}^{\\mathrm{lasso}}$ не существут решения в общем виде, однако, оптимальная оценка может быть найдена методами оптимизации квадратичных функций."
      ],
      "metadata": {
        "id": "mjdeEgVEgj9X"
      }
    },
    {
      "cell_type": "code",
      "source": [
        "#https://scikit-learn.org/stable/modules/generated/sklearn.linear_model.Ridge.html\n",
        "\n",
        "# fit model Ridge\n",
        "\n",
        "ridge_reg_1 = Ridge(alpha=1.0, solver='cholesky')\n",
        "scores = cross_val_score(ridge_reg_1, X, y, cv=5, scoring='r2')\n",
        "print(\"%0.2f R^2 with a standard deviation of %0.2f\" % (scores.mean(), scores.std()))\n",
        "\n",
        "ridge_reg_2 = Ridge(alpha=1.0, solver='cholesky')\n",
        "scores = cross_val_score(ridge_reg_2, X, y, cv=5, scoring='neg_mean_squared_error')\n",
        "print(\"%0.2f MSE with a standard deviation of %0.2f\" % (scores.mean(), scores.std()))\n",
        "print(\"\\n\")\n",
        "\n",
        "print(\"--------------- RIDGE coeffs alpha=1.0\")\n",
        "ridge_reg_3 = Ridge(alpha=1.0, solver='cholesky').fit(X_train,y_train)\n",
        "print(ridge_reg_3.coef_, ridge_reg_3.intercept_, \"\\n\")\n",
        "\n",
        "\n",
        "print(\"--------------- RIDGE coeffs alpha=10.0\")\n",
        "ridge_reg_4 = Ridge(alpha=10.0, solver='cholesky').fit(X_train,y_train)\n",
        "print(ridge_reg_4.coef_, ridge_reg_4.intercept_, \"\\n\")\n",
        "\n",
        "print(\"--------------- RIDGE coeffs alpha=100.0\")\n",
        "ridge_reg_5 = Ridge(alpha=100.0, solver='cholesky').fit(X_train,y_train)\n",
        "print(ridge_reg_5.coef_, ridge_reg_5.intercept_, \"\\n\")\n",
        "\n",
        "print(\"--------------- OLS coeffs\")\n",
        "print(lin_reg.coef_, lin_reg.intercept_)"
      ],
      "metadata": {
        "colab": {
          "base_uri": "https://localhost:8080/"
        },
        "id": "fNwBKze-7lqL",
        "outputId": "65c5efa7-1e14-4a99-8c89-76c51d386563"
      },
      "execution_count": null,
      "outputs": [
        {
          "output_type": "stream",
          "name": "stdout",
          "text": [
            "0.55 R^2 with a standard deviation of 0.09\n",
            "-5352.03 MSE with a standard deviation of 1329.88\n",
            "\n",
            "\n",
            "--------------- RIDGE coeffs alpha=1.0\n",
            "[-4.29074407e+01 -4.24045336e+01  1.16133727e+00 -8.98484030e-03\n",
            "  1.15166492e-01 -3.66696731e-02  4.70033197e-02  4.03245856e+01] -3611.5452675178294 \n",
            "\n",
            "--------------- RIDGE coeffs alpha=10.0\n",
            "[-4.27819790e+01 -4.22872240e+01  1.16338783e+00 -8.99564254e-03\n",
            "  1.14999813e-01 -3.66719551e-02  4.72750721e-02  4.03319039e+01] -3600.825268345685 \n",
            "\n",
            "--------------- RIDGE coeffs alpha=100.0\n",
            "[-4.15688113e+01 -4.11531876e+01  1.18319623e+00 -9.09373770e-03\n",
            "  1.13350796e-01 -3.66968047e-02  4.99175259e-02  4.03981251e+01] -3497.137932761225 \n",
            "\n",
            "--------------- OLS coeffs\n",
            "[-4.29214290e+01 -4.24176134e+01  1.16110862e+00 -8.98362849e-03\n",
            "  1.15185032e-01 -3.66694219e-02  4.69730379e-02  4.03237644e+01] -3612.7404586294624\n"
          ]
        }
      ]
    },
    {
      "cell_type": "code",
      "source": [
        "#https://scikit-learn.org/stable/modules/generated/sklearn.linear_model.Lasso.html\n",
        "\n",
        "# fit model Lasso\n",
        "\n",
        "lasso_reg_1 = Lasso(alpha=1.0)\n",
        "scores = cross_val_score(lasso_reg_1, X, y, cv=5, scoring='r2')\n",
        "print(\"%0.2f R^2 with a standard deviation of %0.2f\" % (scores.mean(), scores.std()))\n",
        "\n",
        "lasso_reg_2 = Lasso(alpha=1.0)\n",
        "scores = cross_val_score(lasso_reg_2, X, y, cv=5, scoring='neg_mean_squared_error')\n",
        "print(\"%0.2f MSE with a standard deviation of %0.2f\" % (scores.mean(), scores.std()))\n",
        "print(\"\\n\")\n",
        "\n",
        "print(\"--------------- LASSO coeffs alpha=1.0\")\n",
        "lasso_reg_3 = Lasso(alpha=1.0).fit(X_train,y_train)\n",
        "print(lasso_reg_3.coef_, lasso_reg_3.intercept_, \"\\n\")\n",
        "\n",
        "print(\"--------------- LASSO coeffs alpha=10.0\")\n",
        "lasso_reg_4 = Lasso(alpha=10.0).fit(X_train,y_train)\n",
        "print(lasso_reg_4.coef_, lasso_reg_4.intercept_, \"\\n\")\n",
        "\n",
        "print(\"--------------- LASSO coeffs alpha=100.0\")\n",
        "lasso_reg_5 = Lasso(alpha=100.0).fit(X_train,y_train)\n",
        "print(lasso_reg_5.coef_, lasso_reg_5.intercept_, \"\\n\")\n",
        "\n",
        "print(\"--------------- OLS coeffs\")\n",
        "print(lin_reg.coef_, lin_reg.intercept_)"
      ],
      "metadata": {
        "colab": {
          "base_uri": "https://localhost:8080/"
        },
        "id": "Rn6JohJ7GqM9",
        "outputId": "f4c099b8-819b-4c42-8931-bc6c33ba81af"
      },
      "execution_count": null,
      "outputs": [
        {
          "output_type": "stream",
          "name": "stdout",
          "text": [
            "0.56 R^2 with a standard deviation of 0.07\n",
            "-5318.24 MSE with a standard deviation of 1427.98\n",
            "\n",
            "\n",
            "--------------- LASSO coeffs alpha=1.0\n",
            "[-3.90786668e+01 -3.88232746e+01  1.21680467e+00 -9.28340186e-03\n",
            "  1.09766158e-01 -3.67483260e-02  5.54222354e-02  4.05165803e+01] -3284.0806183661234 \n",
            "\n",
            "--------------- LASSO coeffs alpha=10.0\n",
            "[-4.49374412e+00 -6.47412275e+00  1.71806994e+00 -1.19820710e-02\n",
            "  6.10033331e-02 -3.74577344e-02  1.31459141e-01  4.22521234e+01] -326.13902350915623 \n",
            "\n",
            "--------------- LASSO coeffs alpha=100.0\n",
            "[-0.         -0.          1.00948049  0.03475236 -0.21063508 -0.05565397\n",
            "  0.22692586  6.0528728 ] 142.71153243167387 \n",
            "\n",
            "--------------- OLS coeffs\n",
            "[-4.29214290e+01 -4.24176134e+01  1.16110862e+00 -8.98362849e-03\n",
            "  1.15185032e-01 -3.66694219e-02  4.69730379e-02  4.03237644e+01] -3612.7404586294624\n"
          ]
        }
      ]
    },
    {
      "cell_type": "markdown",
      "source": [
        "## Конструирование признаков (Feature engineering)"
      ],
      "metadata": {
        "id": "EqxNm2YENBIB"
      }
    },
    {
      "cell_type": "markdown",
      "source": [
        "### Rescale"
      ],
      "metadata": {
        "id": "Vt4pawzSPYIF"
      }
    },
    {
      "cell_type": "code",
      "source": [
        "#https://scikit-learn.org/stable/modules/generated/sklearn.preprocessing.MaxAbsScaler.html\n",
        "abs_norm = MaxAbsScaler().fit(X)\n",
        "X_normalized = abs_norm.transform(X)\n",
        "X_normalized"
      ],
      "metadata": {
        "colab": {
          "base_uri": "https://localhost:8080/"
        },
        "id": "JQRsDv-NJIRs",
        "outputId": "70645f80-bca8-48ee-dcdd-40fe1aab19b6"
      },
      "execution_count": null,
      "outputs": [
        {
          "output_type": "execute_result",
          "data": {
            "text/plain": [
              "array([[-0.91926015,  0.81501788,  0.28846154, ...,  0.02844571,\n",
              "         0.07760605,  0.09957267],\n",
              "       [-0.92054684,  0.82002384,  0.36538462, ...,  0.0316406 ,\n",
              "         0.07612627,  0.12133252],\n",
              "       [-0.92127061,  0.80309893,  0.32692308, ...,  0.00933244,\n",
              "         0.01923709,  0.11005927],\n",
              "       ...,\n",
              "       [-0.99959791,  0.99737783,  0.32692308, ...,  0.03486352,\n",
              "         0.07497534,  0.20208532],\n",
              "       [-0.99959791,  0.99642431,  0.36538462, ...,  0.03637688,\n",
              "         0.07859257,  0.13197912],\n",
              "       [-1.        ,  0.96638856,  1.        , ...,  0.02258842,\n",
              "         0.04439329,  0.20097866]])"
            ]
          },
          "metadata": {},
          "execution_count": 17
        }
      ]
    },
    {
      "cell_type": "code",
      "source": [
        "lin_reg_3 = LinearRegression()\n",
        "\n",
        "scores = cross_val_score(lin_reg_3, X_normalized, y, cv=5, scoring='r2')\n",
        "print(\"%0.2f R^2 with a standard deviation of %0.2f\" % (scores.mean(), scores.std()))\n",
        "\n",
        "scores = cross_val_score(lin_reg_3, X_normalized, y, cv=5, scoring='neg_mean_squared_error')\n",
        "print(\"%0.2f MSE with a standard deviation of %0.2f\" % (scores.mean(), scores.std()))\n",
        "\n"
      ],
      "metadata": {
        "colab": {
          "base_uri": "https://localhost:8080/"
        },
        "id": "LEXldutWNYit",
        "outputId": "a10a0bf3-4004-44ca-8949-a6dbd02fcdf9"
      },
      "execution_count": null,
      "outputs": [
        {
          "output_type": "stream",
          "name": "stdout",
          "text": [
            "0.55 R^2 with a standard deviation of 0.09\n",
            "-5352.33 MSE with a standard deviation of 1329.57\n"
          ]
        }
      ]
    },
    {
      "cell_type": "markdown",
      "source": [
        "### Nonlinearity"
      ],
      "metadata": {
        "id": "BgbHHmq_Pd84"
      }
    },
    {
      "cell_type": "code",
      "source": [
        "dataset_1.describe()"
      ],
      "metadata": {
        "colab": {
          "base_uri": "https://localhost:8080/",
          "height": 300
        },
        "id": "Gw3ZfTppPUER",
        "outputId": "f89e7245-916e-48b8-9a45-e850ba016d8c"
      },
      "execution_count": null,
      "outputs": [
        {
          "output_type": "execute_result",
          "data": {
            "text/plain": [
              "          longitude      latitude  housing_median_age   total_rooms  \\\n",
              "count  17000.000000  17000.000000        17000.000000  17000.000000   \n",
              "mean    -119.562108     35.625225           28.589353   2643.664412   \n",
              "std        2.005166      2.137340           12.586937   2179.947071   \n",
              "min     -124.350000     32.540000            1.000000      2.000000   \n",
              "25%     -121.790000     33.930000           18.000000   1462.000000   \n",
              "50%     -118.490000     34.250000           29.000000   2127.000000   \n",
              "75%     -118.000000     37.720000           37.000000   3151.250000   \n",
              "max     -114.310000     41.950000           52.000000  37937.000000   \n",
              "\n",
              "       total_bedrooms    population    households  median_income  \\\n",
              "count    17000.000000  17000.000000  17000.000000   17000.000000   \n",
              "mean       539.410824   1429.573941    501.221941       3.883578   \n",
              "std        421.499452   1147.852959    384.520841       1.908157   \n",
              "min          1.000000      3.000000      1.000000       0.499900   \n",
              "25%        297.000000    790.000000    282.000000       2.566375   \n",
              "50%        434.000000   1167.000000    409.000000       3.544600   \n",
              "75%        648.250000   1721.000000    605.250000       4.767000   \n",
              "max       6445.000000  35682.000000   6082.000000      15.000100   \n",
              "\n",
              "       median_house_value  \n",
              "count        17000.000000  \n",
              "mean           207.300912  \n",
              "std            115.983764  \n",
              "min             14.999000  \n",
              "25%            119.400000  \n",
              "50%            180.400000  \n",
              "75%            265.000000  \n",
              "max            500.001000  "
            ],
            "text/html": [
              "\n",
              "  <div id=\"df-f8bc8975-24c0-4138-91f5-42f08bbd54cb\">\n",
              "    <div class=\"colab-df-container\">\n",
              "      <div>\n",
              "<style scoped>\n",
              "    .dataframe tbody tr th:only-of-type {\n",
              "        vertical-align: middle;\n",
              "    }\n",
              "\n",
              "    .dataframe tbody tr th {\n",
              "        vertical-align: top;\n",
              "    }\n",
              "\n",
              "    .dataframe thead th {\n",
              "        text-align: right;\n",
              "    }\n",
              "</style>\n",
              "<table border=\"1\" class=\"dataframe\">\n",
              "  <thead>\n",
              "    <tr style=\"text-align: right;\">\n",
              "      <th></th>\n",
              "      <th>longitude</th>\n",
              "      <th>latitude</th>\n",
              "      <th>housing_median_age</th>\n",
              "      <th>total_rooms</th>\n",
              "      <th>total_bedrooms</th>\n",
              "      <th>population</th>\n",
              "      <th>households</th>\n",
              "      <th>median_income</th>\n",
              "      <th>median_house_value</th>\n",
              "    </tr>\n",
              "  </thead>\n",
              "  <tbody>\n",
              "    <tr>\n",
              "      <th>count</th>\n",
              "      <td>17000.000000</td>\n",
              "      <td>17000.000000</td>\n",
              "      <td>17000.000000</td>\n",
              "      <td>17000.000000</td>\n",
              "      <td>17000.000000</td>\n",
              "      <td>17000.000000</td>\n",
              "      <td>17000.000000</td>\n",
              "      <td>17000.000000</td>\n",
              "      <td>17000.000000</td>\n",
              "    </tr>\n",
              "    <tr>\n",
              "      <th>mean</th>\n",
              "      <td>-119.562108</td>\n",
              "      <td>35.625225</td>\n",
              "      <td>28.589353</td>\n",
              "      <td>2643.664412</td>\n",
              "      <td>539.410824</td>\n",
              "      <td>1429.573941</td>\n",
              "      <td>501.221941</td>\n",
              "      <td>3.883578</td>\n",
              "      <td>207.300912</td>\n",
              "    </tr>\n",
              "    <tr>\n",
              "      <th>std</th>\n",
              "      <td>2.005166</td>\n",
              "      <td>2.137340</td>\n",
              "      <td>12.586937</td>\n",
              "      <td>2179.947071</td>\n",
              "      <td>421.499452</td>\n",
              "      <td>1147.852959</td>\n",
              "      <td>384.520841</td>\n",
              "      <td>1.908157</td>\n",
              "      <td>115.983764</td>\n",
              "    </tr>\n",
              "    <tr>\n",
              "      <th>min</th>\n",
              "      <td>-124.350000</td>\n",
              "      <td>32.540000</td>\n",
              "      <td>1.000000</td>\n",
              "      <td>2.000000</td>\n",
              "      <td>1.000000</td>\n",
              "      <td>3.000000</td>\n",
              "      <td>1.000000</td>\n",
              "      <td>0.499900</td>\n",
              "      <td>14.999000</td>\n",
              "    </tr>\n",
              "    <tr>\n",
              "      <th>25%</th>\n",
              "      <td>-121.790000</td>\n",
              "      <td>33.930000</td>\n",
              "      <td>18.000000</td>\n",
              "      <td>1462.000000</td>\n",
              "      <td>297.000000</td>\n",
              "      <td>790.000000</td>\n",
              "      <td>282.000000</td>\n",
              "      <td>2.566375</td>\n",
              "      <td>119.400000</td>\n",
              "    </tr>\n",
              "    <tr>\n",
              "      <th>50%</th>\n",
              "      <td>-118.490000</td>\n",
              "      <td>34.250000</td>\n",
              "      <td>29.000000</td>\n",
              "      <td>2127.000000</td>\n",
              "      <td>434.000000</td>\n",
              "      <td>1167.000000</td>\n",
              "      <td>409.000000</td>\n",
              "      <td>3.544600</td>\n",
              "      <td>180.400000</td>\n",
              "    </tr>\n",
              "    <tr>\n",
              "      <th>75%</th>\n",
              "      <td>-118.000000</td>\n",
              "      <td>37.720000</td>\n",
              "      <td>37.000000</td>\n",
              "      <td>3151.250000</td>\n",
              "      <td>648.250000</td>\n",
              "      <td>1721.000000</td>\n",
              "      <td>605.250000</td>\n",
              "      <td>4.767000</td>\n",
              "      <td>265.000000</td>\n",
              "    </tr>\n",
              "    <tr>\n",
              "      <th>max</th>\n",
              "      <td>-114.310000</td>\n",
              "      <td>41.950000</td>\n",
              "      <td>52.000000</td>\n",
              "      <td>37937.000000</td>\n",
              "      <td>6445.000000</td>\n",
              "      <td>35682.000000</td>\n",
              "      <td>6082.000000</td>\n",
              "      <td>15.000100</td>\n",
              "      <td>500.001000</td>\n",
              "    </tr>\n",
              "  </tbody>\n",
              "</table>\n",
              "</div>\n",
              "      <button class=\"colab-df-convert\" onclick=\"convertToInteractive('df-f8bc8975-24c0-4138-91f5-42f08bbd54cb')\"\n",
              "              title=\"Convert this dataframe to an interactive table.\"\n",
              "              style=\"display:none;\">\n",
              "        \n",
              "  <svg xmlns=\"http://www.w3.org/2000/svg\" height=\"24px\"viewBox=\"0 0 24 24\"\n",
              "       width=\"24px\">\n",
              "    <path d=\"M0 0h24v24H0V0z\" fill=\"none\"/>\n",
              "    <path d=\"M18.56 5.44l.94 2.06.94-2.06 2.06-.94-2.06-.94-.94-2.06-.94 2.06-2.06.94zm-11 1L8.5 8.5l.94-2.06 2.06-.94-2.06-.94L8.5 2.5l-.94 2.06-2.06.94zm10 10l.94 2.06.94-2.06 2.06-.94-2.06-.94-.94-2.06-.94 2.06-2.06.94z\"/><path d=\"M17.41 7.96l-1.37-1.37c-.4-.4-.92-.59-1.43-.59-.52 0-1.04.2-1.43.59L10.3 9.45l-7.72 7.72c-.78.78-.78 2.05 0 2.83L4 21.41c.39.39.9.59 1.41.59.51 0 1.02-.2 1.41-.59l7.78-7.78 2.81-2.81c.8-.78.8-2.07 0-2.86zM5.41 20L4 18.59l7.72-7.72 1.47 1.35L5.41 20z\"/>\n",
              "  </svg>\n",
              "      </button>\n",
              "      \n",
              "  <style>\n",
              "    .colab-df-container {\n",
              "      display:flex;\n",
              "      flex-wrap:wrap;\n",
              "      gap: 12px;\n",
              "    }\n",
              "\n",
              "    .colab-df-convert {\n",
              "      background-color: #E8F0FE;\n",
              "      border: none;\n",
              "      border-radius: 50%;\n",
              "      cursor: pointer;\n",
              "      display: none;\n",
              "      fill: #1967D2;\n",
              "      height: 32px;\n",
              "      padding: 0 0 0 0;\n",
              "      width: 32px;\n",
              "    }\n",
              "\n",
              "    .colab-df-convert:hover {\n",
              "      background-color: #E2EBFA;\n",
              "      box-shadow: 0px 1px 2px rgba(60, 64, 67, 0.3), 0px 1px 3px 1px rgba(60, 64, 67, 0.15);\n",
              "      fill: #174EA6;\n",
              "    }\n",
              "\n",
              "    [theme=dark] .colab-df-convert {\n",
              "      background-color: #3B4455;\n",
              "      fill: #D2E3FC;\n",
              "    }\n",
              "\n",
              "    [theme=dark] .colab-df-convert:hover {\n",
              "      background-color: #434B5C;\n",
              "      box-shadow: 0px 1px 3px 1px rgba(0, 0, 0, 0.15);\n",
              "      filter: drop-shadow(0px 1px 2px rgba(0, 0, 0, 0.3));\n",
              "      fill: #FFFFFF;\n",
              "    }\n",
              "  </style>\n",
              "\n",
              "      <script>\n",
              "        const buttonEl =\n",
              "          document.querySelector('#df-f8bc8975-24c0-4138-91f5-42f08bbd54cb button.colab-df-convert');\n",
              "        buttonEl.style.display =\n",
              "          google.colab.kernel.accessAllowed ? 'block' : 'none';\n",
              "\n",
              "        async function convertToInteractive(key) {\n",
              "          const element = document.querySelector('#df-f8bc8975-24c0-4138-91f5-42f08bbd54cb');\n",
              "          const dataTable =\n",
              "            await google.colab.kernel.invokeFunction('convertToInteractive',\n",
              "                                                     [key], {});\n",
              "          if (!dataTable) return;\n",
              "\n",
              "          const docLinkHtml = 'Like what you see? Visit the ' +\n",
              "            '<a target=\"_blank\" href=https://colab.research.google.com/notebooks/data_table.ipynb>data table notebook</a>'\n",
              "            + ' to learn more about interactive tables.';\n",
              "          element.innerHTML = '';\n",
              "          dataTable['output_type'] = 'display_data';\n",
              "          await google.colab.output.renderOutput(dataTable, element);\n",
              "          const docLink = document.createElement('div');\n",
              "          docLink.innerHTML = docLinkHtml;\n",
              "          element.appendChild(docLink);\n",
              "        }\n",
              "      </script>\n",
              "    </div>\n",
              "  </div>\n",
              "  "
            ]
          },
          "metadata": {},
          "execution_count": 19
        }
      ]
    },
    {
      "cell_type": "code",
      "source": [
        "dataset_1['total_rooms'] = np.log(dataset_1['total_rooms'])\n",
        "dataset_1['total_bedrooms'] = np.log(dataset_1['total_bedrooms'])\n",
        "dataset_1['population'] = np.log(dataset_1['population'])\n",
        "dataset_1['households'] = np.log(dataset_1['households'])\n",
        "dataset_1.describe()"
      ],
      "metadata": {
        "colab": {
          "base_uri": "https://localhost:8080/",
          "height": 300
        },
        "id": "iEVcRnCAPrSB",
        "outputId": "24ac541a-ab30-47b4-c5d6-5851764d8187"
      },
      "execution_count": null,
      "outputs": [
        {
          "output_type": "execute_result",
          "data": {
            "text/plain": [
              "          longitude      latitude  housing_median_age   total_rooms  \\\n",
              "count  17000.000000  17000.000000        17000.000000  17000.000000   \n",
              "mean    -119.562108     35.625225           28.589353      7.634250   \n",
              "std        2.005166      2.137340           12.586937      0.742704   \n",
              "min     -124.350000     32.540000            1.000000      0.693147   \n",
              "25%     -121.790000     33.930000           18.000000      7.287561   \n",
              "50%     -118.490000     34.250000           29.000000      7.662468   \n",
              "75%     -118.000000     37.720000           37.000000      8.055554   \n",
              "max     -114.310000     41.950000           52.000000     10.543682   \n",
              "\n",
              "       total_bedrooms    population    households  median_income  \\\n",
              "count    17000.000000  17000.000000  17000.000000   17000.000000   \n",
              "mean         6.055277      7.027439      5.984960       3.883578   \n",
              "std          0.726624      0.732922      0.727605       1.908157   \n",
              "min          0.000000      1.098612      0.000000       0.499900   \n",
              "25%          5.693732      6.672033      5.641907       2.566375   \n",
              "50%          6.073045      7.062192      6.013715       3.544600   \n",
              "75%          6.474276      7.450661      6.405641       4.767000   \n",
              "max          8.771060     10.482402      8.713089      15.000100   \n",
              "\n",
              "       median_house_value  \n",
              "count        17000.000000  \n",
              "mean           207.300912  \n",
              "std            115.983764  \n",
              "min             14.999000  \n",
              "25%            119.400000  \n",
              "50%            180.400000  \n",
              "75%            265.000000  \n",
              "max            500.001000  "
            ],
            "text/html": [
              "\n",
              "  <div id=\"df-203b3666-8591-4c23-baab-3556e84920aa\">\n",
              "    <div class=\"colab-df-container\">\n",
              "      <div>\n",
              "<style scoped>\n",
              "    .dataframe tbody tr th:only-of-type {\n",
              "        vertical-align: middle;\n",
              "    }\n",
              "\n",
              "    .dataframe tbody tr th {\n",
              "        vertical-align: top;\n",
              "    }\n",
              "\n",
              "    .dataframe thead th {\n",
              "        text-align: right;\n",
              "    }\n",
              "</style>\n",
              "<table border=\"1\" class=\"dataframe\">\n",
              "  <thead>\n",
              "    <tr style=\"text-align: right;\">\n",
              "      <th></th>\n",
              "      <th>longitude</th>\n",
              "      <th>latitude</th>\n",
              "      <th>housing_median_age</th>\n",
              "      <th>total_rooms</th>\n",
              "      <th>total_bedrooms</th>\n",
              "      <th>population</th>\n",
              "      <th>households</th>\n",
              "      <th>median_income</th>\n",
              "      <th>median_house_value</th>\n",
              "    </tr>\n",
              "  </thead>\n",
              "  <tbody>\n",
              "    <tr>\n",
              "      <th>count</th>\n",
              "      <td>17000.000000</td>\n",
              "      <td>17000.000000</td>\n",
              "      <td>17000.000000</td>\n",
              "      <td>17000.000000</td>\n",
              "      <td>17000.000000</td>\n",
              "      <td>17000.000000</td>\n",
              "      <td>17000.000000</td>\n",
              "      <td>17000.000000</td>\n",
              "      <td>17000.000000</td>\n",
              "    </tr>\n",
              "    <tr>\n",
              "      <th>mean</th>\n",
              "      <td>-119.562108</td>\n",
              "      <td>35.625225</td>\n",
              "      <td>28.589353</td>\n",
              "      <td>7.634250</td>\n",
              "      <td>6.055277</td>\n",
              "      <td>7.027439</td>\n",
              "      <td>5.984960</td>\n",
              "      <td>3.883578</td>\n",
              "      <td>207.300912</td>\n",
              "    </tr>\n",
              "    <tr>\n",
              "      <th>std</th>\n",
              "      <td>2.005166</td>\n",
              "      <td>2.137340</td>\n",
              "      <td>12.586937</td>\n",
              "      <td>0.742704</td>\n",
              "      <td>0.726624</td>\n",
              "      <td>0.732922</td>\n",
              "      <td>0.727605</td>\n",
              "      <td>1.908157</td>\n",
              "      <td>115.983764</td>\n",
              "    </tr>\n",
              "    <tr>\n",
              "      <th>min</th>\n",
              "      <td>-124.350000</td>\n",
              "      <td>32.540000</td>\n",
              "      <td>1.000000</td>\n",
              "      <td>0.693147</td>\n",
              "      <td>0.000000</td>\n",
              "      <td>1.098612</td>\n",
              "      <td>0.000000</td>\n",
              "      <td>0.499900</td>\n",
              "      <td>14.999000</td>\n",
              "    </tr>\n",
              "    <tr>\n",
              "      <th>25%</th>\n",
              "      <td>-121.790000</td>\n",
              "      <td>33.930000</td>\n",
              "      <td>18.000000</td>\n",
              "      <td>7.287561</td>\n",
              "      <td>5.693732</td>\n",
              "      <td>6.672033</td>\n",
              "      <td>5.641907</td>\n",
              "      <td>2.566375</td>\n",
              "      <td>119.400000</td>\n",
              "    </tr>\n",
              "    <tr>\n",
              "      <th>50%</th>\n",
              "      <td>-118.490000</td>\n",
              "      <td>34.250000</td>\n",
              "      <td>29.000000</td>\n",
              "      <td>7.662468</td>\n",
              "      <td>6.073045</td>\n",
              "      <td>7.062192</td>\n",
              "      <td>6.013715</td>\n",
              "      <td>3.544600</td>\n",
              "      <td>180.400000</td>\n",
              "    </tr>\n",
              "    <tr>\n",
              "      <th>75%</th>\n",
              "      <td>-118.000000</td>\n",
              "      <td>37.720000</td>\n",
              "      <td>37.000000</td>\n",
              "      <td>8.055554</td>\n",
              "      <td>6.474276</td>\n",
              "      <td>7.450661</td>\n",
              "      <td>6.405641</td>\n",
              "      <td>4.767000</td>\n",
              "      <td>265.000000</td>\n",
              "    </tr>\n",
              "    <tr>\n",
              "      <th>max</th>\n",
              "      <td>-114.310000</td>\n",
              "      <td>41.950000</td>\n",
              "      <td>52.000000</td>\n",
              "      <td>10.543682</td>\n",
              "      <td>8.771060</td>\n",
              "      <td>10.482402</td>\n",
              "      <td>8.713089</td>\n",
              "      <td>15.000100</td>\n",
              "      <td>500.001000</td>\n",
              "    </tr>\n",
              "  </tbody>\n",
              "</table>\n",
              "</div>\n",
              "      <button class=\"colab-df-convert\" onclick=\"convertToInteractive('df-203b3666-8591-4c23-baab-3556e84920aa')\"\n",
              "              title=\"Convert this dataframe to an interactive table.\"\n",
              "              style=\"display:none;\">\n",
              "        \n",
              "  <svg xmlns=\"http://www.w3.org/2000/svg\" height=\"24px\"viewBox=\"0 0 24 24\"\n",
              "       width=\"24px\">\n",
              "    <path d=\"M0 0h24v24H0V0z\" fill=\"none\"/>\n",
              "    <path d=\"M18.56 5.44l.94 2.06.94-2.06 2.06-.94-2.06-.94-.94-2.06-.94 2.06-2.06.94zm-11 1L8.5 8.5l.94-2.06 2.06-.94-2.06-.94L8.5 2.5l-.94 2.06-2.06.94zm10 10l.94 2.06.94-2.06 2.06-.94-2.06-.94-.94-2.06-.94 2.06-2.06.94z\"/><path d=\"M17.41 7.96l-1.37-1.37c-.4-.4-.92-.59-1.43-.59-.52 0-1.04.2-1.43.59L10.3 9.45l-7.72 7.72c-.78.78-.78 2.05 0 2.83L4 21.41c.39.39.9.59 1.41.59.51 0 1.02-.2 1.41-.59l7.78-7.78 2.81-2.81c.8-.78.8-2.07 0-2.86zM5.41 20L4 18.59l7.72-7.72 1.47 1.35L5.41 20z\"/>\n",
              "  </svg>\n",
              "      </button>\n",
              "      \n",
              "  <style>\n",
              "    .colab-df-container {\n",
              "      display:flex;\n",
              "      flex-wrap:wrap;\n",
              "      gap: 12px;\n",
              "    }\n",
              "\n",
              "    .colab-df-convert {\n",
              "      background-color: #E8F0FE;\n",
              "      border: none;\n",
              "      border-radius: 50%;\n",
              "      cursor: pointer;\n",
              "      display: none;\n",
              "      fill: #1967D2;\n",
              "      height: 32px;\n",
              "      padding: 0 0 0 0;\n",
              "      width: 32px;\n",
              "    }\n",
              "\n",
              "    .colab-df-convert:hover {\n",
              "      background-color: #E2EBFA;\n",
              "      box-shadow: 0px 1px 2px rgba(60, 64, 67, 0.3), 0px 1px 3px 1px rgba(60, 64, 67, 0.15);\n",
              "      fill: #174EA6;\n",
              "    }\n",
              "\n",
              "    [theme=dark] .colab-df-convert {\n",
              "      background-color: #3B4455;\n",
              "      fill: #D2E3FC;\n",
              "    }\n",
              "\n",
              "    [theme=dark] .colab-df-convert:hover {\n",
              "      background-color: #434B5C;\n",
              "      box-shadow: 0px 1px 3px 1px rgba(0, 0, 0, 0.15);\n",
              "      filter: drop-shadow(0px 1px 2px rgba(0, 0, 0, 0.3));\n",
              "      fill: #FFFFFF;\n",
              "    }\n",
              "  </style>\n",
              "\n",
              "      <script>\n",
              "        const buttonEl =\n",
              "          document.querySelector('#df-203b3666-8591-4c23-baab-3556e84920aa button.colab-df-convert');\n",
              "        buttonEl.style.display =\n",
              "          google.colab.kernel.accessAllowed ? 'block' : 'none';\n",
              "\n",
              "        async function convertToInteractive(key) {\n",
              "          const element = document.querySelector('#df-203b3666-8591-4c23-baab-3556e84920aa');\n",
              "          const dataTable =\n",
              "            await google.colab.kernel.invokeFunction('convertToInteractive',\n",
              "                                                     [key], {});\n",
              "          if (!dataTable) return;\n",
              "\n",
              "          const docLinkHtml = 'Like what you see? Visit the ' +\n",
              "            '<a target=\"_blank\" href=https://colab.research.google.com/notebooks/data_table.ipynb>data table notebook</a>'\n",
              "            + ' to learn more about interactive tables.';\n",
              "          element.innerHTML = '';\n",
              "          dataTable['output_type'] = 'display_data';\n",
              "          await google.colab.output.renderOutput(dataTable, element);\n",
              "          const docLink = document.createElement('div');\n",
              "          docLink.innerHTML = docLinkHtml;\n",
              "          element.appendChild(docLink);\n",
              "        }\n",
              "      </script>\n",
              "    </div>\n",
              "  </div>\n",
              "  "
            ]
          },
          "metadata": {},
          "execution_count": 20
        }
      ]
    },
    {
      "cell_type": "code",
      "source": [
        "X_log = dataset_1.loc[:, dataset_1.columns != 'median_house_value'].to_numpy()\n",
        "X_log"
      ],
      "metadata": {
        "colab": {
          "base_uri": "https://localhost:8080/"
        },
        "id": "w_oNZW7yOegy",
        "outputId": "58f52926-788e-4fc6-b2d5-d592ff65f380"
      },
      "execution_count": null,
      "outputs": [
        {
          "output_type": "execute_result",
          "data": {
            "text/plain": [
              "array([[-114.31      ,   34.19      ,   15.        , ...,    6.92264389,\n",
              "           6.15697899,    1.4936    ],\n",
              "       [-114.47      ,   34.4       ,   19.        , ...,    7.02908756,\n",
              "           6.13772705,    1.82      ],\n",
              "       [-114.56      ,   33.69      ,   17.        , ...,    5.80814249,\n",
              "           4.76217393,    1.6509    ],\n",
              "       ...,\n",
              "       [-124.3       ,   41.84      ,   17.        , ...,    7.12608727,\n",
              "           6.12249281,    3.0313    ],\n",
              "       [-124.3       ,   41.8       ,   19.        , ...,    7.1685799 ,\n",
              "           6.16961073,    1.9797    ],\n",
              "       [-124.35      ,   40.54      ,   52.        , ...,    6.69208374,\n",
              "           5.59842196,    3.0147    ]])"
            ]
          },
          "metadata": {},
          "execution_count": 21
        }
      ]
    },
    {
      "cell_type": "code",
      "source": [
        "lin_reg_3 = LinearRegression()\n",
        "\n",
        "scores = cross_val_score(lin_reg_3, X_log, y, cv=5, scoring='r2')\n",
        "print(\"%0.2f R^2 with a standard deviation of %0.2f\" % (scores.mean(), scores.std()))\n",
        "\n",
        "scores = cross_val_score(lin_reg_3, X_log, y, cv=5, scoring='neg_mean_squared_error')\n",
        "print(\"%0.2f MSE with a standard deviation of %0.2f\" % (scores.mean(), scores.std()))"
      ],
      "metadata": {
        "colab": {
          "base_uri": "https://localhost:8080/"
        },
        "id": "GcjUzXfFO0K2",
        "outputId": "ebe9df39-e4f2-4c3e-c610-d49036b2f3a9"
      },
      "execution_count": null,
      "outputs": [
        {
          "output_type": "stream",
          "name": "stdout",
          "text": [
            "0.59 R^2 with a standard deviation of 0.08\n",
            "-4880.92 MSE with a standard deviation of 1192.24\n"
          ]
        }
      ]
    },
    {
      "cell_type": "markdown",
      "source": [
        "# Задача регрессии (простая нейронная сеть)"
      ],
      "metadata": {
        "id": "kkG2-rbFQmuq"
      }
    },
    {
      "cell_type": "code",
      "source": [
        "dataset_1 = pd.read_csv(\"california_housing_train.csv\")\n",
        "X = dataset_1.loc[:, dataset_1.columns != 'median_house_value'].to_numpy()\n",
        "y = dataset_1['median_house_value'].to_numpy()\n",
        "X_train, X_test, y_train, y_test = train_test_split(X, y, test_size=0.3, random_state=2)\n",
        "print(\"Dims of train \", X_train.shape, y_train.shape)\n",
        "print(\"Dims of test \", X_test.shape, y_test.shape)"
      ],
      "metadata": {
        "colab": {
          "base_uri": "https://localhost:8080/"
        },
        "id": "5qavR5MfXsy1",
        "outputId": "aa3f86e0-c715-4acb-eb57-b605af844440"
      },
      "execution_count": null,
      "outputs": [
        {
          "output_type": "stream",
          "name": "stdout",
          "text": [
            "Dims of train  (11900, 8) (11900,)\n",
            "Dims of test  (5100, 8) (5100,)\n"
          ]
        }
      ]
    },
    {
      "cell_type": "code",
      "source": [
        "# https://www.tensorflow.org/api_docs/python/tf/keras/layers/Dense\n",
        "# https://keras.io/guides/functional_api/\n",
        "\n",
        "\n",
        "input = keras.Input(shape=(8,))\n",
        "x = layers.Dense(64, activation='relu')(input)\n",
        "x = layers.Dense(64, activation='relu')(x)\n",
        "output = layers.Dense(1)(x)\n",
        "\n",
        "nn_1 = keras.Model(input, output)\n",
        "nn_1.summary()"
      ],
      "metadata": {
        "colab": {
          "base_uri": "https://localhost:8080/"
        },
        "id": "8VnC8Z7iPGFj",
        "outputId": "3787a96e-9fa6-4506-df4a-c6d9c934f340"
      },
      "execution_count": null,
      "outputs": [
        {
          "output_type": "stream",
          "name": "stdout",
          "text": [
            "Model: \"model\"\n",
            "_________________________________________________________________\n",
            " Layer (type)                Output Shape              Param #   \n",
            "=================================================================\n",
            " input_1 (InputLayer)        [(None, 8)]               0         \n",
            "                                                                 \n",
            " dense (Dense)               (None, 64)                576       \n",
            "                                                                 \n",
            " dense_1 (Dense)             (None, 64)                4160      \n",
            "                                                                 \n",
            " dense_2 (Dense)             (None, 1)                 65        \n",
            "                                                                 \n",
            "=================================================================\n",
            "Total params: 4,801\n",
            "Trainable params: 4,801\n",
            "Non-trainable params: 0\n",
            "_________________________________________________________________\n"
          ]
        }
      ]
    },
    {
      "cell_type": "code",
      "source": [
        "LR = 0.001\n",
        "nn_1.compile(\n",
        "    optimizer=keras.optimizers.Adam(learning_rate=LR),\n",
        "    loss=[tf.keras.losses.MeanAbsoluteError()],\n",
        "    metrics=[tf.keras.metrics.MeanSquaredError()]\n",
        ")\n",
        "\n",
        "print(\"Fit model on training data\")\n",
        "history = nn_1.fit(\n",
        "    X_train,\n",
        "    y_train,\n",
        "    epochs=30,\n",
        "    validation_data=(X_test, y_test))"
      ],
      "metadata": {
        "colab": {
          "base_uri": "https://localhost:8080/"
        },
        "id": "YcDZg6DFXvZw",
        "outputId": "f2975ecd-6b18-45c2-e4be-bab6d993dd0e"
      },
      "execution_count": null,
      "outputs": [
        {
          "output_type": "stream",
          "name": "stdout",
          "text": [
            "Fit model on training data\n",
            "Epoch 1/30\n",
            "372/372 [==============================] - 5s 5ms/step - loss: 139482.4844 - mean_squared_error: 33668884480.0000 - val_loss: 116905.9531 - val_mean_squared_error: 27397017600.0000\n",
            "Epoch 2/30\n",
            "372/372 [==============================] - 2s 4ms/step - loss: 111370.8438 - mean_squared_error: 24605741056.0000 - val_loss: 108485.2969 - val_mean_squared_error: 24429299712.0000\n",
            "Epoch 3/30\n",
            "372/372 [==============================] - 3s 7ms/step - loss: 99567.7891 - mean_squared_error: 19507484672.0000 - val_loss: 94041.8203 - val_mean_squared_error: 17196939264.0000\n",
            "Epoch 4/30\n",
            "372/372 [==============================] - 3s 8ms/step - loss: 86368.7422 - mean_squared_error: 13820747776.0000 - val_loss: 84807.7422 - val_mean_squared_error: 12693773312.0000\n",
            "Epoch 5/30\n",
            "372/372 [==============================] - 3s 8ms/step - loss: 81420.1562 - mean_squared_error: 11497886720.0000 - val_loss: 82982.4219 - val_mean_squared_error: 11738802176.0000\n",
            "Epoch 6/30\n",
            "372/372 [==============================] - 2s 5ms/step - loss: 80465.3203 - mean_squared_error: 11095239680.0000 - val_loss: 82303.9922 - val_mean_squared_error: 11350008832.0000\n",
            "Epoch 7/30\n",
            "372/372 [==============================] - 2s 5ms/step - loss: 79616.7266 - mean_squared_error: 10756466688.0000 - val_loss: 81435.4219 - val_mean_squared_error: 11249816576.0000\n",
            "Epoch 8/30\n",
            "372/372 [==============================] - 2s 4ms/step - loss: 79001.1172 - mean_squared_error: 10591767552.0000 - val_loss: 80723.8125 - val_mean_squared_error: 11035149312.0000\n",
            "Epoch 9/30\n",
            "372/372 [==============================] - 2s 4ms/step - loss: 78283.8750 - mean_squared_error: 10401550336.0000 - val_loss: 80951.7109 - val_mean_squared_error: 10745340928.0000\n",
            "Epoch 10/30\n",
            "372/372 [==============================] - 2s 4ms/step - loss: 77595.8047 - mean_squared_error: 10213095424.0000 - val_loss: 79334.5234 - val_mean_squared_error: 10440878080.0000\n",
            "Epoch 11/30\n",
            "372/372 [==============================] - 2s 4ms/step - loss: 76887.1719 - mean_squared_error: 9992031232.0000 - val_loss: 78739.1875 - val_mean_squared_error: 10250883072.0000\n",
            "Epoch 12/30\n",
            "372/372 [==============================] - 2s 4ms/step - loss: 76198.5625 - mean_squared_error: 9840065536.0000 - val_loss: 77644.0000 - val_mean_squared_error: 10119945216.0000\n",
            "Epoch 13/30\n",
            "372/372 [==============================] - 2s 5ms/step - loss: 75468.0938 - mean_squared_error: 9653007360.0000 - val_loss: 77002.9844 - val_mean_squared_error: 9891603456.0000\n",
            "Epoch 14/30\n",
            "372/372 [==============================] - 2s 4ms/step - loss: 74665.4922 - mean_squared_error: 9469588480.0000 - val_loss: 76956.6953 - val_mean_squared_error: 9763158016.0000\n",
            "Epoch 15/30\n",
            "372/372 [==============================] - 2s 4ms/step - loss: 73971.3203 - mean_squared_error: 9307841536.0000 - val_loss: 75374.4844 - val_mean_squared_error: 9504031744.0000\n",
            "Epoch 16/30\n",
            "372/372 [==============================] - 2s 5ms/step - loss: 73166.8906 - mean_squared_error: 9104160768.0000 - val_loss: 75193.6016 - val_mean_squared_error: 9687987200.0000\n",
            "Epoch 17/30\n",
            "372/372 [==============================] - 2s 4ms/step - loss: 72396.7656 - mean_squared_error: 8948977664.0000 - val_loss: 73819.3516 - val_mean_squared_error: 9310675968.0000\n",
            "Epoch 18/30\n",
            "372/372 [==============================] - 2s 5ms/step - loss: 71540.7031 - mean_squared_error: 8752439296.0000 - val_loss: 73288.3984 - val_mean_squared_error: 8950458368.0000\n",
            "Epoch 19/30\n",
            "372/372 [==============================] - 2s 4ms/step - loss: 70802.9062 - mean_squared_error: 8597010432.0000 - val_loss: 72580.0391 - val_mean_squared_error: 8838232064.0000\n",
            "Epoch 20/30\n",
            "372/372 [==============================] - 2s 4ms/step - loss: 69980.5547 - mean_squared_error: 8406166528.0000 - val_loss: 71637.8906 - val_mean_squared_error: 8852182016.0000\n",
            "Epoch 21/30\n",
            "372/372 [==============================] - 2s 4ms/step - loss: 69242.8984 - mean_squared_error: 8236980736.0000 - val_loss: 70392.6641 - val_mean_squared_error: 8521859584.0000\n",
            "Epoch 22/30\n",
            "372/372 [==============================] - 2s 5ms/step - loss: 68497.3047 - mean_squared_error: 8084510208.0000 - val_loss: 71137.5312 - val_mean_squared_error: 8470008832.0000\n",
            "Epoch 23/30\n",
            "372/372 [==============================] - 2s 4ms/step - loss: 67920.0859 - mean_squared_error: 7970188288.0000 - val_loss: 68958.7109 - val_mean_squared_error: 8200147456.0000\n",
            "Epoch 24/30\n",
            "372/372 [==============================] - 2s 4ms/step - loss: 67173.3984 - mean_squared_error: 7818501120.0000 - val_loss: 68429.4219 - val_mean_squared_error: 8104857600.0000\n",
            "Epoch 25/30\n",
            "372/372 [==============================] - 2s 4ms/step - loss: 66582.7344 - mean_squared_error: 7707080192.0000 - val_loss: 67965.9844 - val_mean_squared_error: 7992566272.0000\n",
            "Epoch 26/30\n",
            "372/372 [==============================] - 2s 5ms/step - loss: 66125.7734 - mean_squared_error: 7616282112.0000 - val_loss: 67667.4922 - val_mean_squared_error: 7905951232.0000\n",
            "Epoch 27/30\n",
            "372/372 [==============================] - 2s 4ms/step - loss: 65612.4609 - mean_squared_error: 7541339648.0000 - val_loss: 66948.7656 - val_mean_squared_error: 7765702656.0000\n",
            "Epoch 28/30\n",
            "372/372 [==============================] - 2s 4ms/step - loss: 65159.6484 - mean_squared_error: 7475697664.0000 - val_loss: 66089.9922 - val_mean_squared_error: 7663987712.0000\n",
            "Epoch 29/30\n",
            "372/372 [==============================] - 2s 5ms/step - loss: 64645.4375 - mean_squared_error: 7347859968.0000 - val_loss: 66723.0781 - val_mean_squared_error: 7919130624.0000\n",
            "Epoch 30/30\n",
            "372/372 [==============================] - 2s 5ms/step - loss: 64289.3945 - mean_squared_error: 7301460480.0000 - val_loss: 65446.8633 - val_mean_squared_error: 7637944320.0000\n"
          ]
        }
      ]
    },
    {
      "cell_type": "code",
      "source": [
        "# list all data in history\n",
        "print(history.history.keys())\n",
        "# summarize history for accuracy\n",
        "plt.plot(history.history['mean_squared_error'])\n",
        "plt.plot(history.history['val_mean_squared_error'])\n",
        "plt.title('model accuracy')\n",
        "plt.ylabel('accuracy')\n",
        "plt.xlabel('epoch')\n",
        "plt.legend(['train', 'test'], loc='upper left')\n",
        "plt.show()\n",
        "# summarize history for loss\n",
        "plt.plot(history.history['loss'])\n",
        "plt.plot(history.history['val_loss'])\n",
        "plt.title('model loss')\n",
        "plt.ylabel('loss')\n",
        "plt.xlabel('epoch')\n",
        "plt.legend(['train', 'test'], loc='upper left')\n",
        "plt.show()"
      ],
      "metadata": {
        "colab": {
          "base_uri": "https://localhost:8080/",
          "height": 591
        },
        "id": "IoIffhtsc9o1",
        "outputId": "b4e7fb25-91ed-4bd8-f791-dd6e61e56981"
      },
      "execution_count": null,
      "outputs": [
        {
          "output_type": "stream",
          "name": "stdout",
          "text": [
            "dict_keys(['loss', 'mean_squared_error', 'val_loss', 'val_mean_squared_error'])\n"
          ]
        },
        {
          "output_type": "display_data",
          "data": {
            "text/plain": [
              "<Figure size 432x288 with 1 Axes>"
            ],
            "image/png": "[encoded data removed]"
          },
          "metadata": {
            "needs_background": "light"
          }
        },
        {
          "output_type": "display_data",
          "data": {
            "text/plain": [
              "<Figure size 432x288 with 1 Axes>"
            ],
            "image/png": "[encoded data removed]"
          },
          "metadata": {
            "needs_background": "light"
          }
        }
      ]
    },
    {
      "cell_type": "code",
      "source": [
        "X_train_norm, X_test_norm, y_train_norm, y_test_norm = train_test_split(X_normalized, y, test_size=0.3, random_state=2)\n",
        "\n",
        "input = keras.Input(shape=(8,))\n",
        "x = layers.Dense(64, activation='relu')(input)\n",
        "x = layers.Dense(64, activation='relu')(x)\n",
        "output = layers.Dense(1)(x)\n",
        "\n",
        "nn_1 = keras.Model(input, output)\n",
        "#nn_1.summary()\n",
        "\n",
        "LR = 0.001\n",
        "nn_1.compile(\n",
        "    optimizer=keras.optimizers.Adam(learning_rate=LR),\n",
        "    loss=[tf.keras.losses.MeanAbsoluteError()],\n",
        "    metrics=[tf.keras.metrics.MeanSquaredError()]\n",
        "\n",
        ")\n",
        "\n",
        "print(\"Fit model on training data\")\n",
        "history = nn_1.fit(\n",
        "    X_train_norm,\n",
        "    y_train_norm,\n",
        "    epochs=30,\n",
        "    validation_data=(X_test_norm, y_test_norm))"
      ],
      "metadata": {
        "colab": {
          "base_uri": "https://localhost:8080/"
        },
        "id": "Xgrc_ugHZlJq",
        "outputId": "971dc864-4300-4a2d-db70-c676a6bdfb23"
      },
      "execution_count": null,
      "outputs": [
        {
          "output_type": "stream",
          "name": "stdout",
          "text": [
            "Fit model on training data\n",
            "Epoch 1/30\n",
            "372/372 [==============================] - 2s 5ms/step - loss: 206795.4688 - mean_squared_error: 56014397440.0000 - val_loss: 205778.3906 - val_mean_squared_error: 56247169024.0000\n",
            "Epoch 2/30\n",
            "372/372 [==============================] - 2s 4ms/step - loss: 200349.9219 - mean_squared_error: 53364846592.0000 - val_loss: 192691.4375 - val_mean_squared_error: 50942058496.0000\n",
            "Epoch 3/30\n",
            "372/372 [==============================] - 2s 4ms/step - loss: 177556.3281 - mean_squared_error: 44675104768.0000 - val_loss: 159030.9219 - val_mean_squared_error: 38844985344.0000\n",
            "Epoch 4/30\n",
            "372/372 [==============================] - 2s 4ms/step - loss: 135406.7656 - mean_squared_error: 30624692224.0000 - val_loss: 114283.0156 - val_mean_squared_error: 24465571840.0000\n",
            "Epoch 5/30\n",
            "372/372 [==============================] - 2s 7ms/step - loss: 99154.9609 - mean_squared_error: 18977902592.0000 - val_loss: 91153.8203 - val_mean_squared_error: 16145519616.0000\n",
            "Epoch 6/30\n",
            "372/372 [==============================] - 2s 4ms/step - loss: 85705.9609 - mean_squared_error: 13909401600.0000 - val_loss: 86766.2344 - val_mean_squared_error: 13758028800.0000\n",
            "Epoch 7/30\n",
            "372/372 [==============================] - 2s 4ms/step - loss: 83946.8828 - mean_squared_error: 12788144128.0000 - val_loss: 86312.3516 - val_mean_squared_error: 13260951552.0000\n",
            "Epoch 8/30\n",
            "372/372 [==============================] - 2s 5ms/step - loss: 83658.9844 - mean_squared_error: 12504192000.0000 - val_loss: 86073.3828 - val_mean_squared_error: 13159665664.0000\n",
            "Epoch 9/30\n",
            "372/372 [==============================] - 2s 5ms/step - loss: 83417.0938 - mean_squared_error: 12436531200.0000 - val_loss: 85819.3906 - val_mean_squared_error: 13067907072.0000\n",
            "Epoch 10/30\n",
            "372/372 [==============================] - 2s 4ms/step - loss: 83161.7734 - mean_squared_error: 12325829632.0000 - val_loss: 85551.3047 - val_mean_squared_error: 12969872384.0000\n",
            "Epoch 11/30\n",
            "372/372 [==============================] - 2s 4ms/step - loss: 82888.3438 - mean_squared_error: 12262994944.0000 - val_loss: 85267.9609 - val_mean_squared_error: 12870999040.0000\n",
            "Epoch 12/30\n",
            "372/372 [==============================] - 2s 4ms/step - loss: 82610.1328 - mean_squared_error: 12163811328.0000 - val_loss: 84970.5938 - val_mean_squared_error: 12798576640.0000\n",
            "Epoch 13/30\n",
            "372/372 [==============================] - 2s 5ms/step - loss: 82309.5859 - mean_squared_error: 12090469376.0000 - val_loss: 84662.9531 - val_mean_squared_error: 12719804416.0000\n",
            "Epoch 14/30\n",
            "372/372 [==============================] - 2s 4ms/step - loss: 82001.8516 - mean_squared_error: 11967596544.0000 - val_loss: 84345.6406 - val_mean_squared_error: 12668781568.0000\n",
            "Epoch 15/30\n",
            "372/372 [==============================] - 2s 4ms/step - loss: 81691.1875 - mean_squared_error: 11925498880.0000 - val_loss: 84017.8125 - val_mean_squared_error: 12454376448.0000\n",
            "Epoch 16/30\n",
            "372/372 [==============================] - 2s 5ms/step - loss: 81364.3203 - mean_squared_error: 11785666560.0000 - val_loss: 83680.6406 - val_mean_squared_error: 12476708864.0000\n",
            "Epoch 17/30\n",
            "372/372 [==============================] - 2s 4ms/step - loss: 81035.7109 - mean_squared_error: 11714954240.0000 - val_loss: 83329.4141 - val_mean_squared_error: 12273813504.0000\n",
            "Epoch 18/30\n",
            "372/372 [==============================] - 2s 5ms/step - loss: 80690.4766 - mean_squared_error: 11618946048.0000 - val_loss: 82975.2422 - val_mean_squared_error: 12153061376.0000\n",
            "Epoch 19/30\n",
            "372/372 [==============================] - 2s 5ms/step - loss: 80342.5625 - mean_squared_error: 11458452480.0000 - val_loss: 82605.3125 - val_mean_squared_error: 12068451328.0000\n",
            "Epoch 20/30\n",
            "372/372 [==============================] - 2s 4ms/step - loss: 79982.4844 - mean_squared_error: 11394854912.0000 - val_loss: 82227.0781 - val_mean_squared_error: 11984166912.0000\n",
            "Epoch 21/30\n",
            "372/372 [==============================] - 2s 4ms/step - loss: 79606.8125 - mean_squared_error: 11279780864.0000 - val_loss: 81832.9531 - val_mean_squared_error: 11838595072.0000\n",
            "Epoch 22/30\n",
            "372/372 [==============================] - 2s 5ms/step - loss: 79217.4922 - mean_squared_error: 11152124928.0000 - val_loss: 81424.6328 - val_mean_squared_error: 11750178816.0000\n",
            "Epoch 23/30\n",
            "372/372 [==============================] - 2s 4ms/step - loss: 78818.5156 - mean_squared_error: 11080593408.0000 - val_loss: 81001.7969 - val_mean_squared_error: 11587097600.0000\n",
            "Epoch 24/30\n",
            "372/372 [==============================] - 2s 5ms/step - loss: 78403.0312 - mean_squared_error: 10902419456.0000 - val_loss: 80566.4219 - val_mean_squared_error: 11503527936.0000\n",
            "Epoch 25/30\n",
            "372/372 [==============================] - 2s 5ms/step - loss: 77971.4219 - mean_squared_error: 10838893568.0000 - val_loss: 80113.0391 - val_mean_squared_error: 11304907776.0000\n",
            "Epoch 26/30\n",
            "372/372 [==============================] - 2s 5ms/step - loss: 77523.2891 - mean_squared_error: 10658941952.0000 - val_loss: 79633.1875 - val_mean_squared_error: 11194773504.0000\n",
            "Epoch 27/30\n",
            "372/372 [==============================] - 2s 4ms/step - loss: 77053.9062 - mean_squared_error: 10558457856.0000 - val_loss: 79135.6172 - val_mean_squared_error: 11027051520.0000\n",
            "Epoch 28/30\n",
            "372/372 [==============================] - 2s 4ms/step - loss: 76557.9375 - mean_squared_error: 10388887552.0000 - val_loss: 78609.7656 - val_mean_squared_error: 10929961984.0000\n",
            "Epoch 29/30\n",
            "372/372 [==============================] - 2s 4ms/step - loss: 76051.3672 - mean_squared_error: 10264171520.0000 - val_loss: 78064.2422 - val_mean_squared_error: 10782563328.0000\n",
            "Epoch 30/30\n",
            "372/372 [==============================] - 2s 4ms/step - loss: 75515.6250 - mean_squared_error: 10129316864.0000 - val_loss: 77490.2656 - val_mean_squared_error: 10604675072.0000\n"
          ]
        }
      ]
    },
    {
      "cell_type": "code",
      "source": [
        "# list all data in history\n",
        "print(history.history.keys())\n",
        "# summarize history for accuracy\n",
        "plt.plot(history.history['mean_squared_error'])\n",
        "plt.plot(history.history['val_mean_squared_error'])\n",
        "plt.title('model accuracy')\n",
        "plt.ylabel('accuracy')\n",
        "plt.xlabel('epoch')\n",
        "plt.legend(['train', 'test'], loc='upper left')\n",
        "plt.show()\n",
        "# summarize history for loss\n",
        "plt.plot(history.history['loss'])\n",
        "plt.plot(history.history['val_loss'])\n",
        "plt.title('model loss')\n",
        "plt.ylabel('loss')\n",
        "plt.xlabel('epoch')\n",
        "plt.legend(['train', 'test'], loc='upper left')\n",
        "plt.show()"
      ],
      "metadata": {
        "colab": {
          "base_uri": "https://localhost:8080/",
          "height": 591
        },
        "id": "3YrJ2xZgeiUe",
        "outputId": "0e003de6-f261-47db-c89a-3cc9ae564119"
      },
      "execution_count": null,
      "outputs": [
        {
          "output_type": "stream",
          "name": "stdout",
          "text": [
            "dict_keys(['loss', 'mean_squared_error', 'val_loss', 'val_mean_squared_error'])\n"
          ]
        },
        {
          "output_type": "display_data",
          "data": {
            "text/plain": [
              "<Figure size 432x288 with 1 Axes>"
            ],
            "image/png": "[encoded data removed]"
          },
          "metadata": {
            "needs_background": "light"
          }
        },
        {
          "output_type": "display_data",
          "data": {
            "text/plain": [
              "<Figure size 432x288 with 1 Axes>"
            ],
            "image/png": "[encoded data removed]"
          },
          "metadata": {
            "needs_background": "light"
          }
        }
      ]
    },
    {
      "cell_type": "code",
      "source": [
        "# https://www.tensorflow.org/api_docs/python/tf/keras/layers/Normalization\n",
        "\n",
        "input = keras.Input(shape=(8,))\n",
        "x = layers.Normalization()(input)\n",
        "x = layers.Dense(64, activation='relu')(x)\n",
        "x = layers.Dense(64, activation='relu')(x)\n",
        "output = layers.Dense(1)(x)\n",
        "\n",
        "nn_2 = keras.Model(input, output)\n",
        "nn_2.summary()\n"
      ],
      "metadata": {
        "colab": {
          "base_uri": "https://localhost:8080/"
        },
        "id": "sIxJUcbsZLxQ",
        "outputId": "28ccc6cf-67a5-4d47-a295-816ab9fffaff"
      },
      "execution_count": null,
      "outputs": [
        {
          "output_type": "stream",
          "name": "stdout",
          "text": [
            "Model: \"model_2\"\n",
            "_________________________________________________________________\n",
            " Layer (type)                Output Shape              Param #   \n",
            "=================================================================\n",
            " input_3 (InputLayer)        [(None, 8)]               0         \n",
            "                                                                 \n",
            " normalization (Normalizatio  (None, 8)                17        \n",
            " n)                                                              \n",
            "                                                                 \n",
            " dense_6 (Dense)             (None, 64)                576       \n",
            "                                                                 \n",
            " dense_7 (Dense)             (None, 64)                4160      \n",
            "                                                                 \n",
            " dense_8 (Dense)             (None, 1)                 65        \n",
            "                                                                 \n",
            "=================================================================\n",
            "Total params: 4,818\n",
            "Trainable params: 4,801\n",
            "Non-trainable params: 17\n",
            "_________________________________________________________________\n"
          ]
        }
      ]
    },
    {
      "cell_type": "code",
      "source": [
        "\n",
        "LR = 0.001\n",
        "nn_2.compile(\n",
        "    optimizer=keras.optimizers.Adam(learning_rate=LR),\n",
        "    loss=[tf.keras.losses.MeanAbsoluteError()],\n",
        "    metrics=[tf.keras.metrics.MeanSquaredError()]\n",
        "\n",
        ")\n",
        "\n",
        "print(\"Fit model on training data\")\n",
        "history = nn_2.fit(\n",
        "    X_train,\n",
        "    y_train,\n",
        "    epochs=30,\n",
        "    validation_data=(X_test, y_test))"
      ],
      "metadata": {
        "colab": {
          "base_uri": "https://localhost:8080/"
        },
        "id": "0THrBDVnf6T3",
        "outputId": "ddd4df87-28c1-4f1b-aefd-e89a123c277f"
      },
      "execution_count": null,
      "outputs": [
        {
          "output_type": "stream",
          "name": "stdout",
          "text": [
            "Fit model on training data\n",
            "Epoch 1/30\n",
            "372/372 [==============================] - 3s 5ms/step - loss: 144987.7812 - mean_squared_error: 35822739456.0000 - val_loss: 116765.2109 - val_mean_squared_error: 27681896448.0000\n",
            "Epoch 2/30\n",
            "372/372 [==============================] - 2s 5ms/step - loss: 112227.6172 - mean_squared_error: 24842373120.0000 - val_loss: 110188.4219 - val_mean_squared_error: 24272132096.0000\n",
            "Epoch 3/30\n",
            "372/372 [==============================] - 2s 4ms/step - loss: 102708.3047 - mean_squared_error: 20724606976.0000 - val_loss: 97876.5781 - val_mean_squared_error: 19019096064.0000\n",
            "Epoch 4/30\n",
            "372/372 [==============================] - 2s 4ms/step - loss: 88996.7344 - mean_squared_error: 14882031616.0000 - val_loss: 86128.2422 - val_mean_squared_error: 13466316800.0000\n",
            "Epoch 5/30\n",
            "372/372 [==============================] - 2s 4ms/step - loss: 81907.7969 - mean_squared_error: 11681053696.0000 - val_loss: 83248.2266 - val_mean_squared_error: 11745435648.0000\n",
            "Epoch 6/30\n",
            "372/372 [==============================] - 2s 5ms/step - loss: 80561.3438 - mean_squared_error: 11091396608.0000 - val_loss: 82357.6172 - val_mean_squared_error: 11481886720.0000\n",
            "Epoch 7/30\n",
            "372/372 [==============================] - 2s 4ms/step - loss: 79836.7969 - mean_squared_error: 10822083584.0000 - val_loss: 81863.3359 - val_mean_squared_error: 11213162496.0000\n",
            "Epoch 8/30\n",
            "372/372 [==============================] - 2s 5ms/step - loss: 79075.3516 - mean_squared_error: 10595145728.0000 - val_loss: 80830.5781 - val_mean_squared_error: 10984462336.0000\n",
            "Epoch 9/30\n",
            "372/372 [==============================] - 2s 5ms/step - loss: 78431.5938 - mean_squared_error: 10399730688.0000 - val_loss: 80304.7188 - val_mean_squared_error: 10730515456.0000\n",
            "Epoch 10/30\n",
            "372/372 [==============================] - 2s 5ms/step - loss: 77628.9766 - mean_squared_error: 10205846528.0000 - val_loss: 79689.5312 - val_mean_squared_error: 10670451712.0000\n",
            "Epoch 11/30\n",
            "372/372 [==============================] - 2s 4ms/step - loss: 76945.5391 - mean_squared_error: 10016186368.0000 - val_loss: 78680.8672 - val_mean_squared_error: 10284953600.0000\n",
            "Epoch 12/30\n",
            "372/372 [==============================] - 2s 4ms/step - loss: 76145.0469 - mean_squared_error: 9805711360.0000 - val_loss: 77772.7109 - val_mean_squared_error: 10197805056.0000\n",
            "Epoch 13/30\n",
            "372/372 [==============================] - 2s 4ms/step - loss: 75720.4062 - mean_squared_error: 9702811648.0000 - val_loss: 77072.8438 - val_mean_squared_error: 10036048896.0000\n",
            "Epoch 14/30\n",
            "372/372 [==============================] - 2s 4ms/step - loss: 74835.0000 - mean_squared_error: 9465024512.0000 - val_loss: 76226.7344 - val_mean_squared_error: 9817841664.0000\n",
            "Epoch 15/30\n",
            "372/372 [==============================] - 2s 5ms/step - loss: 74007.2266 - mean_squared_error: 9262068736.0000 - val_loss: 75532.3984 - val_mean_squared_error: 9636645888.0000\n",
            "Epoch 16/30\n",
            "372/372 [==============================] - 2s 4ms/step - loss: 73280.5625 - mean_squared_error: 9077710848.0000 - val_loss: 75950.6094 - val_mean_squared_error: 9874145280.0000\n",
            "Epoch 17/30\n",
            "372/372 [==============================] - 2s 4ms/step - loss: 72531.5156 - mean_squared_error: 8928563200.0000 - val_loss: 74895.6172 - val_mean_squared_error: 9232152576.0000\n",
            "Epoch 18/30\n",
            "372/372 [==============================] - 2s 4ms/step - loss: 71859.8203 - mean_squared_error: 8754529280.0000 - val_loss: 73252.5703 - val_mean_squared_error: 9070807040.0000\n",
            "Epoch 19/30\n",
            "372/372 [==============================] - 2s 4ms/step - loss: 71020.6172 - mean_squared_error: 8572276736.0000 - val_loss: 73646.8516 - val_mean_squared_error: 8964041728.0000\n",
            "Epoch 20/30\n",
            "372/372 [==============================] - 2s 4ms/step - loss: 70221.9531 - mean_squared_error: 8412365312.0000 - val_loss: 71759.7578 - val_mean_squared_error: 8829378560.0000\n",
            "Epoch 21/30\n",
            "372/372 [==============================] - 2s 4ms/step - loss: 69619.6797 - mean_squared_error: 8267113984.0000 - val_loss: 71125.3750 - val_mean_squared_error: 8510948352.0000\n",
            "Epoch 22/30\n",
            "372/372 [==============================] - 2s 4ms/step - loss: 68809.0703 - mean_squared_error: 8099959296.0000 - val_loss: 70721.3750 - val_mean_squared_error: 8593863680.0000\n",
            "Epoch 23/30\n",
            "372/372 [==============================] - 2s 4ms/step - loss: 68094.2812 - mean_squared_error: 7958014976.0000 - val_loss: 70390.0703 - val_mean_squared_error: 8355642368.0000\n",
            "Epoch 24/30\n",
            "372/372 [==============================] - 2s 5ms/step - loss: 67535.4062 - mean_squared_error: 7867279872.0000 - val_loss: 68796.2031 - val_mean_squared_error: 8227276288.0000\n",
            "Epoch 25/30\n",
            "372/372 [==============================] - 2s 5ms/step - loss: 66880.1406 - mean_squared_error: 7741731328.0000 - val_loss: 68784.9375 - val_mean_squared_error: 8112913920.0000\n",
            "Epoch 26/30\n",
            "372/372 [==============================] - 2s 5ms/step - loss: 66363.6172 - mean_squared_error: 7637346816.0000 - val_loss: 67678.5938 - val_mean_squared_error: 7986403840.0000\n",
            "Epoch 27/30\n",
            "372/372 [==============================] - 2s 4ms/step - loss: 65961.8672 - mean_squared_error: 7552273408.0000 - val_loss: 67385.1562 - val_mean_squared_error: 7926674432.0000\n",
            "Epoch 28/30\n",
            "372/372 [==============================] - 2s 5ms/step - loss: 65690.1406 - mean_squared_error: 7523852288.0000 - val_loss: 68142.6797 - val_mean_squared_error: 8206020096.0000\n",
            "Epoch 29/30\n",
            "372/372 [==============================] - 2s 5ms/step - loss: 65099.7734 - mean_squared_error: 7418447872.0000 - val_loss: 66803.6172 - val_mean_squared_error: 7650893824.0000\n",
            "Epoch 30/30\n",
            "372/372 [==============================] - 2s 4ms/step - loss: 64623.6250 - mean_squared_error: 7302447616.0000 - val_loss: 66301.5781 - val_mean_squared_error: 7767943168.0000\n"
          ]
        }
      ]
    },
    {
      "cell_type": "code",
      "source": [
        "# list all data in history\n",
        "print(history.history.keys())\n",
        "# summarize history for accuracy\n",
        "plt.plot(history.history['mean_squared_error'])\n",
        "plt.plot(history.history['val_mean_squared_error'])\n",
        "plt.title('model accuracy')\n",
        "plt.ylabel('accuracy')\n",
        "plt.xlabel('epoch')\n",
        "plt.legend(['train', 'test'], loc='upper left')\n",
        "plt.show()\n",
        "# summarize history for loss\n",
        "plt.plot(history.history['loss'])\n",
        "plt.plot(history.history['val_loss'])\n",
        "plt.title('model loss')\n",
        "plt.ylabel('loss')\n",
        "plt.xlabel('epoch')\n",
        "plt.legend(['train', 'test'], loc='upper left')\n",
        "plt.show()"
      ],
      "metadata": {
        "colab": {
          "base_uri": "https://localhost:8080/",
          "height": 591
        },
        "id": "IAnqOOy8gDw_",
        "outputId": "d0ee1725-ad19-423e-c126-c5c581b6ccef"
      },
      "execution_count": null,
      "outputs": [
        {
          "output_type": "stream",
          "name": "stdout",
          "text": [
            "dict_keys(['loss', 'mean_squared_error', 'val_loss', 'val_mean_squared_error'])\n"
          ]
        },
        {
          "output_type": "display_data",
          "data": {
            "text/plain": [
              "<Figure size 432x288 with 1 Axes>"
            ],
            "image/png": "[encoded data removed]"
          },
          "metadata": {
            "needs_background": "light"
          }
        },
        {
          "output_type": "display_data",
          "data": {
            "text/plain": [
              "<Figure size 432x288 with 1 Axes>"
            ],
            "image/png": "[encoded data removed]"
          },
          "metadata": {
            "needs_background": "light"
          }
        }
      ]
    },
    {
      "cell_type": "code",
      "source": [
        "dataset_1 = pd.read_csv(\"california_housing_train.csv\")\n",
        "dataset_1['median_house_value'] = dataset_1['median_house_value']/1000\n",
        "dataset_1.describe()"
      ],
      "metadata": {
        "colab": {
          "base_uri": "https://localhost:8080/",
          "height": 300
        },
        "id": "wQCaX_4KidvU",
        "outputId": "06769e3f-66e7-4b2f-9038-357f59abd0a5"
      },
      "execution_count": null,
      "outputs": [
        {
          "output_type": "execute_result",
          "data": {
            "text/plain": [
              "          longitude      latitude  housing_median_age   total_rooms  \\\n",
              "count  17000.000000  17000.000000        17000.000000  17000.000000   \n",
              "mean    -119.562108     35.625225           28.589353   2643.664412   \n",
              "std        2.005166      2.137340           12.586937   2179.947071   \n",
              "min     -124.350000     32.540000            1.000000      2.000000   \n",
              "25%     -121.790000     33.930000           18.000000   1462.000000   \n",
              "50%     -118.490000     34.250000           29.000000   2127.000000   \n",
              "75%     -118.000000     37.720000           37.000000   3151.250000   \n",
              "max     -114.310000     41.950000           52.000000  37937.000000   \n",
              "\n",
              "       total_bedrooms    population    households  median_income  \\\n",
              "count    17000.000000  17000.000000  17000.000000   17000.000000   \n",
              "mean       539.410824   1429.573941    501.221941       3.883578   \n",
              "std        421.499452   1147.852959    384.520841       1.908157   \n",
              "min          1.000000      3.000000      1.000000       0.499900   \n",
              "25%        297.000000    790.000000    282.000000       2.566375   \n",
              "50%        434.000000   1167.000000    409.000000       3.544600   \n",
              "75%        648.250000   1721.000000    605.250000       4.767000   \n",
              "max       6445.000000  35682.000000   6082.000000      15.000100   \n",
              "\n",
              "       median_house_value  \n",
              "count        17000.000000  \n",
              "mean           207.300912  \n",
              "std            115.983764  \n",
              "min             14.999000  \n",
              "25%            119.400000  \n",
              "50%            180.400000  \n",
              "75%            265.000000  \n",
              "max            500.001000  "
            ],
            "text/html": [
              "\n",
              "  <div id=\"df-f5087c31-e76f-4ab9-ad0a-713d66fe9688\">\n",
              "    <div class=\"colab-df-container\">\n",
              "      <div>\n",
              "<style scoped>\n",
              "    .dataframe tbody tr th:only-of-type {\n",
              "        vertical-align: middle;\n",
              "    }\n",
              "\n",
              "    .dataframe tbody tr th {\n",
              "        vertical-align: top;\n",
              "    }\n",
              "\n",
              "    .dataframe thead th {\n",
              "        text-align: right;\n",
              "    }\n",
              "</style>\n",
              "<table border=\"1\" class=\"dataframe\">\n",
              "  <thead>\n",
              "    <tr style=\"text-align: right;\">\n",
              "      <th></th>\n",
              "      <th>longitude</th>\n",
              "      <th>latitude</th>\n",
              "      <th>housing_median_age</th>\n",
              "      <th>total_rooms</th>\n",
              "      <th>total_bedrooms</th>\n",
              "      <th>population</th>\n",
              "      <th>households</th>\n",
              "      <th>median_income</th>\n",
              "      <th>median_house_value</th>\n",
              "    </tr>\n",
              "  </thead>\n",
              "  <tbody>\n",
              "    <tr>\n",
              "      <th>count</th>\n",
              "      <td>17000.000000</td>\n",
              "      <td>17000.000000</td>\n",
              "      <td>17000.000000</td>\n",
              "      <td>17000.000000</td>\n",
              "      <td>17000.000000</td>\n",
              "      <td>17000.000000</td>\n",
              "      <td>17000.000000</td>\n",
              "      <td>17000.000000</td>\n",
              "      <td>17000.000000</td>\n",
              "    </tr>\n",
              "    <tr>\n",
              "      <th>mean</th>\n",
              "      <td>-119.562108</td>\n",
              "      <td>35.625225</td>\n",
              "      <td>28.589353</td>\n",
              "      <td>2643.664412</td>\n",
              "      <td>539.410824</td>\n",
              "      <td>1429.573941</td>\n",
              "      <td>501.221941</td>\n",
              "      <td>3.883578</td>\n",
              "      <td>207.300912</td>\n",
              "    </tr>\n",
              "    <tr>\n",
              "      <th>std</th>\n",
              "      <td>2.005166</td>\n",
              "      <td>2.137340</td>\n",
              "      <td>12.586937</td>\n",
              "      <td>2179.947071</td>\n",
              "      <td>421.499452</td>\n",
              "      <td>1147.852959</td>\n",
              "      <td>384.520841</td>\n",
              "      <td>1.908157</td>\n",
              "      <td>115.983764</td>\n",
              "    </tr>\n",
              "    <tr>\n",
              "      <th>min</th>\n",
              "      <td>-124.350000</td>\n",
              "      <td>32.540000</td>\n",
              "      <td>1.000000</td>\n",
              "      <td>2.000000</td>\n",
              "      <td>1.000000</td>\n",
              "      <td>3.000000</td>\n",
              "      <td>1.000000</td>\n",
              "      <td>0.499900</td>\n",
              "      <td>14.999000</td>\n",
              "    </tr>\n",
              "    <tr>\n",
              "      <th>25%</th>\n",
              "      <td>-121.790000</td>\n",
              "      <td>33.930000</td>\n",
              "      <td>18.000000</td>\n",
              "      <td>1462.000000</td>\n",
              "      <td>297.000000</td>\n",
              "      <td>790.000000</td>\n",
              "      <td>282.000000</td>\n",
              "      <td>2.566375</td>\n",
              "      <td>119.400000</td>\n",
              "    </tr>\n",
              "    <tr>\n",
              "      <th>50%</th>\n",
              "      <td>-118.490000</td>\n",
              "      <td>34.250000</td>\n",
              "      <td>29.000000</td>\n",
              "      <td>2127.000000</td>\n",
              "      <td>434.000000</td>\n",
              "      <td>1167.000000</td>\n",
              "      <td>409.000000</td>\n",
              "      <td>3.544600</td>\n",
              "      <td>180.400000</td>\n",
              "    </tr>\n",
              "    <tr>\n",
              "      <th>75%</th>\n",
              "      <td>-118.000000</td>\n",
              "      <td>37.720000</td>\n",
              "      <td>37.000000</td>\n",
              "      <td>3151.250000</td>\n",
              "      <td>648.250000</td>\n",
              "      <td>1721.000000</td>\n",
              "      <td>605.250000</td>\n",
              "      <td>4.767000</td>\n",
              "      <td>265.000000</td>\n",
              "    </tr>\n",
              "    <tr>\n",
              "      <th>max</th>\n",
              "      <td>-114.310000</td>\n",
              "      <td>41.950000</td>\n",
              "      <td>52.000000</td>\n",
              "      <td>37937.000000</td>\n",
              "      <td>6445.000000</td>\n",
              "      <td>35682.000000</td>\n",
              "      <td>6082.000000</td>\n",
              "      <td>15.000100</td>\n",
              "      <td>500.001000</td>\n",
              "    </tr>\n",
              "  </tbody>\n",
              "</table>\n",
              "</div>\n",
              "      <button class=\"colab-df-convert\" onclick=\"convertToInteractive('df-f5087c31-e76f-4ab9-ad0a-713d66fe9688')\"\n",
              "              title=\"Convert this dataframe to an interactive table.\"\n",
              "              style=\"display:none;\">\n",
              "        \n",
              "  <svg xmlns=\"http://www.w3.org/2000/svg\" height=\"24px\"viewBox=\"0 0 24 24\"\n",
              "       width=\"24px\">\n",
              "    <path d=\"M0 0h24v24H0V0z\" fill=\"none\"/>\n",
              "    <path d=\"M18.56 5.44l.94 2.06.94-2.06 2.06-.94-2.06-.94-.94-2.06-.94 2.06-2.06.94zm-11 1L8.5 8.5l.94-2.06 2.06-.94-2.06-.94L8.5 2.5l-.94 2.06-2.06.94zm10 10l.94 2.06.94-2.06 2.06-.94-2.06-.94-.94-2.06-.94 2.06-2.06.94z\"/><path d=\"M17.41 7.96l-1.37-1.37c-.4-.4-.92-.59-1.43-.59-.52 0-1.04.2-1.43.59L10.3 9.45l-7.72 7.72c-.78.78-.78 2.05 0 2.83L4 21.41c.39.39.9.59 1.41.59.51 0 1.02-.2 1.41-.59l7.78-7.78 2.81-2.81c.8-.78.8-2.07 0-2.86zM5.41 20L4 18.59l7.72-7.72 1.47 1.35L5.41 20z\"/>\n",
              "  </svg>\n",
              "      </button>\n",
              "      \n",
              "  <style>\n",
              "    .colab-df-container {\n",
              "      display:flex;\n",
              "      flex-wrap:wrap;\n",
              "      gap: 12px;\n",
              "    }\n",
              "\n",
              "    .colab-df-convert {\n",
              "      background-color: #E8F0FE;\n",
              "      border: none;\n",
              "      border-radius: 50%;\n",
              "      cursor: pointer;\n",
              "      display: none;\n",
              "      fill: #1967D2;\n",
              "      height: 32px;\n",
              "      padding: 0 0 0 0;\n",
              "      width: 32px;\n",
              "    }\n",
              "\n",
              "    .colab-df-convert:hover {\n",
              "      background-color: #E2EBFA;\n",
              "      box-shadow: 0px 1px 2px rgba(60, 64, 67, 0.3), 0px 1px 3px 1px rgba(60, 64, 67, 0.15);\n",
              "      fill: #174EA6;\n",
              "    }\n",
              "\n",
              "    [theme=dark] .colab-df-convert {\n",
              "      background-color: #3B4455;\n",
              "      fill: #D2E3FC;\n",
              "    }\n",
              "\n",
              "    [theme=dark] .colab-df-convert:hover {\n",
              "      background-color: #434B5C;\n",
              "      box-shadow: 0px 1px 3px 1px rgba(0, 0, 0, 0.15);\n",
              "      filter: drop-shadow(0px 1px 2px rgba(0, 0, 0, 0.3));\n",
              "      fill: #FFFFFF;\n",
              "    }\n",
              "  </style>\n",
              "\n",
              "      <script>\n",
              "        const buttonEl =\n",
              "          document.querySelector('#df-f5087c31-e76f-4ab9-ad0a-713d66fe9688 button.colab-df-convert');\n",
              "        buttonEl.style.display =\n",
              "          google.colab.kernel.accessAllowed ? 'block' : 'none';\n",
              "\n",
              "        async function convertToInteractive(key) {\n",
              "          const element = document.querySelector('#df-f5087c31-e76f-4ab9-ad0a-713d66fe9688');\n",
              "          const dataTable =\n",
              "            await google.colab.kernel.invokeFunction('convertToInteractive',\n",
              "                                                     [key], {});\n",
              "          if (!dataTable) return;\n",
              "\n",
              "          const docLinkHtml = 'Like what you see? Visit the ' +\n",
              "            '<a target=\"_blank\" href=https://colab.research.google.com/notebooks/data_table.ipynb>data table notebook</a>'\n",
              "            + ' to learn more about interactive tables.';\n",
              "          element.innerHTML = '';\n",
              "          dataTable['output_type'] = 'display_data';\n",
              "          await google.colab.output.renderOutput(dataTable, element);\n",
              "          const docLink = document.createElement('div');\n",
              "          docLink.innerHTML = docLinkHtml;\n",
              "          element.appendChild(docLink);\n",
              "        }\n",
              "      </script>\n",
              "    </div>\n",
              "  </div>\n",
              "  "
            ]
          },
          "metadata": {},
          "execution_count": 32
        }
      ]
    },
    {
      "cell_type": "code",
      "source": [
        "dataset_1[\"rooms_per_person\"] = dataset_1[\"total_rooms\"] / dataset_1[\"population\"]\n",
        "dataset_1[\"rooms_on_income\"] = dataset_1[\"median_income\"]*dataset_1[\"total_rooms\"]\n",
        "dataset_1.corr()['median_house_value']"
      ],
      "metadata": {
        "colab": {
          "base_uri": "https://localhost:8080/"
        },
        "id": "UsNhFAwajhZ7",
        "outputId": "eb015fd8-d237-4861-b313-287272a30879"
      },
      "execution_count": null,
      "outputs": [
        {
          "output_type": "execute_result",
          "data": {
            "text/plain": [
              "longitude            -0.044982\n",
              "latitude             -0.144917\n",
              "housing_median_age    0.106758\n",
              "total_rooms           0.130991\n",
              "total_bedrooms        0.045783\n",
              "population           -0.027850\n",
              "households            0.061031\n",
              "median_income         0.691871\n",
              "median_house_value    1.000000\n",
              "rooms_per_person      0.206969\n",
              "rooms_on_income       0.375019\n",
              "Name: median_house_value, dtype: float64"
            ]
          },
          "metadata": {},
          "execution_count": 33
        }
      ]
    },
    {
      "cell_type": "code",
      "source": [
        "#dataset_2 = dataset_1.drop(columns=[\"longitude\", \"total_bedrooms\", \"population\", \"households\"])\n",
        "X = dataset_1.loc[:, dataset_1.columns != 'median_house_value'].to_numpy()\n",
        "y = dataset_1['median_house_value'].to_numpy()\n",
        "X_train, X_test, y_train, y_test = train_test_split(X, y, test_size=0.3, random_state=2)\n",
        "print(\"Dims of train \", X_train.shape, y_train.shape)\n",
        "print(\"Dims of test \", X_test.shape, y_test.shape)"
      ],
      "metadata": {
        "colab": {
          "base_uri": "https://localhost:8080/"
        },
        "id": "EHl0evTDktL7",
        "outputId": "445bccf0-f26a-4f98-f1f4-f85a6f0b092a"
      },
      "execution_count": null,
      "outputs": [
        {
          "output_type": "stream",
          "name": "stdout",
          "text": [
            "Dims of train  (11900, 10) (11900,)\n",
            "Dims of test  (5100, 10) (5100,)\n"
          ]
        }
      ]
    },
    {
      "cell_type": "code",
      "source": [
        "input = keras.Input(shape=(10,))\n",
        "x = layers.Normalization()(input)\n",
        "x = layers.Dense(64, activation='relu')(x)\n",
        "x = layers.Dense(64, activation='relu')(x)\n",
        "output = layers.Dense(1)(x)\n",
        "\n",
        "nn_2 = keras.Model(input, output)\n",
        "\n",
        "LR = 0.001\n",
        "nn_2.compile(\n",
        "    optimizer=keras.optimizers.Adam(learning_rate=LR),\n",
        "    loss=[tf.keras.losses.MeanAbsoluteError()],\n",
        "    metrics=[tf.keras.metrics.MeanSquaredError()]\n",
        "\n",
        ")\n",
        "\n",
        "print(\"Fit model on training data\")\n",
        "history = nn_2.fit(\n",
        "    X_train,\n",
        "    y_train,\n",
        "    epochs=30,\n",
        "    validation_data=(X_test, y_test))"
      ],
      "metadata": {
        "colab": {
          "base_uri": "https://localhost:8080/"
        },
        "id": "wpsxHYMWlUmM",
        "outputId": "2502eb9a-5b9c-48cd-cbc3-ddb268b4eee3"
      },
      "execution_count": null,
      "outputs": [
        {
          "output_type": "stream",
          "name": "stdout",
          "text": [
            "Fit model on training data\n",
            "Epoch 1/30\n",
            "372/372 [==============================] - 2s 5ms/step - loss: 123.5778 - mean_squared_error: 84509.2656 - val_loss: 94.7028 - val_mean_squared_error: 28951.8555\n",
            "Epoch 2/30\n",
            "372/372 [==============================] - 2s 4ms/step - loss: 74.1135 - mean_squared_error: 13103.9932 - val_loss: 84.0273 - val_mean_squared_error: 13924.6475\n",
            "Epoch 3/30\n",
            "372/372 [==============================] - 2s 4ms/step - loss: 69.8124 - mean_squared_error: 11254.4961 - val_loss: 62.4042 - val_mean_squared_error: 8254.2021\n",
            "Epoch 4/30\n",
            "372/372 [==============================] - 2s 4ms/step - loss: 63.7925 - mean_squared_error: 8883.7812 - val_loss: 65.3682 - val_mean_squared_error: 11510.4131\n",
            "Epoch 5/30\n",
            "372/372 [==============================] - 2s 4ms/step - loss: 64.2597 - mean_squared_error: 9500.2275 - val_loss: 57.6894 - val_mean_squared_error: 7735.1694\n",
            "Epoch 6/30\n",
            "372/372 [==============================] - 2s 5ms/step - loss: 60.9381 - mean_squared_error: 7677.7090 - val_loss: 58.1475 - val_mean_squared_error: 6879.2720\n",
            "Epoch 7/30\n",
            "372/372 [==============================] - 2s 4ms/step - loss: 62.2062 - mean_squared_error: 8341.0576 - val_loss: 60.1291 - val_mean_squared_error: 7726.6885\n",
            "Epoch 8/30\n",
            "372/372 [==============================] - 2s 5ms/step - loss: 60.3868 - mean_squared_error: 7539.1187 - val_loss: 63.7201 - val_mean_squared_error: 10191.7227\n",
            "Epoch 9/30\n",
            "372/372 [==============================] - 2s 5ms/step - loss: 60.5445 - mean_squared_error: 7589.5142 - val_loss: 62.1348 - val_mean_squared_error: 8403.5000\n",
            "Epoch 10/30\n",
            "372/372 [==============================] - 2s 4ms/step - loss: 59.5142 - mean_squared_error: 7382.1558 - val_loss: 57.4914 - val_mean_squared_error: 7134.7656\n",
            "Epoch 11/30\n",
            "372/372 [==============================] - 2s 4ms/step - loss: 59.4686 - mean_squared_error: 7449.5151 - val_loss: 52.8626 - val_mean_squared_error: 5637.7847\n",
            "Epoch 12/30\n",
            "372/372 [==============================] - 1s 4ms/step - loss: 55.0070 - mean_squared_error: 6172.5854 - val_loss: 65.5911 - val_mean_squared_error: 8472.5693\n",
            "Epoch 13/30\n",
            "372/372 [==============================] - 2s 4ms/step - loss: 58.2922 - mean_squared_error: 7076.7959 - val_loss: 63.0623 - val_mean_squared_error: 7742.8179\n",
            "Epoch 14/30\n",
            "372/372 [==============================] - 1s 4ms/step - loss: 56.5393 - mean_squared_error: 6516.9219 - val_loss: 58.3570 - val_mean_squared_error: 7519.5229\n",
            "Epoch 15/30\n",
            "372/372 [==============================] - 2s 5ms/step - loss: 54.7303 - mean_squared_error: 6120.8174 - val_loss: 57.7792 - val_mean_squared_error: 6764.9136\n",
            "Epoch 16/30\n",
            "372/372 [==============================] - 2s 4ms/step - loss: 55.3258 - mean_squared_error: 6324.9487 - val_loss: 52.5866 - val_mean_squared_error: 5486.2563\n",
            "Epoch 17/30\n",
            "372/372 [==============================] - 2s 4ms/step - loss: 56.8465 - mean_squared_error: 6713.0439 - val_loss: 52.5608 - val_mean_squared_error: 5543.4482\n",
            "Epoch 18/30\n",
            "372/372 [==============================] - 2s 4ms/step - loss: 55.0057 - mean_squared_error: 6202.8843 - val_loss: 63.2907 - val_mean_squared_error: 9807.6797\n",
            "Epoch 19/30\n",
            "372/372 [==============================] - 2s 5ms/step - loss: 54.4341 - mean_squared_error: 6005.2930 - val_loss: 52.2481 - val_mean_squared_error: 5230.1445\n",
            "Epoch 20/30\n",
            "372/372 [==============================] - 2s 5ms/step - loss: 52.3851 - mean_squared_error: 5476.8960 - val_loss: 50.6791 - val_mean_squared_error: 5269.7285\n",
            "Epoch 21/30\n",
            "372/372 [==============================] - 2s 4ms/step - loss: 54.1140 - mean_squared_error: 6032.5000 - val_loss: 52.0576 - val_mean_squared_error: 5089.3145\n",
            "Epoch 22/30\n",
            "372/372 [==============================] - 2s 4ms/step - loss: 51.5882 - mean_squared_error: 5353.1353 - val_loss: 54.0523 - val_mean_squared_error: 5410.7358\n",
            "Epoch 23/30\n",
            "372/372 [==============================] - 2s 4ms/step - loss: 54.3766 - mean_squared_error: 6009.6519 - val_loss: 51.8409 - val_mean_squared_error: 5514.4302\n",
            "Epoch 24/30\n",
            "372/372 [==============================] - 2s 5ms/step - loss: 51.8519 - mean_squared_error: 5430.7134 - val_loss: 50.4292 - val_mean_squared_error: 5203.2998\n",
            "Epoch 25/30\n",
            "372/372 [==============================] - 2s 5ms/step - loss: 51.6805 - mean_squared_error: 5387.0952 - val_loss: 54.4006 - val_mean_squared_error: 5912.8208\n",
            "Epoch 26/30\n",
            "372/372 [==============================] - 2s 5ms/step - loss: 50.6099 - mean_squared_error: 5249.1851 - val_loss: 52.4657 - val_mean_squared_error: 5114.3223\n",
            "Epoch 27/30\n",
            "372/372 [==============================] - 2s 4ms/step - loss: 51.1354 - mean_squared_error: 5322.7368 - val_loss: 50.4774 - val_mean_squared_error: 4757.1084\n",
            "Epoch 28/30\n",
            "372/372 [==============================] - 2s 5ms/step - loss: 50.6150 - mean_squared_error: 5105.1929 - val_loss: 55.7018 - val_mean_squared_error: 6655.2378\n",
            "Epoch 29/30\n",
            "372/372 [==============================] - 2s 5ms/step - loss: 50.2288 - mean_squared_error: 5055.5469 - val_loss: 49.8351 - val_mean_squared_error: 4791.1860\n",
            "Epoch 30/30\n",
            "372/372 [==============================] - 2s 5ms/step - loss: 50.5648 - mean_squared_error: 5132.6577 - val_loss: 49.7307 - val_mean_squared_error: 5083.0269\n"
          ]
        }
      ]
    },
    {
      "cell_type": "code",
      "source": [],
      "metadata": {
        "id": "AcvusFN2lyP0"
      },
      "execution_count": null,
      "outputs": []
    }
  ]
}