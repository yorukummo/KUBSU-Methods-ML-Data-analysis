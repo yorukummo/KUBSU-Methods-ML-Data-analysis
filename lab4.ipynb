{
 "cells": [
  {
   "metadata": {},
   "cell_type": "markdown",
   "source": [
    "# Лабораторная работа 4\n",
    "\n",
    "**Импорт библиотек**"
   ],
   "id": "5f5b8f3ca8642f5f"
  },
  {
   "metadata": {
    "ExecuteTime": {
     "end_time": "2024-12-04T14:11:58.308404Z",
     "start_time": "2024-12-04T14:11:58.087720Z"
    }
   },
   "cell_type": "code",
   "source": [
    "import pandas as pd\n",
    "import numpy as np\n",
    "import seaborn as sns\n",
    "import matplotlib.pyplot as plt\n",
    "from sklearn.linear_model import LinearRegression\n",
    "from sklearn.linear_model import LogisticRegression\n",
    "from scipy.stats import shapiro\n",
    "from itertools import combinations\n",
    "from sklearn.metrics import r2_score\n",
    "from statsmodels.formula.api import ols"
   ],
   "id": "374cafc3eb6289b2",
   "outputs": [],
   "execution_count": 1
  },
  {
   "metadata": {},
   "cell_type": "markdown",
   "source": [
    "**Задание №1**\n",
    "\n",
    "По данным файла «dataset_11508_12.txt» постройте линейную регрессию, где - первая переменная - зависимая, вторая - независимая. В ответе выведите значения регрессионных коэффициентов  intercept и  slope."
   ],
   "id": "b1e00b1df9fef686"
  },
  {
   "metadata": {
    "ExecuteTime": {
     "end_time": "2024-12-04T14:11:58.321050Z",
     "start_time": "2024-12-04T14:11:58.313687Z"
    }
   },
   "cell_type": "code",
   "source": [
    "data_11508 = pd.read_csv('info-folder/data/dataset_11508_12.txt', sep=\" \", header=None, names=[\"dependent\", \"independent\"])\n",
    "\n",
    "data_11508.head()"
   ],
   "id": "76b2074439c35370",
   "outputs": [
    {
     "data": {
      "text/plain": [
       "   dependent  independent\n",
       "0      0.435        1.868\n",
       "1      0.563        1.294\n",
       "2      1.699       -3.824\n",
       "3     -0.894        7.856\n",
       "4      1.296       -2.008"
      ],
      "text/html": [
       "<div>\n",
       "<style scoped>\n",
       "    .dataframe tbody tr th:only-of-type {\n",
       "        vertical-align: middle;\n",
       "    }\n",
       "\n",
       "    .dataframe tbody tr th {\n",
       "        vertical-align: top;\n",
       "    }\n",
       "\n",
       "    .dataframe thead th {\n",
       "        text-align: right;\n",
       "    }\n",
       "</style>\n",
       "<table border=\"1\" class=\"dataframe\">\n",
       "  <thead>\n",
       "    <tr style=\"text-align: right;\">\n",
       "      <th></th>\n",
       "      <th>dependent</th>\n",
       "      <th>independent</th>\n",
       "    </tr>\n",
       "  </thead>\n",
       "  <tbody>\n",
       "    <tr>\n",
       "      <th>0</th>\n",
       "      <td>0.435</td>\n",
       "      <td>1.868</td>\n",
       "    </tr>\n",
       "    <tr>\n",
       "      <th>1</th>\n",
       "      <td>0.563</td>\n",
       "      <td>1.294</td>\n",
       "    </tr>\n",
       "    <tr>\n",
       "      <th>2</th>\n",
       "      <td>1.699</td>\n",
       "      <td>-3.824</td>\n",
       "    </tr>\n",
       "    <tr>\n",
       "      <th>3</th>\n",
       "      <td>-0.894</td>\n",
       "      <td>7.856</td>\n",
       "    </tr>\n",
       "    <tr>\n",
       "      <th>4</th>\n",
       "      <td>1.296</td>\n",
       "      <td>-2.008</td>\n",
       "    </tr>\n",
       "  </tbody>\n",
       "</table>\n",
       "</div>"
      ]
     },
     "execution_count": 2,
     "metadata": {},
     "output_type": "execute_result"
    }
   ],
   "execution_count": 2
  },
  {
   "metadata": {
    "ExecuteTime": {
     "end_time": "2024-12-04T14:11:58.409306Z",
     "start_time": "2024-12-04T14:11:58.402305Z"
    }
   },
   "cell_type": "code",
   "source": [
    "X = data_11508[\"independent\"].values.reshape(-1, 1)  # Independent variable\n",
    "y = data_11508[\"dependent\"].values  # Dependent variable\n",
    "\n",
    "# Построение модели линейной регрессии\n",
    "model = LinearRegression()\n",
    "model.fit(X, y)\n",
    "\n",
    "# Извлечение коэффициентов\n",
    "intercept = model.intercept_\n",
    "slope = model.coef_[0]\n",
    "\n",
    "(intercept, slope)"
   ],
   "id": "a41557e04d2a69ef",
   "outputs": [
    {
     "data": {
      "text/plain": [
       "(np.float64(0.8500427888479712), np.float64(-0.22204361509119652))"
      ]
     },
     "execution_count": 3,
     "metadata": {},
     "output_type": "execute_result"
    }
   ],
   "execution_count": 3
  },
  {
   "metadata": {},
   "cell_type": "markdown",
   "source": [
    "В линейной регрессии уравнение имеет вид: y = intercept + slope * x\n",
    "\n",
    "где:\n",
    "- \\(y\\) — это зависимая переменная (то есть та, которую мы пытаемся предсказать).\n",
    "- \\(x\\) — это независимая переменная (то есть фактор, который влияет на \\(y\\)).\n",
    "- **Intercept** — значение \\(y\\), когда \\(x = 0\\). Это \"начальная точка\" линии регрессии на оси \\(y\\).\n",
    "- **Slope** — наклон линии регрессии, который показывает, как изменяется \\(y\\) при изменении \\(x\\) на единицу.\n",
    "\n",
    "В нашем случае:\n",
    "- **Intercept = 0.850** означает, что если независимая переменная (\\(x\\)) равна 0, то ожидаемое значение зависимой переменной (\\(y\\)) равно 0.850.\n",
    "- **Slope = -0.222** означает, что при увеличении независимой переменной (\\(x\\)) на 1 единицу значение зависимой переменной (\\(y\\)) уменьшается на 0.222.\n",
    "\n",
    "#### Интерпретация\n",
    "- Регрессия показывает отрицательную связь между независимой (\\(x\\)) и зависимой (\\(y\\)) переменными. Это значит, что при росте независимой переменной, зависимая переменная уменьшается.\n",
    "- Значение intercept показывает точку пересечения регрессионной прямой с осью \\(y\\), то есть начальное значение зависимой переменной, если влияние независимой отсутствует. \n"
   ],
   "id": "195abd6ac9ff2c9b"
  },
  {
   "metadata": {},
   "cell_type": "markdown",
   "source": [
    "**Задание №2**\n",
    "\n",
    "Воспользуемся уже знакомыми данными diamonds. Только для бриллиантов класса Ideal (переменная cut) c числом карат равным 0.46 (переменная carat) постройте линейную регрессию, где в качестве зависимой переменной выступает price, в качестве предиктора - переменная  depth. Сохраните коэффициенты регрессии в переменную fit_coef.\n",
    "!!!Это задание нужно решить, не используя цикл for()."
   ],
   "id": "7792a8ea7a49c38d"
  },
  {
   "metadata": {
    "ExecuteTime": {
     "end_time": "2024-12-04T14:11:58.545284Z",
     "start_time": "2024-12-04T14:11:58.513362Z"
    }
   },
   "cell_type": "code",
   "source": [
    "diamonds = pd.read_csv(\"info-folder/data/diamonds.csv\")\n",
    "\n",
    "diamonds.head()"
   ],
   "id": "ce381bbdf956a85b",
   "outputs": [
    {
     "data": {
      "text/plain": [
       "   Unnamed: 0  carat      cut color clarity  depth  table  price     x     y  \\\n",
       "0           1   0.23    Ideal     E     SI2   61.5   55.0    326  3.95  3.98   \n",
       "1           2   0.21  Premium     E     SI1   59.8   61.0    326  3.89  3.84   \n",
       "2           3   0.23     Good     E     VS1   56.9   65.0    327  4.05  4.07   \n",
       "3           4   0.29  Premium     I     VS2   62.4   58.0    334  4.20  4.23   \n",
       "4           5   0.31     Good     J     SI2   63.3   58.0    335  4.34  4.35   \n",
       "\n",
       "      z  \n",
       "0  2.43  \n",
       "1  2.31  \n",
       "2  2.31  \n",
       "3  2.63  \n",
       "4  2.75  "
      ],
      "text/html": [
       "<div>\n",
       "<style scoped>\n",
       "    .dataframe tbody tr th:only-of-type {\n",
       "        vertical-align: middle;\n",
       "    }\n",
       "\n",
       "    .dataframe tbody tr th {\n",
       "        vertical-align: top;\n",
       "    }\n",
       "\n",
       "    .dataframe thead th {\n",
       "        text-align: right;\n",
       "    }\n",
       "</style>\n",
       "<table border=\"1\" class=\"dataframe\">\n",
       "  <thead>\n",
       "    <tr style=\"text-align: right;\">\n",
       "      <th></th>\n",
       "      <th>Unnamed: 0</th>\n",
       "      <th>carat</th>\n",
       "      <th>cut</th>\n",
       "      <th>color</th>\n",
       "      <th>clarity</th>\n",
       "      <th>depth</th>\n",
       "      <th>table</th>\n",
       "      <th>price</th>\n",
       "      <th>x</th>\n",
       "      <th>y</th>\n",
       "      <th>z</th>\n",
       "    </tr>\n",
       "  </thead>\n",
       "  <tbody>\n",
       "    <tr>\n",
       "      <th>0</th>\n",
       "      <td>1</td>\n",
       "      <td>0.23</td>\n",
       "      <td>Ideal</td>\n",
       "      <td>E</td>\n",
       "      <td>SI2</td>\n",
       "      <td>61.5</td>\n",
       "      <td>55.0</td>\n",
       "      <td>326</td>\n",
       "      <td>3.95</td>\n",
       "      <td>3.98</td>\n",
       "      <td>2.43</td>\n",
       "    </tr>\n",
       "    <tr>\n",
       "      <th>1</th>\n",
       "      <td>2</td>\n",
       "      <td>0.21</td>\n",
       "      <td>Premium</td>\n",
       "      <td>E</td>\n",
       "      <td>SI1</td>\n",
       "      <td>59.8</td>\n",
       "      <td>61.0</td>\n",
       "      <td>326</td>\n",
       "      <td>3.89</td>\n",
       "      <td>3.84</td>\n",
       "      <td>2.31</td>\n",
       "    </tr>\n",
       "    <tr>\n",
       "      <th>2</th>\n",
       "      <td>3</td>\n",
       "      <td>0.23</td>\n",
       "      <td>Good</td>\n",
       "      <td>E</td>\n",
       "      <td>VS1</td>\n",
       "      <td>56.9</td>\n",
       "      <td>65.0</td>\n",
       "      <td>327</td>\n",
       "      <td>4.05</td>\n",
       "      <td>4.07</td>\n",
       "      <td>2.31</td>\n",
       "    </tr>\n",
       "    <tr>\n",
       "      <th>3</th>\n",
       "      <td>4</td>\n",
       "      <td>0.29</td>\n",
       "      <td>Premium</td>\n",
       "      <td>I</td>\n",
       "      <td>VS2</td>\n",
       "      <td>62.4</td>\n",
       "      <td>58.0</td>\n",
       "      <td>334</td>\n",
       "      <td>4.20</td>\n",
       "      <td>4.23</td>\n",
       "      <td>2.63</td>\n",
       "    </tr>\n",
       "    <tr>\n",
       "      <th>4</th>\n",
       "      <td>5</td>\n",
       "      <td>0.31</td>\n",
       "      <td>Good</td>\n",
       "      <td>J</td>\n",
       "      <td>SI2</td>\n",
       "      <td>63.3</td>\n",
       "      <td>58.0</td>\n",
       "      <td>335</td>\n",
       "      <td>4.34</td>\n",
       "      <td>4.35</td>\n",
       "      <td>2.75</td>\n",
       "    </tr>\n",
       "  </tbody>\n",
       "</table>\n",
       "</div>"
      ]
     },
     "execution_count": 4,
     "metadata": {},
     "output_type": "execute_result"
    }
   ],
   "execution_count": 4
  },
  {
   "metadata": {
    "ExecuteTime": {
     "end_time": "2024-12-04T14:11:58.614574Z",
     "start_time": "2024-12-04T14:11:58.607154Z"
    }
   },
   "cell_type": "code",
   "source": [
    "# Фильтруем данные\n",
    "filtered_data = diamonds[(diamonds['cut'] == 'Ideal') & (diamonds['carat'] == 0.46)]\n",
    "\n",
    "# Определите зависимые (цена) и независимые (глубина) переменные\n",
    "X = filtered_data['depth'].values.reshape(-1, 1)\n",
    "y = filtered_data['price']\n",
    "\n",
    "# Построение модели линейной регрессии\n",
    "model = LinearRegression()\n",
    "model.fit(X, y)\n",
    "\n",
    "# Извлечение коэффициентов\n",
    "fit_coef = (model.intercept_, model.coef_[0])\n",
    "fit_coef"
   ],
   "id": "8b425a02640bf500",
   "outputs": [
    {
     "data": {
      "text/plain": [
       "(np.float64(-76.11030176901568), np.float64(21.43426985778743))"
      ]
     },
     "execution_count": 5,
     "metadata": {},
     "output_type": "execute_result"
    }
   ],
   "execution_count": 5
  },
  {
   "metadata": {},
   "cell_type": "markdown",
   "source": [
    "Коэффициенты регрессии для модели:\n",
    "\n",
    "- Intercept: -76.11\n",
    "- Slope: 21.43\n",
    "\n",
    "Это означает, что для diamonds класса \"Ideal\" с каратом 0,46 цена увеличивается примерно на 21,43 единицы при увеличении глубины на одну единицу."
   ],
   "id": "5d47a9d4748254cd"
  },
  {
   "metadata": {},
   "cell_type": "markdown",
   "source": [
    "**Задание №3**\n",
    "\n",
    "Напишите функцию fill_na, которая принимает на вход данные с тремя переменными:\n",
    "\n",
    "- x_1  -  числовой вектор\n",
    "\n",
    "- x_2 - числовой вектор\n",
    "- y - числовой вектор с пропущенными значениями.\n",
    "\n",
    "На первом этапе, используя только наблюдения, в которых нет пропущенных значений, мы построим регрессионную модель (без взаимодействий), где  y — зависимая переменная, x_1 и x_2 —\n",
    "независимые переменные. Затем, используя построенную модель, мы заполним пропущенные значения предсказаниями модели.\n",
    "\n",
    "Функция должна возвращать dataframe c новой переменной  y_full. Сохраните в нее переменную y, в которой пропущенные значения заполнены предсказанными значениями построенной модели.\n",
    "\n",
    "   x_1 x_2  y   y_full\n",
    "1   9  22 14 14.00000\n",
    "2  14  35  9  9.00000\n",
    "3  10  45 NA 13.12727\n",
    "4  6  35 NA 13.30132\n",
    "5 11  36 16 16.00000\n",
    "6  5  27 11 11.00000\n",
    "7  9  34 NA 12.83632\n",
    "8  6  25 NA 12.90783\n",
    "9 11  38 13 13.00000\n",
    "10 12  23 NA 11.97784\n"
   ],
   "id": "f160191b133db413"
  },
  {
   "metadata": {
    "ExecuteTime": {
     "end_time": "2024-12-04T14:11:58.695751Z",
     "start_time": "2024-12-04T14:11:58.692171Z"
    }
   },
   "cell_type": "code",
   "source": [
    "def fill_na(x_1, x_2, y):\n",
    "    # Объединение входных данных в DataFrame\n",
    "    data = pd.DataFrame({'x_1': x_1, 'x_2': x_2, 'y': y})\n",
    "    \n",
    "    # Отдельные строки с пропущенными значениями в y и без них\n",
    "    data_complete = data.dropna(subset=['y'])\n",
    "    data_missing = data[data['y'].isna()]\n",
    "    \n",
    "    # Извлечение функций и целей для подгонки модели\n",
    "    X_train = data_complete[['x_1', 'x_2']]\n",
    "    y_train = data_complete['y']\n",
    "    \n",
    "    model = LinearRegression()\n",
    "    model.fit(X_train, y_train)\n",
    "    \n",
    "    # Прогнозирование отсутствующих значений y\n",
    "    if not data_missing.empty:  # Смотрим, что есть недостающие значения для прогнозирования\n",
    "        X_missing = data_missing[['x_1', 'x_2']]\n",
    "        y_pred = model.predict(X_missing)\n",
    "        data.loc[data['y'].isna(), 'y'] = y_pred\n",
    "    \n",
    "    # Создаем новый столбец с заполненными значениями\n",
    "    data['y_full'] = data['y']\n",
    "    \n",
    "    return data"
   ],
   "id": "fe26925014dc2e6c",
   "outputs": [],
   "execution_count": 6
  },
  {
   "metadata": {
    "ExecuteTime": {
     "end_time": "2024-12-04T14:11:58.756384Z",
     "start_time": "2024-12-04T14:11:58.746254Z"
    }
   },
   "cell_type": "code",
   "source": [
    "example_data = {\n",
    "    \"x_1\": [9, 14, 10, 6, 11, 5, 9, 6, 11, 12],\n",
    "    \"x_2\": [22, 35, 45, 35, 36, 27, 34, 25, 38, 23],\n",
    "    \"y\": [14, 9, np.nan, np.nan, 16, 11, np.nan, np.nan, 13, np.nan]\n",
    "}\n",
    "\n",
    "# Apply the function\n",
    "result = fill_na(example_data['x_1'], example_data['x_2'], example_data['y'])\n",
    "result"
   ],
   "id": "de62b2bc61b0df56",
   "outputs": [
    {
     "data": {
      "text/plain": [
       "   x_1  x_2          y     y_full\n",
       "0    9   22  14.000000  14.000000\n",
       "1   14   35   9.000000   9.000000\n",
       "2   10   45  13.127271  13.127271\n",
       "3    6   35  13.301318  13.301318\n",
       "4   11   36  16.000000  16.000000\n",
       "5    5   27  11.000000  11.000000\n",
       "6    9   34  12.836320  12.836320\n",
       "7    6   25  12.907833  12.907833\n",
       "8   11   38  13.000000  13.000000\n",
       "9   12   23  11.977836  11.977836"
      ],
      "text/html": [
       "<div>\n",
       "<style scoped>\n",
       "    .dataframe tbody tr th:only-of-type {\n",
       "        vertical-align: middle;\n",
       "    }\n",
       "\n",
       "    .dataframe tbody tr th {\n",
       "        vertical-align: top;\n",
       "    }\n",
       "\n",
       "    .dataframe thead th {\n",
       "        text-align: right;\n",
       "    }\n",
       "</style>\n",
       "<table border=\"1\" class=\"dataframe\">\n",
       "  <thead>\n",
       "    <tr style=\"text-align: right;\">\n",
       "      <th></th>\n",
       "      <th>x_1</th>\n",
       "      <th>x_2</th>\n",
       "      <th>y</th>\n",
       "      <th>y_full</th>\n",
       "    </tr>\n",
       "  </thead>\n",
       "  <tbody>\n",
       "    <tr>\n",
       "      <th>0</th>\n",
       "      <td>9</td>\n",
       "      <td>22</td>\n",
       "      <td>14.000000</td>\n",
       "      <td>14.000000</td>\n",
       "    </tr>\n",
       "    <tr>\n",
       "      <th>1</th>\n",
       "      <td>14</td>\n",
       "      <td>35</td>\n",
       "      <td>9.000000</td>\n",
       "      <td>9.000000</td>\n",
       "    </tr>\n",
       "    <tr>\n",
       "      <th>2</th>\n",
       "      <td>10</td>\n",
       "      <td>45</td>\n",
       "      <td>13.127271</td>\n",
       "      <td>13.127271</td>\n",
       "    </tr>\n",
       "    <tr>\n",
       "      <th>3</th>\n",
       "      <td>6</td>\n",
       "      <td>35</td>\n",
       "      <td>13.301318</td>\n",
       "      <td>13.301318</td>\n",
       "    </tr>\n",
       "    <tr>\n",
       "      <th>4</th>\n",
       "      <td>11</td>\n",
       "      <td>36</td>\n",
       "      <td>16.000000</td>\n",
       "      <td>16.000000</td>\n",
       "    </tr>\n",
       "    <tr>\n",
       "      <th>5</th>\n",
       "      <td>5</td>\n",
       "      <td>27</td>\n",
       "      <td>11.000000</td>\n",
       "      <td>11.000000</td>\n",
       "    </tr>\n",
       "    <tr>\n",
       "      <th>6</th>\n",
       "      <td>9</td>\n",
       "      <td>34</td>\n",
       "      <td>12.836320</td>\n",
       "      <td>12.836320</td>\n",
       "    </tr>\n",
       "    <tr>\n",
       "      <th>7</th>\n",
       "      <td>6</td>\n",
       "      <td>25</td>\n",
       "      <td>12.907833</td>\n",
       "      <td>12.907833</td>\n",
       "    </tr>\n",
       "    <tr>\n",
       "      <th>8</th>\n",
       "      <td>11</td>\n",
       "      <td>38</td>\n",
       "      <td>13.000000</td>\n",
       "      <td>13.000000</td>\n",
       "    </tr>\n",
       "    <tr>\n",
       "      <th>9</th>\n",
       "      <td>12</td>\n",
       "      <td>23</td>\n",
       "      <td>11.977836</td>\n",
       "      <td>11.977836</td>\n",
       "    </tr>\n",
       "  </tbody>\n",
       "</table>\n",
       "</div>"
      ]
     },
     "execution_count": 7,
     "metadata": {},
     "output_type": "execute_result"
    }
   ],
   "execution_count": 7
  },
  {
   "metadata": {},
   "cell_type": "markdown",
   "source": [
    "**Задание №4**\n",
    "\n",
    "В переменной df сохраните subset данных mtcars только с переменными \"wt\", \"mpg\", \"disp\", \"drat\", \"hp\". Воспользуйтесь множественным регрессионным анализом, чтобы предсказать вес машины (переменная \"wt\"). Выберите такую комбинацию независимых переменных (из \"mpg\", \"disp\", \"drat\", \"hp\"), чтобы значение R^2 adjusted было наибольшим. Взаимодействия факторов учитывать не надо. "
   ],
   "id": "af0aa489d4dd09e1"
  },
  {
   "metadata": {
    "ExecuteTime": {
     "end_time": "2024-12-04T14:11:58.806676Z",
     "start_time": "2024-12-04T14:11:58.799342Z"
    }
   },
   "cell_type": "code",
   "source": [
    "mtcars = pd.read_csv(\"info-folder/data/mtcars.csv\")\n",
    "\n",
    "mtcars.head()"
   ],
   "id": "40e485094e112873",
   "outputs": [
    {
     "data": {
      "text/plain": [
       "               model   mpg  cyl   disp   hp  drat     wt   qsec  vs  am  gear  \\\n",
       "0          Mazda RX4  21.0    6  160.0  110  3.90  2.620  16.46   0   1     4   \n",
       "1      Mazda RX4 Wag  21.0    6  160.0  110  3.90  2.875  17.02   0   1     4   \n",
       "2         Datsun 710  22.8    4  108.0   93  3.85  2.320  18.61   1   1     4   \n",
       "3     Hornet 4 Drive  21.4    6  258.0  110  3.08  3.215  19.44   1   0     3   \n",
       "4  Hornet Sportabout  18.7    8  360.0  175  3.15  3.440  17.02   0   0     3   \n",
       "\n",
       "   carb  \n",
       "0     4  \n",
       "1     4  \n",
       "2     1  \n",
       "3     1  \n",
       "4     2  "
      ],
      "text/html": [
       "<div>\n",
       "<style scoped>\n",
       "    .dataframe tbody tr th:only-of-type {\n",
       "        vertical-align: middle;\n",
       "    }\n",
       "\n",
       "    .dataframe tbody tr th {\n",
       "        vertical-align: top;\n",
       "    }\n",
       "\n",
       "    .dataframe thead th {\n",
       "        text-align: right;\n",
       "    }\n",
       "</style>\n",
       "<table border=\"1\" class=\"dataframe\">\n",
       "  <thead>\n",
       "    <tr style=\"text-align: right;\">\n",
       "      <th></th>\n",
       "      <th>model</th>\n",
       "      <th>mpg</th>\n",
       "      <th>cyl</th>\n",
       "      <th>disp</th>\n",
       "      <th>hp</th>\n",
       "      <th>drat</th>\n",
       "      <th>wt</th>\n",
       "      <th>qsec</th>\n",
       "      <th>vs</th>\n",
       "      <th>am</th>\n",
       "      <th>gear</th>\n",
       "      <th>carb</th>\n",
       "    </tr>\n",
       "  </thead>\n",
       "  <tbody>\n",
       "    <tr>\n",
       "      <th>0</th>\n",
       "      <td>Mazda RX4</td>\n",
       "      <td>21.0</td>\n",
       "      <td>6</td>\n",
       "      <td>160.0</td>\n",
       "      <td>110</td>\n",
       "      <td>3.90</td>\n",
       "      <td>2.620</td>\n",
       "      <td>16.46</td>\n",
       "      <td>0</td>\n",
       "      <td>1</td>\n",
       "      <td>4</td>\n",
       "      <td>4</td>\n",
       "    </tr>\n",
       "    <tr>\n",
       "      <th>1</th>\n",
       "      <td>Mazda RX4 Wag</td>\n",
       "      <td>21.0</td>\n",
       "      <td>6</td>\n",
       "      <td>160.0</td>\n",
       "      <td>110</td>\n",
       "      <td>3.90</td>\n",
       "      <td>2.875</td>\n",
       "      <td>17.02</td>\n",
       "      <td>0</td>\n",
       "      <td>1</td>\n",
       "      <td>4</td>\n",
       "      <td>4</td>\n",
       "    </tr>\n",
       "    <tr>\n",
       "      <th>2</th>\n",
       "      <td>Datsun 710</td>\n",
       "      <td>22.8</td>\n",
       "      <td>4</td>\n",
       "      <td>108.0</td>\n",
       "      <td>93</td>\n",
       "      <td>3.85</td>\n",
       "      <td>2.320</td>\n",
       "      <td>18.61</td>\n",
       "      <td>1</td>\n",
       "      <td>1</td>\n",
       "      <td>4</td>\n",
       "      <td>1</td>\n",
       "    </tr>\n",
       "    <tr>\n",
       "      <th>3</th>\n",
       "      <td>Hornet 4 Drive</td>\n",
       "      <td>21.4</td>\n",
       "      <td>6</td>\n",
       "      <td>258.0</td>\n",
       "      <td>110</td>\n",
       "      <td>3.08</td>\n",
       "      <td>3.215</td>\n",
       "      <td>19.44</td>\n",
       "      <td>1</td>\n",
       "      <td>0</td>\n",
       "      <td>3</td>\n",
       "      <td>1</td>\n",
       "    </tr>\n",
       "    <tr>\n",
       "      <th>4</th>\n",
       "      <td>Hornet Sportabout</td>\n",
       "      <td>18.7</td>\n",
       "      <td>8</td>\n",
       "      <td>360.0</td>\n",
       "      <td>175</td>\n",
       "      <td>3.15</td>\n",
       "      <td>3.440</td>\n",
       "      <td>17.02</td>\n",
       "      <td>0</td>\n",
       "      <td>0</td>\n",
       "      <td>3</td>\n",
       "      <td>2</td>\n",
       "    </tr>\n",
       "  </tbody>\n",
       "</table>\n",
       "</div>"
      ]
     },
     "execution_count": 8,
     "metadata": {},
     "output_type": "execute_result"
    }
   ],
   "execution_count": 8
  },
  {
   "metadata": {
    "ExecuteTime": {
     "end_time": "2024-12-04T14:11:58.912628Z",
     "start_time": "2024-12-04T14:11:58.883197Z"
    }
   },
   "cell_type": "code",
   "source": [
    "# Подмножество релевантных переменных\n",
    "df = mtcars[['wt', 'mpg', 'disp', 'drat', 'hp']]\n",
    "\n",
    "# Подготовка зависимой переменной\n",
    "y = df['wt']\n",
    "\n",
    "# Инициализация переменных для хранения информации о наилучшей модели\n",
    "best_r2_adj = -np.inf\n",
    "best_model = None\n",
    "best_features = None\n",
    "\n",
    "# Перебор всех комбинаций независимых переменных\n",
    "independent_vars = ['mpg', 'disp', 'drat', 'hp']\n",
    "for r in range(1, len(independent_vars) + 1):\n",
    "    for combination in combinations(independent_vars, r):\n",
    "        X = df[list(combination)]\n",
    "        model = LinearRegression().fit(X, y)\n",
    "        \n",
    "        # Рассчет R^2 и корректировка R^2\n",
    "        r2 = r2_score(y, model.predict(X))\n",
    "        n = len(y)\n",
    "        p = len(combination)\n",
    "        r2_adj = 1 - (1 - r2) * (n - 1) / (n - p - 1)\n",
    "        \n",
    "        # Обновляем лучшую модель, если эта лучше\n",
    "        if r2_adj > best_r2_adj:\n",
    "            best_r2_adj = r2_adj\n",
    "            best_model = model\n",
    "            best_features = combination\n",
    "\n",
    "best_features, best_r2_adj"
   ],
   "id": "cf6ce2c30dc0f304",
   "outputs": [
    {
     "data": {
      "text/plain": [
       "(('mpg', 'disp', 'hp'), 0.8428135873200833)"
      ]
     },
     "execution_count": 9,
     "metadata": {},
     "output_type": "execute_result"
    }
   ],
   "execution_count": 9
  },
  {
   "metadata": {},
   "cell_type": "markdown",
   "source": [
    "Наилучшая комбинация независимых переменных для прогнозирования веса автомобиля («wt») с наибольшей корректировкой \\(R^2\\) это:\n",
    "\n",
    "- **Independent variables**: `mpg`, `disp`, `hp`\n",
    "- **Adjusted \\(R^2\\)**: 0.843"
   ],
   "id": "956b2c74aa74b1b3"
  },
  {
   "metadata": {},
   "cell_type": "markdown",
   "source": [
    "**Задание №5**\n",
    "\n",
    "Напишите функцию normality_test, которая получает на вход dataframe с количественными переменными, проверяет распределения каждой переменной на нормальность с помощью теста Шапиро-Уилка. Функция должна возвращать вектор со значениями p - value, полученного в результате проверки на нормальность каждой переменной. Названия элементов вектора должны совпадать с названиями переменных. \n",
    "Пример работы функции:\n",
    "> normality_test(mtcars[,1:6])\n",
    "   mpg         cyl         disp           hp         drat           wt \n",
    "1.228814e-01 6.058338e-06 2.080657e-02 4.880824e-02 1.100608e-01 9.265499e-02 \n",
    "> normality_test(iris[,-5])\n",
    "Sepal.Length  Sepal.Width Petal.Length  Petal.Width \n",
    "1.018116e-02 1.011543e-01 7.412263e-10 1.680465e-08 \n",
    "Опять же, обратите внимание функция должна работать корректно с различным количеством переменных и в независимости от их названий.\n"
   ],
   "id": "e9ab592d0e48ab8b"
  },
  {
   "metadata": {
    "ExecuteTime": {
     "end_time": "2024-12-04T14:11:58.994160Z",
     "start_time": "2024-12-04T14:11:58.991051Z"
    }
   },
   "cell_type": "code",
   "source": [
    "def normality_test(dataframe):\n",
    "    \"\"\"\n",
    "    Выполнение теста Шапиро-Уилка на нормальность для каждой числовой переменной в кадре данных.\n",
    "    \n",
    "    Args:\n",
    "    dataframe (pd.DataFrame): DataFrame содержащие числовые переменные.\n",
    "    \n",
    "    Returns:\n",
    "    dict: Словарь с именами переменных в качестве ключей и p-значениями в качестве значений.\n",
    "    \"\"\"\n",
    "    p_values = {}\n",
    "    for column in dataframe.columns:\n",
    "        # Тест Шапиро-Уилка\n",
    "        stat, p_value = shapiro(dataframe[column])\n",
    "        p_values[column] = p_value\n",
    "    return p_values\n"
   ],
   "id": "22abafabed99de53",
   "outputs": [],
   "execution_count": 10
  },
  {
   "metadata": {
    "ExecuteTime": {
     "end_time": "2024-12-04T14:11:59.056271Z",
     "start_time": "2024-12-04T14:11:59.046444Z"
    }
   },
   "cell_type": "code",
   "source": [
    "# Пример применения к набору данных mtcars (выбор числовых столбцов)\n",
    "numerical_data = mtcars.select_dtypes(include=['float64', 'int64'])\n",
    "result = normality_test(numerical_data)\n",
    "result"
   ],
   "id": "8fbf9eb4b9570eed",
   "outputs": [
    {
     "data": {
      "text/plain": [
       "{'mpg': np.float64(0.12288135948636324),\n",
       " 'cyl': np.float64(6.05833817116411e-06),\n",
       " 'disp': np.float64(0.020806569786411037),\n",
       " 'hp': np.float64(0.048808238192921294),\n",
       " 'drat': np.float64(0.11006075811042491),\n",
       " 'wt': np.float64(0.09265498967400623),\n",
       " 'qsec': np.float64(0.5935176484819367),\n",
       " 'vs': np.float64(9.737375787054182e-08),\n",
       " 'am': np.float64(7.836354547253464e-08),\n",
       " 'gear': np.float64(1.306843771257444e-05),\n",
       " 'carb': np.float64(0.00043824049515876334)}"
      ]
     },
     "execution_count": 11,
     "metadata": {},
     "output_type": "execute_result"
    }
   ],
   "execution_count": 11
  },
  {
   "metadata": {
    "ExecuteTime": {
     "end_time": "2024-12-04T14:11:59.138783Z",
     "start_time": "2024-12-04T14:11:59.134123Z"
    }
   },
   "cell_type": "code",
   "source": [
    "iris = sns.load_dataset(\"iris\")\n",
    "iris.columns"
   ],
   "id": "e7576e9e0dc25dc8",
   "outputs": [
    {
     "data": {
      "text/plain": [
       "Index(['sepal_length', 'sepal_width', 'petal_length', 'petal_width',\n",
       "       'species'],\n",
       "      dtype='object')"
      ]
     },
     "execution_count": 12,
     "metadata": {},
     "output_type": "execute_result"
    }
   ],
   "execution_count": 12
  },
  {
   "metadata": {
    "ExecuteTime": {
     "end_time": "2024-12-04T14:11:59.188580Z",
     "start_time": "2024-12-04T14:11:59.183372Z"
    }
   },
   "cell_type": "code",
   "source": [
    "p_values_iris = normality_test(iris[['sepal_length', 'sepal_width', 'petal_length', 'petal_width']])\n",
    "p_values_iris"
   ],
   "id": "755490cf69e31944",
   "outputs": [
    {
     "data": {
      "text/plain": [
       "{'sepal_length': np.float64(0.010181161454691156),\n",
       " 'sepal_width': np.float64(0.10115426916130241),\n",
       " 'petal_length': np.float64(7.412263135173159e-10),\n",
       " 'petal_width': np.float64(1.6804652103149898e-08)}"
      ]
     },
     "execution_count": 13,
     "metadata": {},
     "output_type": "execute_result"
    }
   ],
   "execution_count": 13
  },
  {
   "metadata": {},
   "cell_type": "markdown",
   "source": [
    "Реализована функция `normality_test`. Для предоставленного набора данных приведены p-значения, полученные в результате проверки нормальности по Шапиро-Уилку для каждой числовой переменной:\n",
    "\n",
    "- **mpg**: 0.1229\n",
    "- **cyl**: 6.058e-06\n",
    "- **disp**: 0.0208\n",
    "- **hp**: 0.0488\n",
    "- **drat**: 0.1101\n",
    "- **wt**: 0.0927\n",
    "- **qsec**: 0.5935\n",
    "- **vs**: 9.737e-08\n",
    "- **am**: 7.836e-08\n",
    "- **gear**: 1.307e-05\n",
    "- **carb**: 0.0004"
   ],
   "id": "118d30493c6a7fe6"
  },
  {
   "metadata": {},
   "cell_type": "markdown",
   "source": [
    "**Задание №6**\n",
    "\n",
    "Напишите функцию resid_norm, которая тестирует распределение остатков от модели на нормальность при помощи теста Шапиро-Уилка и создает гистограмму с красной заливкой \"red\", если распределение остатков значимо отличается от нормального (p < 0.05), и с зелёной заливкой \"green\" - если распределение остатков значимо не отличается от нормального.\n",
    "На вход функция получает регрессионную модель. Функция возвращает переменную, в которой сохранен график гистограммы.\n",
    "\n"
   ],
   "id": "29ffd17cc99d0250"
  },
  {
   "metadata": {
    "ExecuteTime": {
     "end_time": "2024-12-04T14:11:59.248332Z",
     "start_time": "2024-12-04T14:11:59.245258Z"
    }
   },
   "cell_type": "code",
   "source": [
    "import matplotlib.pyplot as plt\n",
    "\n",
    "def resid_norm(model):\n",
    "    \"\"\"\n",
    "    Проверка нормальность остатков регрессионной модели с помощью теста Шапиро-Уилка \n",
    "    и создание гистограммы остатков с разными цветами заливки в зависимости от результатов теста.\n",
    "    \n",
    "    Args:\n",
    "    model (LinearRegression): Подогнанная модель линейной регрессии.\n",
    "    \n",
    "    Returns:\n",
    "    plt.Figure: Рисунок matplotlib, содержащий гистограмму остатков.\n",
    "    \"\"\"\n",
    "    # Вычисление остатков\n",
    "    residuals = model._y - model.predict(model._X) \n",
    "    \n",
    "    # Shapiro-Wilk test\n",
    "    stat, p_value = shapiro(residuals)\n",
    "    \n",
    "    # Определите цвет заливки на основе значения p-value\n",
    "    fill_color = \"red\" if p_value < 0.05 else \"green\"\n",
    "    \n",
    "    # Создание гистограммы\n",
    "    fig, ax = plt.subplots()\n",
    "    ax.hist(residuals, bins=20, color=fill_color, edgecolor=\"black\")\n",
    "    ax.set_title(\"Histogram of Residuals\")\n",
    "    ax.set_xlabel(\"Residuals\")\n",
    "    ax.set_ylabel(\"Frequency\")\n",
    "    return fig\n"
   ],
   "id": "682252e4707eadc3",
   "outputs": [],
   "execution_count": 14
  },
  {
   "metadata": {
    "ExecuteTime": {
     "end_time": "2024-12-04T14:11:59.365603Z",
     "start_time": "2024-12-04T14:11:59.265140Z"
    }
   },
   "cell_type": "code",
   "source": [
    "# Пример использования: Настройка модели линейной регрессии\n",
    "X_example = mtcars[['mpg', 'disp', 'hp']]  # Пример независимых переменных\n",
    "y_example = mtcars['wt']  # Зависимая переменная\n",
    "model1 = LinearRegression().fit(X_example, y_example)\n",
    "\n",
    "# Сохранение X и y в модели для вычисления остатков\n",
    "model1._X = X_example\n",
    "model1._y = y_example\n",
    "\n",
    "# Генерация гистограммы\n",
    "histogram1 = resid_norm(model1)\n",
    "plt.show()"
   ],
   "id": "d30fa5a39004c5bd",
   "outputs": [
    {
     "data": {
      "text/plain": [
       "<Figure size 640x480 with 1 Axes>"
      ],
      "image/png": "[encoded data removed]"
     },
     "metadata": {},
     "output_type": "display_data"
    }
   ],
   "execution_count": 15
  },
  {
   "metadata": {
    "ExecuteTime": {
     "end_time": "2024-12-04T14:11:59.467820Z",
     "start_time": "2024-12-04T14:11:59.382926Z"
    }
   },
   "cell_type": "code",
   "source": [
    "# Пример использования: Настройка модели линейной регрессии\n",
    "X_example = mtcars[['mpg']]  # Пример независимых переменных\n",
    "y_example = mtcars['wt']  # Зависимая переменная\n",
    "model2 = LinearRegression().fit(X_example, y_example)\n",
    "\n",
    "# Сохранение X и y в модели для вычисления остатков\n",
    "model2._X = X_example\n",
    "model2._y = y_example\n",
    "\n",
    "# Генерация гистограммы\n",
    "histogram2 = resid_norm(model2)\n",
    "plt.show()"
   ],
   "id": "e637b9aeb082057e",
   "outputs": [
    {
     "data": {
      "text/plain": [
       "<Figure size 640x480 with 1 Axes>"
      ],
      "image/png": "[encoded data removed]"
     },
     "metadata": {},
     "output_type": "display_data"
    }
   ],
   "execution_count": 16
  },
  {
   "metadata": {},
   "cell_type": "markdown",
   "source": [
    "**Задание №7**\n",
    "\n",
    "Ещё одной проблемой регрессионных моделей может стать мультиколлинеарность - ситуация, когда предикторы очень сильно коррелируют между собой. Иногда корреляция между двумя предикторами может достигать 1, например, когда два предиктора - это одна и та же переменная, измеренная в разных шкалах (x1 - рост в метрах, x2 - рост в сантиметрах)  \n",
    "Проверить данные на мультиколлинеарность можно по графику pairplot и посчитав корреляцию между всеми предикторами c помощью корреляции.\n",
    "Напишите функцию high_corr, которая принимает на вход датасет с произвольным числом количественных переменных и возвращает вектор с именами двух переменных с максимальным абсолютным значением коэффициента корреляции .\n",
    "Примеры работы функции:\n",
    "> high_corr(swiss)\n",
    "[1] \"Examination\" \"Education\"\n",
    "> high_corr(iris[,-5])\n",
    "[1] \"Petal.Length\" \"Petal.Width\"\n"
   ],
   "id": "18064c6e7b5600a4"
  },
  {
   "metadata": {
    "ExecuteTime": {
     "end_time": "2024-12-04T14:11:59.484993Z",
     "start_time": "2024-12-04T14:11:59.482644Z"
    }
   },
   "cell_type": "code",
   "source": [
    "def high_corr(dataframe):\n",
    "    \"\"\"\n",
    "    Определение двух переменных в наборе данных с наибольшей абсолютной корреляцией.\n",
    "\n",
    "    Args:\n",
    "    dataframe (pd.DataFrame): Набор данных, содержащий числовые переменные.\n",
    "\n",
    "    Returns:\n",
    "    tuple: Кортеж с именами двух переменных с наибольшей абсолютной корреляцией.\n",
    "    \"\"\"\n",
    "    # Вычисление корреляционной матрицы\n",
    "    corr_matrix = dataframe.corr().abs()\n",
    "    \n",
    "    # Ставим диагональ на 0, чтобы игнорировать самокорреляцию\n",
    "    np.fill_diagonal(corr_matrix.values, 0)\n",
    "    \n",
    "    # Поиск индекса максимальной корреляции\n",
    "    max_corr = corr_matrix.unstack().idxmax()\n",
    "    \n",
    "    return max_corr"
   ],
   "id": "ee35d9d1b27a905e",
   "outputs": [],
   "execution_count": 17
  },
  {
   "metadata": {
    "ExecuteTime": {
     "end_time": "2024-12-04T14:11:59.509976Z",
     "start_time": "2024-12-04T14:11:59.499985Z"
    }
   },
   "cell_type": "code",
   "source": [
    "numerical_data = mtcars.select_dtypes(include=['float64', 'int64'])\n",
    "result = high_corr(numerical_data)\n",
    "result"
   ],
   "id": "b233de1c6ee366d5",
   "outputs": [
    {
     "data": {
      "text/plain": [
       "('cyl', 'disp')"
      ]
     },
     "execution_count": 18,
     "metadata": {},
     "output_type": "execute_result"
    }
   ],
   "execution_count": 18
  },
  {
   "metadata": {
    "ExecuteTime": {
     "end_time": "2024-12-04T14:11:59.528353Z",
     "start_time": "2024-12-04T14:11:59.523774Z"
    }
   },
   "cell_type": "code",
   "source": "high_corr(iris[['sepal_length', 'sepal_width', 'petal_length', 'petal_width']])",
   "id": "527c2da1f04d8e54",
   "outputs": [
    {
     "data": {
      "text/plain": [
       "('petal_length', 'petal_width')"
      ]
     },
     "execution_count": 19,
     "metadata": {},
     "output_type": "execute_result"
    }
   ],
   "execution_count": 19
  },
  {
   "metadata": {},
   "cell_type": "markdown",
   "source": [
    "**Задание №8**\n",
    "\n",
    "Используем данные mtcars. Сохраните в переменную логистическую регрессионную модель, где в качестве зависимой переменной выступает тип коробки передач (am), в качестве предикторов переменные disp, vs, mpg.\n",
    "Значения коэффициентов регрессии сохраните в переменную log_coef.\n"
   ],
   "id": "509be57a5ba3e8c7"
  },
  {
   "metadata": {
    "ExecuteTime": {
     "end_time": "2024-12-04T14:11:59.553313Z",
     "start_time": "2024-12-04T14:11:59.541961Z"
    }
   },
   "cell_type": "code",
   "source": [
    "# Определение зависимых и независимых переменных для логистической регрессии\n",
    "X_log = mtcars[['disp', 'vs', 'mpg']]  # Независимые переменные\n",
    "y_log = mtcars['am']  # Зависимая переменная (тип передачи)\n",
    "\n",
    "# Модель логистической регрессии \n",
    "log_model = LogisticRegression()\n",
    "log_model.fit(X_log, y_log)\n",
    "\n",
    "# Извлечение коэффициентов регрессии\n",
    "log_coef = np.hstack((log_model.intercept_, log_model.coef_.flatten()))\n",
    "log_coef"
   ],
   "id": "84576eab95e7263b",
   "outputs": [
    {
     "data": {
      "text/plain": [
       "array([-1.28472745, -0.01116693, -1.31506492,  0.1906281 ])"
      ]
     },
     "execution_count": 20,
     "metadata": {},
     "output_type": "execute_result"
    }
   ],
   "execution_count": 20
  },
  {
   "metadata": {},
   "cell_type": "markdown",
   "source": [
    "В логистической регрессии коэффициенты интерпретируются с точки зрения их влияния на лог-вероятность (логарифм отношения шансов) зависимой переменной. Модель имеет вид:\n",
    "\n",
    "log(P(y=1)) = B0+B1*x1+B2*x2+B3*x3\n",
    "\n",
    "где:\n",
    "- \\(P(y=1)\\) — вероятность, что зависимая переменная \\(y = 1\\) (например, автоматическая коробка передач).\n",
    "- \\(\\B0\\) — **intercept** (сдвиг, значение лог-шансов при всех \\(xi = 0\\)).\n",
    "- \\(\\B1, \\B2, \\B3\\) — коэффициенты для предикторов (\\(x1, x2, x3\\)).\n",
    "\n",
    "### Конкретные значения:\n",
    "1. **Intercept (-1.285)**:\n",
    "   - Это базовое значение лог-шансов для автоматической коробки передач, когда все независимые переменные равны нулю.\n",
    "   - Если \\(x_1 = x_2 = x_3 = 0\\), лог-шансы равны -1.285, что соответствует вероятности автоматической коробки передач меньше 50%.\n",
    "\n",
    "2. **disp (-0.011)**:\n",
    "   - При увеличении объема двигателя (\\(disp\\)) на 1 единицу, лог-шансы автоматической коробки передач уменьшаются на 0.011.\n",
    "   - Это означает, что большие двигатели (в кубических дюймах) слегка уменьшают вероятность автоматической коробки передач.\n",
    "\n",
    "3. **vs (-1.315)**:\n",
    "   - Если двигатель изменяет конфигурацию с одной (например, V-образной) на другую (например, рядный), лог-шансы автоматической коробки передач уменьшаются на 1.315.\n",
    "   - Это значительное снижение, указывающее на сильную связь между типом двигателя и коробкой передач.\n",
    "\n",
    "4. **mpg (0.191)**:\n",
    "   - При увеличении расхода топлива (миль на галлон, \\(mpg\\)) на 1 единицу, лог-шансы автоматической коробки передач увеличиваются на 0.191.\n",
    "   - Это означает, что более экономичные машины с большей вероятностью будут иметь автоматическую коробку передач.\n"
   ],
   "id": "7de32a9693a0b0f"
  }
 ],
 "metadata": {
  "kernelspec": {
   "display_name": "Python 3",
   "language": "python",
   "name": "python3"
  },
  "language_info": {
   "codemirror_mode": {
    "name": "ipython",
    "version": 2
   },
   "file_extension": ".py",
   "mimetype": "text/x-python",
   "name": "python",
   "nbconvert_exporter": "python",
   "pygments_lexer": "ipython2",
   "version": "2.7.6"
  }
 },
 "nbformat": 4,
 "nbformat_minor": 5
}
