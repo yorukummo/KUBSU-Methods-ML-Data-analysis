{
 "cells": [
  {
   "metadata": {},
   "cell_type": "markdown",
   "source": [
    "# Лабораторная работа 3\n",
    "\n",
    "**Импорт библиотек**"
   ],
   "id": "5f5b8f3ca8642f5f"
  },
  {
   "metadata": {
    "ExecuteTime": {
     "end_time": "2024-12-04T14:11:57.195253Z",
     "start_time": "2024-12-04T14:11:56.435607Z"
    }
   },
   "cell_type": "code",
   "source": [
    "import pandas as pd\n",
    "import numpy as np\n",
    "import matplotlib.pyplot as plt\n",
    "import statsmodels.api as sm\n",
    "from statsmodels.formula.api import ols\n",
    "from statsmodels.stats.multicomp import pairwise_tukeyhsd\n",
    "from statsmodels.stats.anova import AnovaRM\n",
    "from scipy.stats import shapiro, spearmanr, pearsonr"
   ],
   "id": "374cafc3eb6289b2",
   "outputs": [],
   "execution_count": 1
  },
  {
   "metadata": {},
   "cell_type": "markdown",
   "source": [
    "**Задание №1**\n",
    "\n",
    "Воспользуемся данными npk, иллюстрирующими влияние применения различных удобрений на урожайность гороха (yield). трехфакторный дисперсионный анализ, где зависимая переменная - это урожайность (yield), а три фактора - типы удобрений (N, P, K). После проведения данного анализа вы получите три значения p - уровня значимости, сделайте вывод о значимости каждого из факторов."
   ],
   "id": "b1e00b1df9fef686"
  },
  {
   "metadata": {
    "ExecuteTime": {
     "end_time": "2024-12-04T14:11:57.265705Z",
     "start_time": "2024-12-04T14:11:57.239696Z"
    }
   },
   "cell_type": "code",
   "source": [
    "data_npk = pd.read_csv('info-folder/data/npk.csv', sep=\",\", skiprows=1)\n",
    "data_npk.columns = [\"id\", \"block\", \"N\", \"P\", \"K\", \"extra\", \"yield\"]\n",
    "data_npk = data_npk.drop(columns=[\"extra\"])\n",
    "data_npk.rename(columns={'yield': 'yield_value'}, inplace=True)\n",
    "data_npk = data_npk.apply(pd.to_numeric, errors='coerce')\n",
    "\n",
    "# Преобразование факторов в категориальные переменные\n",
    "data_npk[\"N\"] = data_npk[\"N\"].astype(\"category\")\n",
    "data_npk[\"P\"] = data_npk[\"P\"].astype(\"category\")\n",
    "data_npk[\"K\"] = data_npk[\"K\"].astype(\"category\")\n",
    "\n",
    "# Упрощенная модель ANOVA \n",
    "model = ols('yield_value ~ C(N) + C(P) + C(K)', data=data_npk).fit()\n",
    "\n",
    "# Выполнение ANOVA\n",
    "anova_table = sm.stats.anova_lm(model, typ=2)\n",
    "\n",
    "# Вывод результатов\n",
    "anova_table"
   ],
   "id": "76b2074439c35370",
   "outputs": [
    {
     "data": {
      "text/plain": [
       "              sum_sq    df         F    PR(>F)\n",
       "C(N)      340.735580   5.0  3.065196  0.042050\n",
       "C(P)      169.338536   1.0  7.616695  0.014594\n",
       "C(K)        6.139712   1.0  0.276159  0.606912\n",
       "Residual  333.488229  15.0       NaN       NaN"
      ],
      "text/html": [
       "<div>\n",
       "<style scoped>\n",
       "    .dataframe tbody tr th:only-of-type {\n",
       "        vertical-align: middle;\n",
       "    }\n",
       "\n",
       "    .dataframe tbody tr th {\n",
       "        vertical-align: top;\n",
       "    }\n",
       "\n",
       "    .dataframe thead th {\n",
       "        text-align: right;\n",
       "    }\n",
       "</style>\n",
       "<table border=\"1\" class=\"dataframe\">\n",
       "  <thead>\n",
       "    <tr style=\"text-align: right;\">\n",
       "      <th></th>\n",
       "      <th>sum_sq</th>\n",
       "      <th>df</th>\n",
       "      <th>F</th>\n",
       "      <th>PR(&gt;F)</th>\n",
       "    </tr>\n",
       "  </thead>\n",
       "  <tbody>\n",
       "    <tr>\n",
       "      <th>C(N)</th>\n",
       "      <td>340.735580</td>\n",
       "      <td>5.0</td>\n",
       "      <td>3.065196</td>\n",
       "      <td>0.042050</td>\n",
       "    </tr>\n",
       "    <tr>\n",
       "      <th>C(P)</th>\n",
       "      <td>169.338536</td>\n",
       "      <td>1.0</td>\n",
       "      <td>7.616695</td>\n",
       "      <td>0.014594</td>\n",
       "    </tr>\n",
       "    <tr>\n",
       "      <th>C(K)</th>\n",
       "      <td>6.139712</td>\n",
       "      <td>1.0</td>\n",
       "      <td>0.276159</td>\n",
       "      <td>0.606912</td>\n",
       "    </tr>\n",
       "    <tr>\n",
       "      <th>Residual</th>\n",
       "      <td>333.488229</td>\n",
       "      <td>15.0</td>\n",
       "      <td>NaN</td>\n",
       "      <td>NaN</td>\n",
       "    </tr>\n",
       "  </tbody>\n",
       "</table>\n",
       "</div>"
      ]
     },
     "execution_count": 2,
     "metadata": {},
     "output_type": "execute_result"
    }
   ],
   "execution_count": 2
  },
  {
   "metadata": {},
   "cell_type": "markdown",
   "source": [
    "По представленной таблице ANOVA:\n",
    "\n",
    "1. **Фактор \\( C(N) \\):**\n",
    "   - \\(PR(>F) = 0.042050 \\), что меньше уровня значимости \\( alpha = 0.05 \\).\n",
    "   - Это означает, что фактор \\( N \\) оказывает статистически значимое влияние на урожайность.\n",
    "\n",
    "2. **Фактор \\( C(P) \\):**\n",
    "   - \\((PR(>F) = 0.014594 \\), также меньше \\( alpha = 0.05 \\).\n",
    "   - Фактор \\( P \\) также является статистически значимым.\n",
    "\n",
    "3. **Фактор \\( C(K) \\):**\n",
    "   - \\((PR(>F) = 0.606912 \\), что значительно больше \\( alpha = 0.05 \\).\n",
    "   - Это указывает на отсутствие статистически значимого влияния фактора \\( K \\) на урожайность.\n",
    "\n",
    "#### Вывод:\n",
    "Факторы \\( N \\) и \\( P \\) оказывают значительное влияние на урожайность, в то время как фактор \\( K \\) не оказывает значимого влияния.  "
   ],
   "id": "77c88a586daccab7"
  },
  {
   "metadata": {},
   "cell_type": "markdown",
   "source": [
    "**Задание №2**\n",
    "\n",
    "Проведите однофакторный дисперсионный анализ на встроенных данных iris. Зависимая переменная - ширина чашелистика (Sepal.Width), независимая переменная - вид (Species). Затем проведите попарные сравнения видов. Какие виды статистически значимо различаются по ширине чашелистика (p < 0.05)?"
   ],
   "id": "7792a8ea7a49c38d"
  },
  {
   "metadata": {
    "ExecuteTime": {
     "end_time": "2024-12-04T14:11:57.374025Z",
     "start_time": "2024-12-04T14:11:57.367258Z"
    }
   },
   "cell_type": "code",
   "source": [
    "iris_data = pd.read_csv('info-folder/data/Iris.csv')\n",
    "\n",
    "iris_data.head()"
   ],
   "id": "ce381bbdf956a85b",
   "outputs": [
    {
     "data": {
      "text/plain": [
       "   Id  SepalLengthCm  SepalWidthCm  PetalLengthCm  PetalWidthCm      Species\n",
       "0   1            5.1           3.5            1.4           0.2  Iris-setosa\n",
       "1   2            4.9           3.0            1.4           0.2  Iris-setosa\n",
       "2   3            4.7           3.2            1.3           0.2  Iris-setosa\n",
       "3   4            4.6           3.1            1.5           0.2  Iris-setosa\n",
       "4   5            5.0           3.6            1.4           0.2  Iris-setosa"
      ],
      "text/html": [
       "<div>\n",
       "<style scoped>\n",
       "    .dataframe tbody tr th:only-of-type {\n",
       "        vertical-align: middle;\n",
       "    }\n",
       "\n",
       "    .dataframe tbody tr th {\n",
       "        vertical-align: top;\n",
       "    }\n",
       "\n",
       "    .dataframe thead th {\n",
       "        text-align: right;\n",
       "    }\n",
       "</style>\n",
       "<table border=\"1\" class=\"dataframe\">\n",
       "  <thead>\n",
       "    <tr style=\"text-align: right;\">\n",
       "      <th></th>\n",
       "      <th>Id</th>\n",
       "      <th>SepalLengthCm</th>\n",
       "      <th>SepalWidthCm</th>\n",
       "      <th>PetalLengthCm</th>\n",
       "      <th>PetalWidthCm</th>\n",
       "      <th>Species</th>\n",
       "    </tr>\n",
       "  </thead>\n",
       "  <tbody>\n",
       "    <tr>\n",
       "      <th>0</th>\n",
       "      <td>1</td>\n",
       "      <td>5.1</td>\n",
       "      <td>3.5</td>\n",
       "      <td>1.4</td>\n",
       "      <td>0.2</td>\n",
       "      <td>Iris-setosa</td>\n",
       "    </tr>\n",
       "    <tr>\n",
       "      <th>1</th>\n",
       "      <td>2</td>\n",
       "      <td>4.9</td>\n",
       "      <td>3.0</td>\n",
       "      <td>1.4</td>\n",
       "      <td>0.2</td>\n",
       "      <td>Iris-setosa</td>\n",
       "    </tr>\n",
       "    <tr>\n",
       "      <th>2</th>\n",
       "      <td>3</td>\n",
       "      <td>4.7</td>\n",
       "      <td>3.2</td>\n",
       "      <td>1.3</td>\n",
       "      <td>0.2</td>\n",
       "      <td>Iris-setosa</td>\n",
       "    </tr>\n",
       "    <tr>\n",
       "      <th>3</th>\n",
       "      <td>4</td>\n",
       "      <td>4.6</td>\n",
       "      <td>3.1</td>\n",
       "      <td>1.5</td>\n",
       "      <td>0.2</td>\n",
       "      <td>Iris-setosa</td>\n",
       "    </tr>\n",
       "    <tr>\n",
       "      <th>4</th>\n",
       "      <td>5</td>\n",
       "      <td>5.0</td>\n",
       "      <td>3.6</td>\n",
       "      <td>1.4</td>\n",
       "      <td>0.2</td>\n",
       "      <td>Iris-setosa</td>\n",
       "    </tr>\n",
       "  </tbody>\n",
       "</table>\n",
       "</div>"
      ]
     },
     "execution_count": 3,
     "metadata": {},
     "output_type": "execute_result"
    }
   ],
   "execution_count": 3
  },
  {
   "metadata": {
    "ExecuteTime": {
     "end_time": "2024-12-04T14:11:57.710794Z",
     "start_time": "2024-12-04T14:11:57.440604Z"
    }
   },
   "cell_type": "code",
   "source": [
    "# Переименую столбцы для упрощения обработки\n",
    "iris_data.rename(columns={\"SepalWidthCm\": \"Sepal_Width\", \"Species\": \"Species\"}, inplace=True)\n",
    "\n",
    "# Выполните односторонний дисперсионный анализ\n",
    "model = ols('Sepal_Width ~ Species', data=iris_data).fit()\n",
    "anova_table = sm.stats.anova_lm(model, typ=2)\n",
    "\n",
    "# Проведите HSD Tukey для парных сравнений.\n",
    "tukey_results = pairwise_tukeyhsd(iris_data[\"Sepal_Width\"], iris_data[\"Species\"], alpha=0.05)\n",
    "\n",
    "anova_table, tukey_results.summary()"
   ],
   "id": "8470561cacd55983",
   "outputs": [
    {
     "data": {
      "text/plain": [
       "(           sum_sq     df          F        PR(>F)\n",
       " Species   10.9776    2.0  47.364461  1.327917e-16\n",
       " Residual  17.0350  147.0        NaN           NaN,\n",
       " <class 'statsmodels.iolib.table.SimpleTable'>)"
      ]
     },
     "execution_count": 4,
     "metadata": {},
     "output_type": "execute_result"
    }
   ],
   "execution_count": 4
  },
  {
   "metadata": {},
   "cell_type": "markdown",
   "source": [
    "Результаты однофакторного дисперсионного анализа (ANOVA):\n",
    "\n",
    "F-статистика: 47.36\n",
    "p-значение: 1.33×10^−16\n",
    " \n",
    "Это показывает, что различия между видами статистически значимы (p < 0.05).\n",
    "\n",
    "Теперь проведем попарные сравнения видов с использованием теста Тьюки (Tukey HSD), чтобы определить, какие виды статистически значимо различаются. "
   ],
   "id": "24b61a2a129a883c"
  },
  {
   "metadata": {
    "ExecuteTime": {
     "end_time": "2024-12-04T14:11:57.746636Z",
     "start_time": "2024-12-04T14:11:57.740375Z"
    }
   },
   "cell_type": "code",
   "source": [
    "# Extracting Tukey's HSD results into a DataFrame for better clarity\n",
    "tukey_df = pd.DataFrame(data=tukey_results._results_table.data[1:], columns=tukey_results._results_table.data[0])\n",
    "\n",
    "tukey_df"
   ],
   "id": "38df11d33ab5ecad",
   "outputs": [
    {
     "data": {
      "text/plain": [
       "            group1           group2  meandiff  p-adj   lower   upper  reject\n",
       "0      Iris-setosa  Iris-versicolor    -0.648  0.000 -0.8092 -0.4868    True\n",
       "1      Iris-setosa   Iris-virginica    -0.444  0.000 -0.6052 -0.2828    True\n",
       "2  Iris-versicolor   Iris-virginica     0.204  0.009  0.0428  0.3652    True"
      ],
      "text/html": [
       "<div>\n",
       "<style scoped>\n",
       "    .dataframe tbody tr th:only-of-type {\n",
       "        vertical-align: middle;\n",
       "    }\n",
       "\n",
       "    .dataframe tbody tr th {\n",
       "        vertical-align: top;\n",
       "    }\n",
       "\n",
       "    .dataframe thead th {\n",
       "        text-align: right;\n",
       "    }\n",
       "</style>\n",
       "<table border=\"1\" class=\"dataframe\">\n",
       "  <thead>\n",
       "    <tr style=\"text-align: right;\">\n",
       "      <th></th>\n",
       "      <th>group1</th>\n",
       "      <th>group2</th>\n",
       "      <th>meandiff</th>\n",
       "      <th>p-adj</th>\n",
       "      <th>lower</th>\n",
       "      <th>upper</th>\n",
       "      <th>reject</th>\n",
       "    </tr>\n",
       "  </thead>\n",
       "  <tbody>\n",
       "    <tr>\n",
       "      <th>0</th>\n",
       "      <td>Iris-setosa</td>\n",
       "      <td>Iris-versicolor</td>\n",
       "      <td>-0.648</td>\n",
       "      <td>0.000</td>\n",
       "      <td>-0.8092</td>\n",
       "      <td>-0.4868</td>\n",
       "      <td>True</td>\n",
       "    </tr>\n",
       "    <tr>\n",
       "      <th>1</th>\n",
       "      <td>Iris-setosa</td>\n",
       "      <td>Iris-virginica</td>\n",
       "      <td>-0.444</td>\n",
       "      <td>0.000</td>\n",
       "      <td>-0.6052</td>\n",
       "      <td>-0.2828</td>\n",
       "      <td>True</td>\n",
       "    </tr>\n",
       "    <tr>\n",
       "      <th>2</th>\n",
       "      <td>Iris-versicolor</td>\n",
       "      <td>Iris-virginica</td>\n",
       "      <td>0.204</td>\n",
       "      <td>0.009</td>\n",
       "      <td>0.0428</td>\n",
       "      <td>0.3652</td>\n",
       "      <td>True</td>\n",
       "    </tr>\n",
       "  </tbody>\n",
       "</table>\n",
       "</div>"
      ]
     },
     "execution_count": 5,
     "metadata": {},
     "output_type": "execute_result"
    }
   ],
   "execution_count": 5
  },
  {
   "metadata": {},
   "cell_type": "markdown",
   "source": "Все три вида (Iris-setosa,Iris-versicolor, Iris-virginica) статистически значимо различаются друг от друга по ширине чашелистика (Sepal.Width).",
   "id": "fa474f45a0449024"
  },
  {
   "metadata": {},
   "cell_type": "markdown",
   "source": [
    "**Задание №3**\n",
    "\n",
    "В этой задаче вам дан набор данных («Pilluikin.csv»), в котором представлена информация о температуре нескольких пациентов, которые лечатся разными таблетками и у разных врачей. Проведите\n",
    "однофакторный дисперсионный анализ с повторными измерениями: влияние типа таблетки (pill) на температуру (temperature) с учётом испытуемого (patient). Каково p-value для влияния типа\n",
    "таблеток на температуру?"
   ],
   "id": "f160191b133db413"
  },
  {
   "metadata": {
    "ExecuteTime": {
     "end_time": "2024-12-04T14:11:57.863297Z",
     "start_time": "2024-12-04T14:11:57.851761Z"
    }
   },
   "cell_type": "code",
   "source": [
    "pillulkin_data = pd.read_csv(\"info-folder/data/Pillulkin.csv\")\n",
    "\n",
    "pillulkin_data.head()"
   ],
   "id": "fe26925014dc2e6c",
   "outputs": [
    {
     "data": {
      "text/plain": [
       "   temperature pill   doctor  patient\n",
       "0    39.330552    A  Aibolit        1\n",
       "1    40.748766    B  Aibolit        1\n",
       "2    39.339130    A  Aibolit        2\n",
       "3    38.204377    B  Aibolit        2\n",
       "4    36.997569    A  Aibolit        3"
      ],
      "text/html": [
       "<div>\n",
       "<style scoped>\n",
       "    .dataframe tbody tr th:only-of-type {\n",
       "        vertical-align: middle;\n",
       "    }\n",
       "\n",
       "    .dataframe tbody tr th {\n",
       "        vertical-align: top;\n",
       "    }\n",
       "\n",
       "    .dataframe thead th {\n",
       "        text-align: right;\n",
       "    }\n",
       "</style>\n",
       "<table border=\"1\" class=\"dataframe\">\n",
       "  <thead>\n",
       "    <tr style=\"text-align: right;\">\n",
       "      <th></th>\n",
       "      <th>temperature</th>\n",
       "      <th>pill</th>\n",
       "      <th>doctor</th>\n",
       "      <th>patient</th>\n",
       "    </tr>\n",
       "  </thead>\n",
       "  <tbody>\n",
       "    <tr>\n",
       "      <th>0</th>\n",
       "      <td>39.330552</td>\n",
       "      <td>A</td>\n",
       "      <td>Aibolit</td>\n",
       "      <td>1</td>\n",
       "    </tr>\n",
       "    <tr>\n",
       "      <th>1</th>\n",
       "      <td>40.748766</td>\n",
       "      <td>B</td>\n",
       "      <td>Aibolit</td>\n",
       "      <td>1</td>\n",
       "    </tr>\n",
       "    <tr>\n",
       "      <th>2</th>\n",
       "      <td>39.339130</td>\n",
       "      <td>A</td>\n",
       "      <td>Aibolit</td>\n",
       "      <td>2</td>\n",
       "    </tr>\n",
       "    <tr>\n",
       "      <th>3</th>\n",
       "      <td>38.204377</td>\n",
       "      <td>B</td>\n",
       "      <td>Aibolit</td>\n",
       "      <td>2</td>\n",
       "    </tr>\n",
       "    <tr>\n",
       "      <th>4</th>\n",
       "      <td>36.997569</td>\n",
       "      <td>A</td>\n",
       "      <td>Aibolit</td>\n",
       "      <td>3</td>\n",
       "    </tr>\n",
       "  </tbody>\n",
       "</table>\n",
       "</div>"
      ]
     },
     "execution_count": 6,
     "metadata": {},
     "output_type": "execute_result"
    }
   ],
   "execution_count": 6
  },
  {
   "metadata": {
    "ExecuteTime": {
     "end_time": "2024-12-04T14:11:58.002941Z",
     "start_time": "2024-12-04T14:11:57.982685Z"
    }
   },
   "cell_type": "code",
   "source": [
    "# Агрегирование данных путем определения средней температуры для каждой комбинации пациент-таблетка.\n",
    "pillulkin_data_aggregated = pillulkin_data.groupby(['patient', 'pill'], as_index=False)['temperature'].mean()\n",
    "\n",
    "# Снова выполните повторные измерения ANOVA с агрегированными данными.\n",
    "rm_anova_aggregated = AnovaRM(data=pillulkin_data_aggregated, depvar='temperature', subject='patient', within=['pill'])\n",
    "rm_anova_results_aggregated = rm_anova_aggregated.fit()\n",
    "\n",
    "rm_anova_results_aggregated.summary()"
   ],
   "id": "bb7f2825ec7b06ef",
   "outputs": [
    {
     "data": {
      "text/plain": [
       "<class 'statsmodels.iolib.summary2.Summary'>\n",
       "\"\"\"\n",
       "              Anova\n",
       "=================================\n",
       "     F Value Num DF Den DF Pr > F\n",
       "---------------------------------\n",
       "pill  0.0510 1.0000 9.0000 0.8264\n",
       "=================================\n",
       "\n",
       "\"\"\""
      ],
      "text/html": [
       "<table class=\"simpletable\">\n",
       "<tr>\n",
       "    <td></td>   <th>F Value</th> <th>Num DF</th> <th>Den DF</th> <th>Pr > F</th>\n",
       "</tr>\n",
       "<tr>\n",
       "  <th>pill</th> <td>0.0510</td>  <td>1.0000</td> <td>9.0000</td> <td>0.8264</td>\n",
       "</tr>\n",
       "</table><br/>\n"
      ],
      "text/latex": "\\begin{table}\n\\caption{Anova}\n\\label{}\n\\begin{center}\n\\begin{tabular}{lrrrr}\n\\hline\n     & F Value & Num DF & Den DF & Pr $>$ F  \\\\\n\\hline\npill &  0.0510 & 1.0000 & 9.0000 &   0.8264  \\\\\n\\hline\n\\end{tabular}\n\\end{center}\n\\end{table}\n\\bigskip\n"
     },
     "execution_count": 7,
     "metadata": {},
     "output_type": "execute_result"
    }
   ],
   "execution_count": 7
  },
  {
   "metadata": {},
   "cell_type": "markdown",
   "source": [
    "Результаты однофакторного дисперсионного анализа с повторными измерениями:\n",
    "\n",
    "- F-значение: 0.051\n",
    "- p-value: 0.8264\n",
    "\n",
    "Значение 0.8264 превышает стандартный порог значимости 0.05, что указывает на отсутствие статистически значимых различий в температуре между различными типами таблеток."
   ],
   "id": "d49ff75e88ed0414"
  },
  {
   "metadata": {},
   "cell_type": "markdown",
   "source": [
    "**Задание №4**\n",
    "\n",
    "Теперь Вашей задачей будет провести двухфакторный дисперсионный анализ с повторными измерениями: влияние факторов doctor, влияние фактора pill и их взаимодействие на temperature. Учтите \n",
    "обе внутригрупповые переменные: и тот факт, что один и тот же больной принимает разные таблетки, и тот факт, что один и тот же больной лечится у\n",
    "разных врачей! Каково F-значение для взаимодействия факторов доктора (doctor) и типа таблеток (pill)?"
   ],
   "id": "af0aa489d4dd09e1"
  },
  {
   "metadata": {
    "ExecuteTime": {
     "end_time": "2024-12-04T14:11:58.066355Z",
     "start_time": "2024-12-04T14:11:58.055095Z"
    }
   },
   "cell_type": "code",
   "source": [
    "# Выполняем двусторонние повторные измерения ANOVA\n",
    "# Включая как «doctor», так и «pill» как внутрисубъектных факторов\n",
    "rm_anova_two_way = AnovaRM(\n",
    "    data=pillulkin_data,\n",
    "    depvar='temperature',\n",
    "    subject='patient',\n",
    "    within=['pill', 'doctor']\n",
    ")\n",
    "rm_anova_two_way_results = rm_anova_two_way.fit()\n",
    "\n",
    "# Извлечение значения F для взаимодействия между «doctor» и «pill»\n",
    "interaction_f_value = rm_anova_two_way_results.anova_table.loc['pill:doctor', 'F Value']\n",
    "\n",
    "\n",
    "rm_anova_two_way_results.summary(), interaction_f_value"
   ],
   "id": "40e485094e112873",
   "outputs": [
    {
     "data": {
      "text/plain": [
       "(<class 'statsmodels.iolib.summary2.Summary'>\n",
       " \"\"\"\n",
       "                  Anova\n",
       " ========================================\n",
       "             F Value Num DF Den DF Pr > F\n",
       " ----------------------------------------\n",
       " pill         0.0510 1.0000 9.0000 0.8264\n",
       " doctor       3.1132 1.0000 9.0000 0.1115\n",
       " pill:doctor  0.1458 1.0000 9.0000 0.7114\n",
       " ========================================\n",
       " \n",
       " \"\"\",\n",
       " np.float64(0.14583148471309737))"
      ]
     },
     "execution_count": 8,
     "metadata": {},
     "output_type": "execute_result"
    }
   ],
   "execution_count": 8
  },
  {
   "metadata": {},
   "cell_type": "markdown",
   "source": [
    "Результаты двухфакторного дисперсионного анализа с повторными измерениями:\n",
    "\n",
    "- F-значение для взаимодействия факторов \"doctor\" и \"pill\": 0.146\n",
    "\n",
    "Таким образом, взаимодействие между доктором и типом таблетки не является статистически значимым (p > 0.05)."
   ],
   "id": "b6884fe7d97ae384"
  },
  {
   "metadata": {},
   "cell_type": "markdown",
   "source": [
    "**Задание №5**\n",
    "\n",
    "Напишите функцию outliers.rm, которая находит и удаляет выбросы. Для обнаружения выбросов воспользуемся самым простым способом, с которым вы не раз встречались, используя график Box plot.\n",
    "Выбросами будем считать те наблюдения, которые отклоняются от 1 или 3 квартиля больше чем на 1,5 * IQR, где IQR - межквартильный размах. На вход функция получает числовой вектор x. Функци \n",
    "должна возвращать модифицированный вектор x с удаленными выбросами."
   ],
   "id": "e9ab592d0e48ab8b"
  },
  {
   "metadata": {
    "ExecuteTime": {
     "end_time": "2024-12-04T14:11:58.116695Z",
     "start_time": "2024-12-04T14:11:58.113687Z"
    }
   },
   "cell_type": "code",
   "source": [
    "def outliers_rm(x):\n",
    "    \"\"\"\n",
    "    Удаление выбросов из числового вектора на основе правила 1,5 * IQR.\n",
    "    \n",
    "    Parameters:\n",
    "    x (array-like): Numerical vector (list, array, or Series).\n",
    "    \n",
    "    Returns:\n",
    "    np.array: Модифицированный вектор с удаленными выбросами.\n",
    "    \"\"\"\n",
    "    # Преобразование ввода в массив NumPy\n",
    "    x = np.array(x)\n",
    "    \n",
    "    # Рассчитываем Q1, Q3, and IQR\n",
    "    Q1 = np.percentile(x, 25)\n",
    "    Q3 = np.percentile(x, 75)\n",
    "    IQR = Q3 - Q1\n",
    "    \n",
    "    # Определение нижней и верхней границы для невыбросов\n",
    "    lower_bound = Q1 - 1.5 * IQR\n",
    "    upper_bound = Q3 + 1.5 * IQR\n",
    "    \n",
    "    # Удаление выбросов\n",
    "    filtered_x = x[(x >= lower_bound) & (x <= upper_bound)]\n",
    "    \n",
    "    return filtered_x"
   ],
   "id": "22abafabed99de53",
   "outputs": [],
   "execution_count": 9
  },
  {
   "metadata": {
    "ExecuteTime": {
     "end_time": "2024-12-04T14:11:58.128552Z",
     "start_time": "2024-12-04T14:11:58.122950Z"
    }
   },
   "cell_type": "code",
   "source": [
    "# Генерация рандомных значений\n",
    "np.random.seed(42)\n",
    "x = np.concatenate((np.random.normal(loc=50, scale=10, size=20), [0, 100]))\n",
    "\n",
    "# Применение функции outliers_rm для удаления выбросов\n",
    "filtered_x = outliers_rm(x)\n",
    "x, filtered_x"
   ],
   "id": "a96a28f2ba614aea",
   "outputs": [
    {
     "data": {
      "text/plain": [
       "(array([ 54.96714153,  48.61735699,  56.47688538,  65.23029856,\n",
       "         47.65846625,  47.65863043,  65.79212816,  57.67434729,\n",
       "         45.30525614,  55.42560044,  45.36582307,  45.34270246,\n",
       "         52.41962272,  30.86719755,  32.75082167,  44.37712471,\n",
       "         39.8716888 ,  53.14247333,  40.91975924,  35.87696299,\n",
       "          0.        , 100.        ]),\n",
       " array([54.96714153, 48.61735699, 56.47688538, 65.23029856, 47.65846625,\n",
       "        47.65863043, 65.79212816, 57.67434729, 45.30525614, 55.42560044,\n",
       "        45.36582307, 45.34270246, 52.41962272, 30.86719755, 32.75082167,\n",
       "        44.37712471, 39.8716888 , 53.14247333, 40.91975924, 35.87696299]))"
      ]
     },
     "execution_count": 10,
     "metadata": {},
     "output_type": "execute_result"
    }
   ],
   "execution_count": 10
  },
  {
   "metadata": {
    "ExecuteTime": {
     "end_time": "2024-12-04T14:11:58.322494Z",
     "start_time": "2024-12-04T14:11:58.145770Z"
    }
   },
   "cell_type": "code",
   "source": [
    "plt.figure(figsize=(12, 6))\n",
    "\n",
    "# Box plot для оригинальных данных\n",
    "plt.subplot(1, 2, 1)\n",
    "plt.boxplot(x, vert=False)\n",
    "plt.title('Original Data')\n",
    "plt.xlabel('Value')\n",
    "plt.grid(True)\n",
    "\n",
    "# Box plot для отфильтрованных данных\n",
    "plt.subplot(1, 2, 2)\n",
    "plt.boxplot(filtered_x, vert=False)\n",
    "plt.title('Filtered Data (Outliers Removed)')\n",
    "plt.xlabel('Value')\n",
    "plt.grid(True)\n",
    "\n",
    "plt.tight_layout()\n",
    "plt.show()"
   ],
   "id": "d4c63b52d30cebd6",
   "outputs": [
    {
     "data": {
      "text/plain": [
       "<Figure size 1200x600 with 2 Axes>"
      ],
      "image/png": "[encoded data removed]"
     },
     "metadata": {},
     "output_type": "display_data"
    }
   ],
   "execution_count": 11
  },
  {
   "metadata": {},
   "cell_type": "markdown",
   "source": [
    "На графиках представлены **данные до и после удаления выбросов** с помощью правила 1.5 * IQR.\n",
    "\n",
    "### **1. Левый график (Original Data):**\n",
    "- Это исходные данные, где:\n",
    "  - Видна их основная масса, расположенная примерно в диапазоне от 30 до 70.\n",
    "  - Однако, есть два значения (выбросы) далеко за пределами основной группы: **0** (сильно ниже основного диапазона) и **100** (сильно выше).\n",
    "  - Эти выбросы нарушают \"симметрию\" и могут исказить статистические выводы.\n",
    "\n",
    "### **2. Правый график (Filtered Data):**\n",
    "- Здесь показаны данные после удаления выбросов:\n",
    "  - Значения 0 и 100 были удалены, так как они находятся за пределами границ, определённых правилом 1.5 * IQR.\n",
    "  - Оставшиеся данные теперь более однородны, сосредоточены вокруг центрального диапазона.\n",
    "\n",
    "### **Механика удаления:**\n",
    "- Правило 1.5 * IQR (межквартильный размах) вычисляет \"границы нормальных значений\":\n",
    "  - Нижняя граница: \\( Q1 - 1.5 \\times IQR \\)\n",
    "  - Верхняя граница: \\( Q3 + 1.5 \\times IQR \\)\n",
    "- Любое значение за пределами этих границ считается выбросом и удаляется."
   ],
   "id": "c4c3b0f16ddf77c3"
  },
  {
   "metadata": {},
   "cell_type": "markdown",
   "source": [
    "**Задание №6**\n",
    "\n",
    "Напишите функцию smart_cor, которая получает на вход dataframe с двумя количественными переменными. Проверьте с помощью теста Шапиро- Уилка, что данные в обеих переменных принадлежат \n",
    "нормальному распределению.\n",
    "Если хотя бы в одном векторе распределение переменной отличается от нормального (p - value меньше 0.05), то функция должна возвращать коэффициент корреляции Спирмена. (Числовой вектор из \n",
    "одного элемента).\n",
    "Если в обоих векторах распределение переменных от нормального значимо не отличается, то функция должна возвращать коэффициент корреляции Пирсона."
   ],
   "id": "29ffd17cc99d0250"
  },
  {
   "metadata": {
    "ExecuteTime": {
     "end_time": "2024-12-04T14:11:58.363401Z",
     "start_time": "2024-12-04T14:11:58.359728Z"
    }
   },
   "cell_type": "code",
   "source": [
    "def smart_cor(dataframe):\n",
    "    \"\"\"\n",
    "    Рассчитать коэффициент корреляции между двумя количественными переменными в кадре данных.\n",
    "    \n",
    "    - Если данные в любом столбце не распределены нормально (критерий Шапиро-Уилка, p < 0,05), \n",
    "      вернуть коэффициент корреляции Спирмена.\n",
    "    - Если оба столбца нормально распределены, верните коэффициент корреляции Пирсона.\n",
    "    \n",
    "    Parameters:\n",
    "    dataframe (pd.DataFrame): A dataframe ровно с двумя числовыми столбцами.\n",
    "\n",
    "    Returns:\n",
    "    float: коэффициент корреляции (Спирмена или Пирсона).\n",
    "    \"\"\"\n",
    "    if dataframe.shape[1] != 2:\n",
    "        raise ValueError(\"Input dataframe must have exactly two numeric columns.\")\n",
    "    \n",
    "    # Извлечение двух переменных\n",
    "    col1, col2 = dataframe.iloc[:, 0], dataframe.iloc[:, 1]\n",
    "    \n",
    "    # Выполнение тестов Шапиро-Уилка на нормальность\n",
    "    p_val_col1 = shapiro(col1).pvalue\n",
    "    p_val_col2 = shapiro(col2).pvalue\n",
    "    \n",
    "    # Определение, какую корреляцию использовать на основе нормальности\n",
    "    if p_val_col1 < 0.05 or p_val_col2 < 0.05:\n",
    "        # По крайней мере одна переменная не является нормально распределенной -> Спирмен\n",
    "        print(\"Используется Spearmanr\")\n",
    "        correlation, _ = spearmanr(col1, col2)\n",
    "    else:\n",
    "        # Обе переменные имеют нормальное распределение -> Пирсон\n",
    "        print(\"Используется Pearsonr\")\n",
    "        correlation, _ = pearsonr(col1, col2)\n",
    "    \n",
    "    return correlation"
   ],
   "id": "682252e4707eadc3",
   "outputs": [],
   "execution_count": 12
  },
  {
   "metadata": {
    "ExecuteTime": {
     "end_time": "2024-12-04T14:11:58.383764Z",
     "start_time": "2024-12-04T14:11:58.377218Z"
    }
   },
   "cell_type": "code",
   "source": [
    "np.random.seed(42)\n",
    "df = pd.DataFrame({\n",
    "    'x': np.random.normal(size=100),\n",
    "    'y': np.random.normal(size=100)\n",
    "})\n",
    "\n",
    "correlation_result = smart_cor(df)\n",
    "correlation_result"
   ],
   "id": "12d3999092dfab0b",
   "outputs": [
    {
     "name": "stdout",
     "output_type": "stream",
     "text": [
      "Используется Pearsonr\n"
     ]
    },
    {
     "data": {
      "text/plain": [
       "np.float64(-0.13642221217000253)"
      ]
     },
     "execution_count": 13,
     "metadata": {},
     "output_type": "execute_result"
    }
   ],
   "execution_count": 13
  },
  {
   "metadata": {
    "ExecuteTime": {
     "end_time": "2024-12-04T14:11:58.414610Z",
     "start_time": "2024-12-04T14:11:58.408047Z"
    }
   },
   "cell_type": "code",
   "source": [
    "np.random.seed(42)\n",
    "df = pd.DataFrame({\n",
    "    'x': np.random.normal(size=100),\n",
    "    'y': np.random.binomial(n=20, p=0.5, size=100)\n",
    "})\n",
    "\n",
    "correlation_result = smart_cor(df)\n",
    "correlation_result"
   ],
   "id": "f097d8c14e24c570",
   "outputs": [
    {
     "name": "stdout",
     "output_type": "stream",
     "text": [
      "Используется Spearmanr\n"
     ]
    },
    {
     "data": {
      "text/plain": [
       "np.float64(0.11868316860608825)"
      ]
     },
     "execution_count": 14,
     "metadata": {},
     "output_type": "execute_result"
    }
   ],
   "execution_count": 14
  },
  {
   "metadata": {},
   "cell_type": "markdown",
   "source": [
    "#### **Тест Шапиро-Уилка**\n",
    "Тест Шапиро-Уилка используется для проверки гипотезы о том, что данные имеют нормальное распределение.\n",
    "\n",
    "Нулевая гипотеза (H₀): Данные имеют нормальное распределение.\n",
    "Альтернативная гипотеза (H₁): Данные не имеют нормального распределения.\n",
    "Результат:\n",
    "- Если 𝑝-значение ≥ 0.05, мы не отвергаем нулевую гипотезу — данные нормально распределены.\n",
    "- Если 𝑝-значение < 0.05, мы отвергаем нулевую гипотезу — данные существенно отличаются от нормального распределения.\n",
    "\n",
    "---\n",
    "\n",
    "#### **Коэффициент корреляции Пирсона (Pearson)**\n",
    "- **Что измеряет:** Линейную зависимость между двумя количественными переменными.\n",
    "- **Диапазон:** От -1 до +1.\n",
    "  - \\( +1 \\): Идеальная положительная линейная зависимость.\n",
    "  - \\( -1 \\): Идеальная отрицательная линейная зависимость.\n",
    "  - \\( 0 \\): Отсутствие линейной зависимости.\n",
    "- **Условие применения:** Переменные должны быть количественными и нормально распределёнными.\n",
    "\n",
    "---\n",
    "\n",
    "#### **Коэффициент корреляции Спирмена (Spearman)**\n",
    "- **Что измеряет:** Монотонную зависимость между двумя переменными (не обязательно линейную).\n",
    "- **Диапазон:** Также от -1 до +1.\n",
    "  - \\( +1 \\): Полная монотонная положительная зависимость.\n",
    "  - \\( -1 \\): Полная монотонная отрицательная зависимость.\n",
    "  - \\( 0 \\): Отсутствие монотонной зависимости.\n",
    "- **Условие применения:** Подходит для числовых или порядковых данных. Используется, если данные не нормально распределены или имеют выбросы.\n",
    "\n",
    "#### Основная идея:\n",
    "- Переменные заменяются их рангами (позициями в отсортированном списке), после чего рассчитывается корреляция Пирсона для рангов.\n",
    "\n",
    "---\n",
    "\n",
    "#### **Когда использовать Пирсона или Спирмена?**\n",
    "\n",
    "- **Пирсон**:\n",
    "  - Линейные зависимости.\n",
    "  - Нормальное распределение данных.\n",
    "  - Отсутствие значительных выбросов.\n",
    "  \n",
    "- **Спирмен**:\n",
    "  - Нелинейные (но монотонные) зависимости.\n",
    "  - Данные, которые не соответствуют нормальному распределению.\n",
    "  - Данные с выбросами."
   ],
   "id": "d6e67bc2e6e340e5"
  }
 ],
 "metadata": {
  "kernelspec": {
   "display_name": "Python 3",
   "language": "python",
   "name": "python3"
  },
  "language_info": {
   "codemirror_mode": {
    "name": "ipython",
    "version": 2
   },
   "file_extension": ".py",
   "mimetype": "text/x-python",
   "name": "python",
   "nbconvert_exporter": "python",
   "pygments_lexer": "ipython2",
   "version": "2.7.6"
  }
 },
 "nbformat": 4,
 "nbformat_minor": 5
}
