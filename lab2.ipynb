{
 "cells": [
  {
   "metadata": {},
   "cell_type": "markdown",
   "source": [
    "# Задания Scipy\n",
    "\n",
    "**Импорт библиотек**"
   ],
   "id": "c88fb4b8685edf2b"
  },
  {
   "metadata": {
    "ExecuteTime": {
     "end_time": "2024-11-20T18:08:48.529575Z",
     "start_time": "2024-11-20T18:08:48.527119Z"
    }
   },
   "cell_type": "code",
   "source": [
    "import pandas as pd\n",
    "import matplotlib.pyplot as plt\n",
    "import seaborn as sns\n",
    "from scipy.stats import chisquare\n",
    "from scipy.stats import chi2_contingency\n",
    "from scipy.stats import fisher_exact\n",
    "from scipy.stats import bartlett, ttest_ind, mannwhitneyu"
   ],
   "id": "1862a06c3d670ff9",
   "outputs": [],
   "execution_count": 229
  },
  {
   "metadata": {},
   "cell_type": "markdown",
   "source": [
    "**Задание №1**\n",
    "\n",
    "Воспользуйтесь таблицей HairEyeColor. Ваша задача \n",
    "а) в переменнуюblond_men сохранить долю блондинов (Blond) от общего числа кареглазых мужчин; \n",
    "б) посчитайте число голубоглазых женщин в наборе данных HairEyeColor; \n",
    "в) постройте столбчатую диаграмму распределения цвета глаз по цвету волос только у женщин из таблицы HairEyeColor. По оси X должен идти цвет волос, цвет столбиков должен отражать цвет глаз. По \n",
    "оси Y - количество наблюдений."
   ],
   "id": "b98c93d954aace7d"
  },
  {
   "metadata": {
    "ExecuteTime": {
     "end_time": "2024-11-20T18:08:48.553304Z",
     "start_time": "2024-11-20T18:08:48.547519Z"
    }
   },
   "cell_type": "code",
   "source": [
    "# Загружаем файл\n",
    "file_path = 'info-folder/data/HairEyeColor.csv'\n",
    "hair_eye_data = pd.read_csv(file_path)\n",
    "\n",
    "# Посмотрим на структуру данных\n",
    "hair_eye_data.head()"
   ],
   "id": "4d4d7981e3d8d389",
   "outputs": [
    {
     "data": {
      "text/plain": [
       "   rownames   Hair    Eye   Sex  Freq\n",
       "0         1  Black  Brown  Male    32\n",
       "1         2  Brown  Brown  Male    53\n",
       "2         3    Red  Brown  Male    10\n",
       "3         4  Blond  Brown  Male     3\n",
       "4         5  Black   Blue  Male    11"
      ],
      "text/html": [
       "<div>\n",
       "<style scoped>\n",
       "    .dataframe tbody tr th:only-of-type {\n",
       "        vertical-align: middle;\n",
       "    }\n",
       "\n",
       "    .dataframe tbody tr th {\n",
       "        vertical-align: top;\n",
       "    }\n",
       "\n",
       "    .dataframe thead th {\n",
       "        text-align: right;\n",
       "    }\n",
       "</style>\n",
       "<table border=\"1\" class=\"dataframe\">\n",
       "  <thead>\n",
       "    <tr style=\"text-align: right;\">\n",
       "      <th></th>\n",
       "      <th>rownames</th>\n",
       "      <th>Hair</th>\n",
       "      <th>Eye</th>\n",
       "      <th>Sex</th>\n",
       "      <th>Freq</th>\n",
       "    </tr>\n",
       "  </thead>\n",
       "  <tbody>\n",
       "    <tr>\n",
       "      <th>0</th>\n",
       "      <td>1</td>\n",
       "      <td>Black</td>\n",
       "      <td>Brown</td>\n",
       "      <td>Male</td>\n",
       "      <td>32</td>\n",
       "    </tr>\n",
       "    <tr>\n",
       "      <th>1</th>\n",
       "      <td>2</td>\n",
       "      <td>Brown</td>\n",
       "      <td>Brown</td>\n",
       "      <td>Male</td>\n",
       "      <td>53</td>\n",
       "    </tr>\n",
       "    <tr>\n",
       "      <th>2</th>\n",
       "      <td>3</td>\n",
       "      <td>Red</td>\n",
       "      <td>Brown</td>\n",
       "      <td>Male</td>\n",
       "      <td>10</td>\n",
       "    </tr>\n",
       "    <tr>\n",
       "      <th>3</th>\n",
       "      <td>4</td>\n",
       "      <td>Blond</td>\n",
       "      <td>Brown</td>\n",
       "      <td>Male</td>\n",
       "      <td>3</td>\n",
       "    </tr>\n",
       "    <tr>\n",
       "      <th>4</th>\n",
       "      <td>5</td>\n",
       "      <td>Black</td>\n",
       "      <td>Blue</td>\n",
       "      <td>Male</td>\n",
       "      <td>11</td>\n",
       "    </tr>\n",
       "  </tbody>\n",
       "</table>\n",
       "</div>"
      ]
     },
     "execution_count": 230,
     "metadata": {},
     "output_type": "execute_result"
    }
   ],
   "execution_count": 230
  },
  {
   "metadata": {
    "ExecuteTime": {
     "end_time": "2024-11-20T18:08:48.594247Z",
     "start_time": "2024-11-20T18:08:48.589764Z"
    }
   },
   "cell_type": "code",
   "source": [
    "# а) Доля блондинистых мужчин среди кареглазых\n",
    "# Фильтруем данные для мужчин с карими глазами\n",
    "brown_eye_men = hair_eye_data[(hair_eye_data['Eye'] == 'Brown') & (hair_eye_data['Sex'] == 'Male')]\n",
    "\n",
    "# Общее количество кареглазых мужчин\n",
    "total_brown_eye_men = brown_eye_men['Freq'].sum()\n",
    "\n",
    "# Количество блондинистых кареглазых мужчин\n",
    "blond_brown_eye_men = brown_eye_men[brown_eye_men['Hair'] == 'Blond']['Freq'].sum()\n",
    "\n",
    "# Доля блондинистых мужчин\n",
    "blond_men = blond_brown_eye_men / total_brown_eye_men\n",
    "blond_men"
   ],
   "id": "a837d86662d96e17",
   "outputs": [
    {
     "data": {
      "text/plain": [
       "np.float64(0.030612244897959183)"
      ]
     },
     "execution_count": 231,
     "metadata": {},
     "output_type": "execute_result"
    }
   ],
   "execution_count": 231
  },
  {
   "metadata": {
    "ExecuteTime": {
     "end_time": "2024-11-20T18:08:48.628917Z",
     "start_time": "2024-11-20T18:08:48.625114Z"
    }
   },
   "cell_type": "code",
   "source": [
    "# б) Число голубоглазых женщин\n",
    "# Фильтруем данные для женщин с голубыми глазами\n",
    "blue_eye_women = hair_eye_data[(hair_eye_data['Eye'] == 'Blue') & (hair_eye_data['Sex'] == 'Female')]\n",
    "\n",
    "# Суммируем количество голубоглазых женщин\n",
    "blue_eye_women_count = blue_eye_women['Freq'].sum()\n",
    "blue_eye_women_count"
   ],
   "id": "21d10e54a6da0f4",
   "outputs": [
    {
     "data": {
      "text/plain": [
       "np.int64(114)"
      ]
     },
     "execution_count": 232,
     "metadata": {},
     "output_type": "execute_result"
    }
   ],
   "execution_count": 232
  },
  {
   "metadata": {
    "ExecuteTime": {
     "end_time": "2024-11-20T18:08:48.669842Z",
     "start_time": "2024-11-20T18:08:48.663444Z"
    }
   },
   "cell_type": "code",
   "source": [
    "# в) Построение столбчатой диаграммы для женщин по цвету волос и цвета глаз\n",
    "# Фильтруем данные для женщин\n",
    "women_data = hair_eye_data[hair_eye_data['Sex'] == 'Female']\n",
    "\n",
    "# Строим сводную таблицу для распределения по цвету волос и глаз\n",
    "pivot_table = women_data.pivot_table(values='Freq', index='Hair', columns='Eye', aggfunc='sum', fill_value=0)\n",
    "pivot_table"
   ],
   "id": "1f4eee67183a50cd",
   "outputs": [
    {
     "data": {
      "text/plain": [
       "Eye    Blue  Brown  Green  Hazel\n",
       "Hair                            \n",
       "Black     9     36      2      5\n",
       "Blond    64      4      8      5\n",
       "Brown    34     66     14     29\n",
       "Red       7     16      7      7"
      ],
      "text/html": [
       "<div>\n",
       "<style scoped>\n",
       "    .dataframe tbody tr th:only-of-type {\n",
       "        vertical-align: middle;\n",
       "    }\n",
       "\n",
       "    .dataframe tbody tr th {\n",
       "        vertical-align: top;\n",
       "    }\n",
       "\n",
       "    .dataframe thead th {\n",
       "        text-align: right;\n",
       "    }\n",
       "</style>\n",
       "<table border=\"1\" class=\"dataframe\">\n",
       "  <thead>\n",
       "    <tr style=\"text-align: right;\">\n",
       "      <th>Eye</th>\n",
       "      <th>Blue</th>\n",
       "      <th>Brown</th>\n",
       "      <th>Green</th>\n",
       "      <th>Hazel</th>\n",
       "    </tr>\n",
       "    <tr>\n",
       "      <th>Hair</th>\n",
       "      <th></th>\n",
       "      <th></th>\n",
       "      <th></th>\n",
       "      <th></th>\n",
       "    </tr>\n",
       "  </thead>\n",
       "  <tbody>\n",
       "    <tr>\n",
       "      <th>Black</th>\n",
       "      <td>9</td>\n",
       "      <td>36</td>\n",
       "      <td>2</td>\n",
       "      <td>5</td>\n",
       "    </tr>\n",
       "    <tr>\n",
       "      <th>Blond</th>\n",
       "      <td>64</td>\n",
       "      <td>4</td>\n",
       "      <td>8</td>\n",
       "      <td>5</td>\n",
       "    </tr>\n",
       "    <tr>\n",
       "      <th>Brown</th>\n",
       "      <td>34</td>\n",
       "      <td>66</td>\n",
       "      <td>14</td>\n",
       "      <td>29</td>\n",
       "    </tr>\n",
       "    <tr>\n",
       "      <th>Red</th>\n",
       "      <td>7</td>\n",
       "      <td>16</td>\n",
       "      <td>7</td>\n",
       "      <td>7</td>\n",
       "    </tr>\n",
       "  </tbody>\n",
       "</table>\n",
       "</div>"
      ]
     },
     "execution_count": 233,
     "metadata": {},
     "output_type": "execute_result"
    }
   ],
   "execution_count": 233
  },
  {
   "metadata": {
    "ExecuteTime": {
     "end_time": "2024-11-20T18:08:48.824920Z",
     "start_time": "2024-11-20T18:08:48.704676Z"
    }
   },
   "cell_type": "code",
   "source": [
    "# Фильтруем данные только для женщин\n",
    "women_data = hair_eye_data[hair_eye_data['Sex'] == 'Female']\n",
    "\n",
    "# Создаем столбчатую диаграмму распределения цвета глаз по цвету волос\n",
    "plt.figure(figsize=(10, 6))\n",
    "sns.barplot(data=women_data, x='Hair', y='Freq', hue='Eye')\n",
    "\n",
    "# Настройка диаграммы\n",
    "plt.xlabel(\"Цвет волос\")\n",
    "plt.ylabel(\"Количество наблюдений\")\n",
    "plt.title(\"Распределение цвета глаз по цвету волос (только женщины)\")\n",
    "plt.legend(title=\"Цвет глаз\")\n",
    "\n",
    "plt.show()"
   ],
   "id": "642d4883afc38edd",
   "outputs": [
    {
     "data": {
      "text/plain": [
       "<Figure size 1000x600 with 1 Axes>"
      ],
      "image/png": "[encoded data removed]"
     },
     "metadata": {},
     "output_type": "display_data"
    }
   ],
   "execution_count": 234
  },
  {
   "metadata": {
    "ExecuteTime": {
     "end_time": "2024-11-20T18:08:48.961941Z",
     "start_time": "2024-11-20T18:08:48.847287Z"
    }
   },
   "cell_type": "code",
   "source": [
    "pivot_table.plot(kind='bar', stacked=True, figsize=(10, 6), cmap='Set2')\n",
    "plt.title('Распределение цвета глаз по цвету волос среди женщин')\n",
    "plt.xlabel('Цвет волос')\n",
    "plt.ylabel('Количество наблюдений')\n",
    "plt.xticks(rotation=45)\n",
    "plt.legend(title='Цвет глаз', bbox_to_anchor=(1.05, 1), loc='upper left')\n",
    "plt.tight_layout()\n",
    "\n",
    "# Выводим график и результаты\n",
    "plt.show()\n",
    "\n",
    "blond_men, blue_eye_women_count"
   ],
   "id": "54278f5acd30ccef",
   "outputs": [
    {
     "data": {
      "text/plain": [
       "<Figure size 1000x600 with 1 Axes>"
      ],
      "image/png": "[encoded data removed]"
     },
     "metadata": {},
     "output_type": "display_data"
    },
    {
     "data": {
      "text/plain": [
       "(np.float64(0.030612244897959183), np.int64(114))"
      ]
     },
     "execution_count": 235,
     "metadata": {},
     "output_type": "execute_result"
    }
   ],
   "execution_count": 235
  },
  {
   "metadata": {},
   "cell_type": "markdown",
   "source": [
    "**Задание №2**\n",
    "\n",
    "На основе таблицы HairEyeColor создайте ещё одну таблицу, в которой  хранится информация о распределении цвета глаз у женщин-брюнеток (Hair = 'Black'). Проведите тест равномерности распределения цвета глаз у брюнеток и выведите значение хи-квадрата для этого теста."
   ],
   "id": "4fbddd3177c0b3de"
  },
  {
   "metadata": {
    "ExecuteTime": {
     "end_time": "2024-11-20T18:08:48.976654Z",
     "start_time": "2024-11-20T18:08:48.971730Z"
    }
   },
   "cell_type": "code",
   "source": [
    "# Фильтруем данные для женщин с черными волосами (брюнеток)\n",
    "black_hair_women = hair_eye_data[(hair_eye_data['Hair'] == 'Black') & (hair_eye_data['Sex'] == 'Female')]\n",
    "\n",
    "# Формируем таблицу распределения цвета глаз у женщин-брюнеток\n",
    "black_hair_eye_distribution = black_hair_women[['Eye', 'Freq']].set_index('Eye')\n",
    "\n",
    "# Выполняем тест хи-квадрат на равномерность распределения цвета глаз\n",
    "chi2_stat, p_value = chisquare(black_hair_eye_distribution['Freq'])\n",
    "\n",
    "# Выводим таблицу и значение хи-квадрата\n",
    "black_hair_eye_distribution, chi2_stat"
   ],
   "id": "7f65537f2ead19f5",
   "outputs": [
    {
     "data": {
      "text/plain": [
       "(       Freq\n",
       " Eye        \n",
       " Brown    36\n",
       " Blue      9\n",
       " Hazel     5\n",
       " Green     2,\n",
       " np.float64(56.15384615384616))"
      ]
     },
     "execution_count": 236,
     "metadata": {},
     "output_type": "execute_result"
    }
   ],
   "execution_count": 236
  },
  {
   "metadata": {},
   "cell_type": "markdown",
   "source": "Значение статистики хи-квадрат для проверки равномерности распределения цвета глаз у брюнеток равно 56.15. Это высокое значение предполагает, что распределение цвета глаз значительно отклоняется от равномерного.",
   "id": "bab95c676f64c8b4"
  },
  {
   "metadata": {},
   "cell_type": "markdown",
   "source": [
    "**Задание №3**\n",
    "\n",
    "Воспользуемся данными из таблицы diamonds. При помощи критерия Хи - квадрат проверьте гипотезу о взаимосвязи цены (price) и каратов (carat) бриллиантов. Для этого сначала нужно перевести эти количественные переменные в формат пригодный для Хи - квадрат. Создайте две новые переменные в данных diamonds:\n",
    "\n",
    "factor_price - где будет 1, если значение цены больше либо равно чем среднее, и 0, если значение цены ниже среднего цены по выборке.\n",
    "\n",
    "factor_carat - где будет 1, если число карат больше либо равно чем среднее, и 0, если ниже среднего числа карат по выборке.\n",
    "\n",
    "Важный момент - на больших данных цикл for() работает довольно медленно, постарайтесь решить эту задачу без его использования!\n",
    "\n",
    "Используя эти шкалы при помощи Хи - квадрат проверьте исходную гипотезу. Сохраните в переменную main_stat значение критерия Хи - квадрат."
   ],
   "id": "697b2323a462a29b"
  },
  {
   "metadata": {
    "ExecuteTime": {
     "end_time": "2024-11-20T18:08:49.020494Z",
     "start_time": "2024-11-20T18:08:48.990865Z"
    }
   },
   "cell_type": "code",
   "source": [
    "# Загружаем данные из таблицы diamonds\n",
    "diamonds = pd.read_csv('info-folder/data/diamonds.csv')\n",
    "\n",
    "# Посмотрим на первые строки, чтобы понять структуру данных\n",
    "diamonds.head()"
   ],
   "id": "11dd897be23a74f9",
   "outputs": [
    {
     "data": {
      "text/plain": [
       "   Unnamed: 0  carat      cut color clarity  depth  table  price     x     y  \\\n",
       "0           1   0.23    Ideal     E     SI2   61.5   55.0    326  3.95  3.98   \n",
       "1           2   0.21  Premium     E     SI1   59.8   61.0    326  3.89  3.84   \n",
       "2           3   0.23     Good     E     VS1   56.9   65.0    327  4.05  4.07   \n",
       "3           4   0.29  Premium     I     VS2   62.4   58.0    334  4.20  4.23   \n",
       "4           5   0.31     Good     J     SI2   63.3   58.0    335  4.34  4.35   \n",
       "\n",
       "      z  \n",
       "0  2.43  \n",
       "1  2.31  \n",
       "2  2.31  \n",
       "3  2.63  \n",
       "4  2.75  "
      ],
      "text/html": [
       "<div>\n",
       "<style scoped>\n",
       "    .dataframe tbody tr th:only-of-type {\n",
       "        vertical-align: middle;\n",
       "    }\n",
       "\n",
       "    .dataframe tbody tr th {\n",
       "        vertical-align: top;\n",
       "    }\n",
       "\n",
       "    .dataframe thead th {\n",
       "        text-align: right;\n",
       "    }\n",
       "</style>\n",
       "<table border=\"1\" class=\"dataframe\">\n",
       "  <thead>\n",
       "    <tr style=\"text-align: right;\">\n",
       "      <th></th>\n",
       "      <th>Unnamed: 0</th>\n",
       "      <th>carat</th>\n",
       "      <th>cut</th>\n",
       "      <th>color</th>\n",
       "      <th>clarity</th>\n",
       "      <th>depth</th>\n",
       "      <th>table</th>\n",
       "      <th>price</th>\n",
       "      <th>x</th>\n",
       "      <th>y</th>\n",
       "      <th>z</th>\n",
       "    </tr>\n",
       "  </thead>\n",
       "  <tbody>\n",
       "    <tr>\n",
       "      <th>0</th>\n",
       "      <td>1</td>\n",
       "      <td>0.23</td>\n",
       "      <td>Ideal</td>\n",
       "      <td>E</td>\n",
       "      <td>SI2</td>\n",
       "      <td>61.5</td>\n",
       "      <td>55.0</td>\n",
       "      <td>326</td>\n",
       "      <td>3.95</td>\n",
       "      <td>3.98</td>\n",
       "      <td>2.43</td>\n",
       "    </tr>\n",
       "    <tr>\n",
       "      <th>1</th>\n",
       "      <td>2</td>\n",
       "      <td>0.21</td>\n",
       "      <td>Premium</td>\n",
       "      <td>E</td>\n",
       "      <td>SI1</td>\n",
       "      <td>59.8</td>\n",
       "      <td>61.0</td>\n",
       "      <td>326</td>\n",
       "      <td>3.89</td>\n",
       "      <td>3.84</td>\n",
       "      <td>2.31</td>\n",
       "    </tr>\n",
       "    <tr>\n",
       "      <th>2</th>\n",
       "      <td>3</td>\n",
       "      <td>0.23</td>\n",
       "      <td>Good</td>\n",
       "      <td>E</td>\n",
       "      <td>VS1</td>\n",
       "      <td>56.9</td>\n",
       "      <td>65.0</td>\n",
       "      <td>327</td>\n",
       "      <td>4.05</td>\n",
       "      <td>4.07</td>\n",
       "      <td>2.31</td>\n",
       "    </tr>\n",
       "    <tr>\n",
       "      <th>3</th>\n",
       "      <td>4</td>\n",
       "      <td>0.29</td>\n",
       "      <td>Premium</td>\n",
       "      <td>I</td>\n",
       "      <td>VS2</td>\n",
       "      <td>62.4</td>\n",
       "      <td>58.0</td>\n",
       "      <td>334</td>\n",
       "      <td>4.20</td>\n",
       "      <td>4.23</td>\n",
       "      <td>2.63</td>\n",
       "    </tr>\n",
       "    <tr>\n",
       "      <th>4</th>\n",
       "      <td>5</td>\n",
       "      <td>0.31</td>\n",
       "      <td>Good</td>\n",
       "      <td>J</td>\n",
       "      <td>SI2</td>\n",
       "      <td>63.3</td>\n",
       "      <td>58.0</td>\n",
       "      <td>335</td>\n",
       "      <td>4.34</td>\n",
       "      <td>4.35</td>\n",
       "      <td>2.75</td>\n",
       "    </tr>\n",
       "  </tbody>\n",
       "</table>\n",
       "</div>"
      ]
     },
     "execution_count": 237,
     "metadata": {},
     "output_type": "execute_result"
    }
   ],
   "execution_count": 237
  },
  {
   "metadata": {
    "ExecuteTime": {
     "end_time": "2024-11-20T18:08:49.064196Z",
     "start_time": "2024-11-20T18:08:49.057017Z"
    }
   },
   "cell_type": "code",
   "source": [
    "# Вычислим средние значения для `price` и `carat`\n",
    "mean_price = diamonds['price'].mean()\n",
    "mean_carat = diamonds['carat'].mean()\n",
    "\n",
    "# Создадим переменные `factor_price` и `factor_carat` без цикла for, используя сравнение и преобразование данных\n",
    "diamonds['factor_price'] = (diamonds['price'] >= mean_price).astype(int)\n",
    "diamonds['factor_carat'] = (diamonds['carat'] >= mean_carat).astype(int)\n",
    "\n",
    "# Проверим, что новые столбцы добавлены и отображают нужные значения\n",
    "diamonds[['price', 'factor_price', 'carat', 'factor_carat']].head()"
   ],
   "id": "490df4829b3a9c76",
   "outputs": [
    {
     "data": {
      "text/plain": [
       "   price  factor_price  carat  factor_carat\n",
       "0    326             0   0.23             0\n",
       "1    326             0   0.21             0\n",
       "2    327             0   0.23             0\n",
       "3    334             0   0.29             0\n",
       "4    335             0   0.31             0"
      ],
      "text/html": [
       "<div>\n",
       "<style scoped>\n",
       "    .dataframe tbody tr th:only-of-type {\n",
       "        vertical-align: middle;\n",
       "    }\n",
       "\n",
       "    .dataframe tbody tr th {\n",
       "        vertical-align: top;\n",
       "    }\n",
       "\n",
       "    .dataframe thead th {\n",
       "        text-align: right;\n",
       "    }\n",
       "</style>\n",
       "<table border=\"1\" class=\"dataframe\">\n",
       "  <thead>\n",
       "    <tr style=\"text-align: right;\">\n",
       "      <th></th>\n",
       "      <th>price</th>\n",
       "      <th>factor_price</th>\n",
       "      <th>carat</th>\n",
       "      <th>factor_carat</th>\n",
       "    </tr>\n",
       "  </thead>\n",
       "  <tbody>\n",
       "    <tr>\n",
       "      <th>0</th>\n",
       "      <td>326</td>\n",
       "      <td>0</td>\n",
       "      <td>0.23</td>\n",
       "      <td>0</td>\n",
       "    </tr>\n",
       "    <tr>\n",
       "      <th>1</th>\n",
       "      <td>326</td>\n",
       "      <td>0</td>\n",
       "      <td>0.21</td>\n",
       "      <td>0</td>\n",
       "    </tr>\n",
       "    <tr>\n",
       "      <th>2</th>\n",
       "      <td>327</td>\n",
       "      <td>0</td>\n",
       "      <td>0.23</td>\n",
       "      <td>0</td>\n",
       "    </tr>\n",
       "    <tr>\n",
       "      <th>3</th>\n",
       "      <td>334</td>\n",
       "      <td>0</td>\n",
       "      <td>0.29</td>\n",
       "      <td>0</td>\n",
       "    </tr>\n",
       "    <tr>\n",
       "      <th>4</th>\n",
       "      <td>335</td>\n",
       "      <td>0</td>\n",
       "      <td>0.31</td>\n",
       "      <td>0</td>\n",
       "    </tr>\n",
       "  </tbody>\n",
       "</table>\n",
       "</div>"
      ]
     },
     "execution_count": 238,
     "metadata": {},
     "output_type": "execute_result"
    }
   ],
   "execution_count": 238
  },
  {
   "metadata": {},
   "cell_type": "markdown",
   "source": "Создается таблица частот (контингентная таблица) для двух категориальных переменных.",
   "id": "3775979c50f74794"
  },
  {
   "metadata": {
    "ExecuteTime": {
     "end_time": "2024-11-20T18:08:49.118612Z",
     "start_time": "2024-11-20T18:08:49.112516Z"
    }
   },
   "cell_type": "code",
   "source": [
    "contingency_table = pd.crosstab(diamonds['factor_price'], diamonds['factor_carat'])\n",
    "\n",
    "chi2_stat, p_val, dof, expected = chi2_contingency(contingency_table)\n",
    "\n",
    "# Сохраним значение статистики\n",
    "main_stat = chi2_stat"
   ],
   "id": "863213f011587233",
   "outputs": [],
   "execution_count": 239
  },
  {
   "metadata": {},
   "cell_type": "markdown",
   "source": "Выводим значение статистики Хи-квадрат и p-значение для проверки гипотезы.\n",
   "id": "d3d9007d7ca11be2"
  },
  {
   "metadata": {
    "ExecuteTime": {
     "end_time": "2024-11-20T18:08:49.146792Z",
     "start_time": "2024-11-20T18:08:49.144834Z"
    }
   },
   "cell_type": "code",
   "source": [
    "print(\"Хи-квадрат статистика:\", main_stat)\n",
    "print(\"p-значение:\", p_val)"
   ],
   "id": "21fc8a0341fa243c",
   "outputs": [
    {
     "name": "stdout",
     "output_type": "stream",
     "text": [
      "Хи-квадрат статистика: 40735.2227968624\n",
      "p-значение: 0.0\n"
     ]
    }
   ],
   "execution_count": 240
  },
  {
   "metadata": {},
   "cell_type": "markdown",
   "source": "При таком низком p-значении отклоняем нулевую гипотезу о независимости между ценой (price) и числом карат (carat). Это означает, что между этими переменными существует статистически значимая взаимосвязь.",
   "id": "3dd2026c359705fb"
  },
  {
   "metadata": {},
   "cell_type": "markdown",
   "source": "Цены бриллиантов и их вес (в каратах) связаны: более тяжелые бриллианты (больше карат) чаще имеют более высокую цену.",
   "id": "c23899d282b0d0c4"
  },
  {
   "metadata": {},
   "cell_type": "markdown",
   "source": [
    "**Задание №4**\n",
    "\n",
    "Воспользуйтесь таблицей mtcars. При помощи точного критерия Фишера проверьте гипотезу о взаимосвязи типа коробки передач (am) и типа двигателя (vs) в данных mtcars. Результат выполнения критерия сохраните в переменную. Получившийся p - уровень значимости сохраните в переменную fisher_test."
   ],
   "id": "f1f49a0673e61ebd"
  },
  {
   "metadata": {
    "ExecuteTime": {
     "end_time": "2024-11-20T18:08:49.231193Z",
     "start_time": "2024-11-20T18:08:49.224442Z"
    }
   },
   "cell_type": "code",
   "source": [
    "# Шаг 1: Загрузить данные\n",
    "mtcars = pd.read_csv(\"info-folder/data/mtcars.csv\")\n",
    "\n",
    "# Шаг 2: Построить таблицу сопряженности между переменными `am` и `vs`\n",
    "contingency_table = pd.crosstab(mtcars['am'], mtcars['vs'])\n",
    "\n",
    "# Шаг 3: Применить тест Фишера\n",
    "_, fisher_test = fisher_exact(contingency_table)\n",
    "\n",
    "# Шаг 4: Вывод результата\n",
    "print(\"p-уровень значимости для критерия Фишера:\", fisher_test)"
   ],
   "id": "19e388280ab33de0",
   "outputs": [
    {
     "name": "stdout",
     "output_type": "stream",
     "text": [
      "p-уровень значимости для критерия Фишера: 0.47269744160177996\n"
     ]
    }
   ],
   "execution_count": 241
  },
  {
   "metadata": {},
   "cell_type": "markdown",
   "source": [
    "**Задание №5**\n",
    "\n",
    "Воспользуйтесь таблицей ToothGrowth. Данные позволяют исследовать рост зубов у морских свинок в зависимости от дозировки витамина C и типа потребляемых продуктов. Сравните среднее значение длины зубов свинок, которые потребляли апельсиновый сок (OJ) с дозировкой 0.5 миллиграмм, со средним значением длины зубов свинок, которые потребляли аскорбиновую кислоту (VC) с дозировкой 2 миллиграмма. Значение t - критерия сохраните в \n",
    "переменную t_stat."
   ],
   "id": "bbe756713fa40d83"
  },
  {
   "metadata": {
    "ExecuteTime": {
     "end_time": "2024-11-20T18:08:49.251766Z",
     "start_time": "2024-11-20T18:08:49.245503Z"
    }
   },
   "cell_type": "code",
   "source": [
    "data = pd.read_csv(\"info-folder/data/ToothGrowth.csv\")\n",
    "\n",
    "data.head(), data.info()"
   ],
   "id": "1edce6c7f1ee44d1",
   "outputs": [
    {
     "name": "stdout",
     "output_type": "stream",
     "text": [
      "<class 'pandas.core.frame.DataFrame'>\n",
      "RangeIndex: 60 entries, 0 to 59\n",
      "Data columns (total 4 columns):\n",
      " #   Column    Non-Null Count  Dtype  \n",
      "---  ------    --------------  -----  \n",
      " 0   rownames  60 non-null     int64  \n",
      " 1   len       60 non-null     float64\n",
      " 2   supp      60 non-null     object \n",
      " 3   dose      60 non-null     float64\n",
      "dtypes: float64(2), int64(1), object(1)\n",
      "memory usage: 2.0+ KB\n"
     ]
    },
    {
     "data": {
      "text/plain": [
       "(   rownames   len supp  dose\n",
       " 0         1   4.2   VC   0.5\n",
       " 1         2  11.5   VC   0.5\n",
       " 2         3   7.3   VC   0.5\n",
       " 3         4   5.8   VC   0.5\n",
       " 4         5   6.4   VC   0.5,\n",
       " None)"
      ]
     },
     "execution_count": 242,
     "metadata": {},
     "output_type": "execute_result"
    }
   ],
   "execution_count": 242
  },
  {
   "metadata": {
    "ExecuteTime": {
     "end_time": "2024-11-20T18:08:49.287659Z",
     "start_time": "2024-11-20T18:08:49.282622Z"
    }
   },
   "cell_type": "code",
   "source": [
    "# Filter the data for the two specified groups\n",
    "\n",
    "oj_05 = data[(data['supp'] == 'OJ') & (data['dose'] == 0.5)]['len']\n",
    "vc_2 = data[(data['supp'] == 'VC') & (data['dose'] == 2.0)]['len']\n",
    "\n",
    "# Perform the t-test\n",
    "t_stat, p_value = ttest_ind(oj_05, vc_2, equal_var=False)\n",
    "\n",
    "t_stat, p_value"
   ],
   "id": "65cc56b59d4632a6",
   "outputs": [
    {
     "data": {
      "text/plain": [
       "(np.float64(-6.232482137515355), np.float64(7.196253524006046e-06))"
      ]
     },
     "execution_count": 243,
     "metadata": {},
     "output_type": "execute_result"
    }
   ],
   "execution_count": 243
  },
  {
   "metadata": {},
   "cell_type": "markdown",
   "source": [
    "    **Задание №6**\n",
    "\n",
    "В этом задании нужно проверить гипотезу о равенстве средних двух выборок, загрузив набор данных из файла «dataset_11504_15.txt» и выполнив все необходимые операции на вашем компьютере. В скачанных данных вы найдете две переменные: количественную переменную, и номинативную переменную с двумя градациями (которая разделяет наблюдения на две группы).\n",
    "\n",
    "Сначала с помощью теста Бартлетта проверьте гомогенность дисперсий двух выборок. В случае, если дисперсии значимо не отличаются (с уровнем 0.05), примените тест Стьюдента, иначе - непараметрический тест (Манна-Уитни). Выведите получившийся p-value, с точностью четыре знака после запятой."
   ],
   "id": "45b3458f01d0f8cb"
  },
  {
   "metadata": {
    "ExecuteTime": {
     "end_time": "2024-11-20T18:08:49.312887Z",
     "start_time": "2024-11-20T18:08:49.302317Z"
    }
   },
   "cell_type": "code",
   "source": [
    "# Данные\n",
    "data11504 = [\n",
    "    (-1.665, 1), (-3.638, 1), (-3.3, 1), (2.614, 1), (2.231, 1), (-3.392, 1), \n",
    "    (0.358, 1), (4.976, 1), (-3.132, 1), (0.671, 1), (2.183, 1), (-4.491, 1), \n",
    "    (-3.626, 1), (1.681, 1), (-2.716, 1), (5.201, 1), (3.332, 1), (-2.086, 1), \n",
    "    (1.762, 1), (-5.032, 1), (-6.969, 1), (-2.203, 1), (3.57, 1), (2.029, 1), \n",
    "    (-5.483, 1), (-0.391, 1), (-1.334, 1), (-3.286, 1), (-0.266, 1), (3.732, 1), \n",
    "    (-0.286, 1), (1.692, 1), (0.459, 1), (-3.428, 1), (-4.705, 1), (-5.588, 1), \n",
    "    (2.302, 1), (1.721, 1), (3.81, 1), (-1.008, 1), (0.184, 1), (0.222, 1), \n",
    "    (-3.723, 1), (0.51, 1), (0.044, 1), (4.783, 1), (-0.702, 1), (-2.183, 1), \n",
    "    (-6.242, 1), (3.784, 1), (-0.494, 2), (4.301, 2), (5.027, 2), (-2.954, 2), \n",
    "    (2.005, 2), (0.187, 2), (4.286, 2), (-0.061, 2), (2.999, 2), (0.354, 2), \n",
    "    (-4.225, 2), (1.128, 2), (2.067, 2), (7.354, 2), (-2.747, 2), (-0.62, 2), \n",
    "    (2.127, 2), (2.589, 2), (0.394, 2), (4.037, 2), (-0.259, 2), (2.397, 2), \n",
    "    (-1.297, 2), (-2.085, 2), (-6.259, 2), (-1.044, 2), (0.154, 2), (-1.585, 2), \n",
    "    (-2.733, 2), (7.489, 2), (-0.733, 2), (0.861, 2), (-4.449, 2), (4.416, 2), \n",
    "    (1.094, 2), (-0.103, 2), (0.442, 2), (-1.567, 2), (-3.259, 2), (-2.785, 2), \n",
    "    (1.685, 2), (-4.602, 2), (-4.761, 2), (4.954, 2), (2.176, 2), (0.596, 2), \n",
    "    (2.161, 2), (-2.943, 2), (0.101, 2), (3.692, 2)\n",
    "]\n",
    "\n",
    "# Разделение данных на группы\n",
    "group1 = [x[0] for x in data11504 if x[1] == 1]\n",
    "group2 = [x[0] for x in data11504 if x[1] == 2]\n",
    "\n",
    "# Тест Бартлетта\n",
    "bartlett_stat, bartlett_p = bartlett(group1, group2)\n",
    "\n",
    "p = 0.05\n",
    "# Выбор и выполнение теста\n",
    "if bartlett_p >= p:\n",
    "    # Гомогенность дисперсий: применяем t-тест\n",
    "    test_stat, p_value = ttest_ind(group1, group2)\n",
    "else:\n",
    "    # Дисперсии значимо различны: применяем тест Манна-Уитни\n",
    "    test_stat, p_value = mannwhitneyu(group1, group2)\n",
    "\n",
    "round(p_value, 4), bartlett_p"
   ],
   "id": "cf0ea75caba36590",
   "outputs": [
    {
     "data": {
      "text/plain": [
       "(np.float64(0.1441), np.float64(0.8272024304173038))"
      ]
     },
     "execution_count": 244,
     "metadata": {},
     "output_type": "execute_result"
    }
   ],
   "execution_count": 244
  },
  {
   "metadata": {},
   "cell_type": "markdown",
   "source": [
    "Пояснение:\n",
    "\n",
    "Тест Бартлетта: Проверяет, различаются ли дисперсии двух выборок. Если p-value больше 0.05, это означает, что дисперсии не различаются значимо.\n",
    "\n",
    "Тест Стьюдента: Если дисперсии равны (по результатам теста Бартлетта), применяем стандартный t-тест для независимых выборок.\n",
    "\n",
    "Тест Манна-Уитни: Если дисперсии различаются (по результатам теста Бартлетта), применяем непараметрический тест Манна-Уитни для сравнения двух независимых выборок.\n",
    "\n"
   ],
   "id": "e0335fe09ca4b006"
  },
  {
   "metadata": {},
   "cell_type": "markdown",
   "source": "",
   "id": "663640d40289e416"
  }
 ],
 "metadata": {
  "kernelspec": {
   "display_name": "Python 3",
   "language": "python",
   "name": "python3"
  },
  "language_info": {
   "codemirror_mode": {
    "name": "ipython",
    "version": 2
   },
   "file_extension": ".py",
   "mimetype": "text/x-python",
   "name": "python",
   "nbconvert_exporter": "python",
   "pygments_lexer": "ipython2",
   "version": "2.7.6"
  }
 },
 "nbformat": 4,
 "nbformat_minor": 5
}
